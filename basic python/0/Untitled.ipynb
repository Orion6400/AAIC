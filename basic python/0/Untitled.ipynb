{
 "cells": [
  {
   "cell_type": "markdown",
   "id": "e085849e",
   "metadata": {},
   "source": [
    "# 1. wap to take input a number and return the multiplication of number"
   ]
  },
  {
   "cell_type": "code",
   "execution_count": 749,
   "id": "ea67caa2",
   "metadata": {},
   "outputs": [
    {
     "name": "stdout",
     "output_type": "stream",
     "text": [
      "[2, 4, 6, 8, 10, 12, 14, 16, 18, 20]\n"
     ]
    }
   ],
   "source": [
    "def pro(i):\n",
    "    a = [i*n for n in range(1,11)]\n",
    "    return a\n",
    "\n",
    "print(pro(2))"
   ]
  },
  {
   "cell_type": "markdown",
   "id": "4d8781f1",
   "metadata": {},
   "source": [
    "# 2. wap to pint the twin prime less than 1000"
   ]
  },
  {
   "cell_type": "code",
   "execution_count": 750,
   "id": "25822562",
   "metadata": {},
   "outputs": [],
   "source": [
    "def twinprime(maxrange):\n",
    "    pair=[]\n",
    "    a = []\n",
    "    b= []\n",
    "    for x in range(2,maxrange):\n",
    "        for y in range(2,(x//2)+1):\n",
    "            if(x % y) == 0:\n",
    "                break\n",
    "        else:\n",
    "            pair.append(x)\n",
    "    pair.sort() \n",
    "    for dig in range(len(pair)):\n",
    "        if pair[dig]+2 in pair:\n",
    "            a.append(pair[dig])\n",
    "            b.append(pair[dig]+2)\n",
    "    item = zip(a,b)\n",
    "    print(list(item),end=\" \")            "
   ]
  },
  {
   "cell_type": "code",
   "execution_count": 751,
   "id": "41c5cd48",
   "metadata": {
    "scrolled": false
   },
   "outputs": [
    {
     "name": "stdout",
     "output_type": "stream",
     "text": [
      "[(3, 5), (5, 7), (11, 13), (17, 19), (29, 31), (41, 43), (59, 61), (71, 73), (101, 103), (107, 109), (137, 139), (149, 151), (179, 181), (191, 193), (197, 199), (227, 229), (239, 241), (269, 271), (281, 283), (311, 313), (347, 349), (419, 421), (431, 433), (461, 463), (521, 523), (569, 571), (599, 601), (617, 619), (641, 643), (659, 661), (809, 811), (821, 823), (827, 829), (857, 859), (881, 883)] "
     ]
    }
   ],
   "source": [
    "twinprime(1000)"
   ]
  },
  {
   "cell_type": "markdown",
   "id": "59a51aee",
   "metadata": {},
   "source": [
    "# 3.wap for the print the prime factors of the number"
   ]
  },
  {
   "cell_type": "code",
   "execution_count": 752,
   "id": "01c9c907",
   "metadata": {},
   "outputs": [],
   "source": [
    "def primefactor(num):\n",
    "    prime=[]\n",
    "    b = []\n",
    "    for x in range(2,(num//2)+1):\n",
    "        for y in range(2,(x//2)+1):\n",
    "            if(x % y) == 0:\n",
    "                break\n",
    "        else:\n",
    "            prime.append(x)\n",
    "    for x in range(len(prime)):\n",
    "        if(num%prime[x]==0):\n",
    "            while(num%prime[x]==0):\n",
    "                num = num//prime[x]\n",
    "                b.append(prime[x])\n",
    "    return(b)        "
   ]
  },
  {
   "cell_type": "code",
   "execution_count": 753,
   "id": "30eebd16",
   "metadata": {},
   "outputs": [
    {
     "data": {
      "text/plain": [
       "[2, 2, 2, 7]"
      ]
     },
     "execution_count": 753,
     "metadata": {},
     "output_type": "execute_result"
    }
   ],
   "source": [
    "primefactor(56)"
   ]
  },
  {
   "cell_type": "markdown",
   "id": "e613f535",
   "metadata": {},
   "source": [
    "# 5. wap to covert the decimal to binary number"
   ]
  },
  {
   "cell_type": "code",
   "execution_count": 754,
   "id": "88309815",
   "metadata": {},
   "outputs": [],
   "source": [
    "def dectobi(num):\n",
    "    rem=[]\n",
    "    while num>0:\n",
    "        a = num%2\n",
    "        rem.append(a)\n",
    "        num = num//2\n",
    "    return(''.join(map(str,rem[::-1])))"
   ]
  },
  {
   "cell_type": "code",
   "execution_count": 755,
   "id": "98f0fd1e",
   "metadata": {},
   "outputs": [
    {
     "data": {
      "text/plain": [
       "'110'"
      ]
     },
     "execution_count": 755,
     "metadata": {},
     "output_type": "execute_result"
    }
   ],
   "source": [
    "dectobi(6)"
   ]
  },
  {
   "cell_type": "markdown",
   "id": "ad68c1de",
   "metadata": {},
   "source": [
    "# 12. wap to filter odd number from the list"
   ]
  },
  {
   "cell_type": "code",
   "execution_count": 756,
   "id": "bec2dd62",
   "metadata": {},
   "outputs": [
    {
     "name": "stdout",
     "output_type": "stream",
     "text": [
      "1 3 5 7 9 5 13 1 41 15 11 19 17 83 "
     ]
    }
   ],
   "source": [
    "def odd(list_1):\n",
    "        if(list_1%2 == 0):\n",
    "            return False\n",
    "        return True\n",
    "\n",
    "r_list =[1,3,2,5,7,9,6,5,13,1,41,15,11,19,17,83]\n",
    "\n",
    "task = list(filter(odd,r_list))\n",
    "for responce in task:\n",
    "    print(responce,end=\" \")"
   ]
  },
  {
   "cell_type": "markdown",
   "id": "c9360006",
   "metadata": {},
   "source": [
    "# 7. wap to print the product of the digit"
   ]
  },
  {
   "cell_type": "code",
   "execution_count": 757,
   "id": "9f75f1bf",
   "metadata": {},
   "outputs": [],
   "source": [
    "def prodDigits(num):\n",
    "    prod = 1\n",
    "    while num>1:\n",
    "        a = num%10\n",
    "        prod = prod*a\n",
    "        num = num//10\n",
    "    return(prod)"
   ]
  },
  {
   "cell_type": "code",
   "execution_count": 758,
   "id": "5a40fe3f",
   "metadata": {
    "scrolled": true
   },
   "outputs": [
    {
     "data": {
      "text/plain": [
       "20"
      ]
     },
     "execution_count": 758,
     "metadata": {},
     "output_type": "execute_result"
    }
   ],
   "source": [
    "prodDigits(145)"
   ]
  },
  {
   "cell_type": "markdown",
   "id": "b56ad309",
   "metadata": {},
   "source": [
    "# 9.wap to print the sum of proper divisors of the number"
   ]
  },
  {
   "cell_type": "code",
   "execution_count": 759,
   "id": "ba6f8c65",
   "metadata": {},
   "outputs": [],
   "source": [
    "def sumPdivisors(num):\n",
    "    sum1 = 0\n",
    "    for x in range(1,(num//2)+1):\n",
    "        if num%x == 0:\n",
    "            sum1 = sum1+x\n",
    "    return(sum1)"
   ]
  },
  {
   "cell_type": "code",
   "execution_count": 760,
   "id": "dac852d9",
   "metadata": {},
   "outputs": [
    {
     "data": {
      "text/plain": [
       "55"
      ]
     },
     "execution_count": 760,
     "metadata": {},
     "output_type": "execute_result"
    }
   ],
   "source": [
    "sumPdivisors(36)"
   ]
  },
  {
   "cell_type": "markdown",
   "id": "24e83910",
   "metadata": {},
   "source": [
    "# 10. wap to print the perfect number from the range"
   ]
  },
  {
   "cell_type": "code",
   "execution_count": 761,
   "id": "d1ec0969",
   "metadata": {},
   "outputs": [],
   "source": [
    "def perfectnum(min_range,max_range):\n",
    "    for num in range(min_range,max_range+1): \n",
    "        sum1 = 0\n",
    "        for x in range(1,(num//2)+1):\n",
    "            if num%x == 0:\n",
    "                sum1 = sum1+x\n",
    "                if sum1 == num:\n",
    "                    print(num,end=' ')"
   ]
  },
  {
   "cell_type": "code",
   "execution_count": 762,
   "id": "4e2155e6",
   "metadata": {},
   "outputs": [
    {
     "name": "stdout",
     "output_type": "stream",
     "text": [
      "24 28 "
     ]
    }
   ],
   "source": [
    "perfectnum(20,30)"
   ]
  },
  {
   "cell_type": "markdown",
   "id": "7c78fafb",
   "metadata": {},
   "source": [
    "# 8. wap for the multiplicative digital roots and its persistence"
   ]
  },
  {
   "cell_type": "code",
   "execution_count": 763,
   "id": "14449856",
   "metadata": {},
   "outputs": [],
   "source": [
    "def MDR(num):\n",
    "    count = 0\n",
    "    while num>10:\n",
    "        count = count+1\n",
    "        pro = prodDigits(num)   #using prodDigits()\n",
    "        print(\"digit:\",pro)\n",
    "        print(\"term:\",count)\n",
    "        if(pro>10):\n",
    "            pass    \n",
    "        num = pro   "
   ]
  },
  {
   "cell_type": "code",
   "execution_count": 764,
   "id": "e9743d6e",
   "metadata": {},
   "outputs": [
    {
     "name": "stdout",
     "output_type": "stream",
     "text": [
      "digit: 48\n",
      "term: 1\n",
      "digit: 32\n",
      "term: 2\n",
      "digit: 6\n",
      "term: 3\n"
     ]
    }
   ],
   "source": [
    "MDR(86)"
   ]
  },
  {
   "cell_type": "markdown",
   "id": "38a5c629",
   "metadata": {},
   "source": [
    "# 6. wap for print cube sum , armstrong and isArmstrong "
   ]
  },
  {
   "cell_type": "code",
   "execution_count": 765,
   "id": "3d9cccf9",
   "metadata": {},
   "outputs": [],
   "source": [
    "def sumcube(num):\n",
    "    sum1 = 0\n",
    "    while num>=1:\n",
    "        a = num%10\n",
    "        cube = a**3\n",
    "        sum1 = sum1+cube  \n",
    "        num = num//10\n",
    "    return(sum1)\n",
    "\n",
    "def armstrong(num):\n",
    "    digit = sumcube(num)\n",
    "    if digit == num:\n",
    "        return(num)\n",
    "\n",
    "def isarmstrong(num):\n",
    "    a = armstrong(num)\n",
    "    if a:\n",
    "        return(\"yes its armstrong\")\n",
    "    else:\n",
    "        return(\"sorry\")"
   ]
  },
  {
   "cell_type": "code",
   "execution_count": 766,
   "id": "8348e857",
   "metadata": {},
   "outputs": [
    {
     "data": {
      "text/plain": [
       "153"
      ]
     },
     "execution_count": 766,
     "metadata": {},
     "output_type": "execute_result"
    }
   ],
   "source": [
    "sumcube(153)"
   ]
  },
  {
   "cell_type": "code",
   "execution_count": 767,
   "id": "b2b804fd",
   "metadata": {},
   "outputs": [
    {
     "data": {
      "text/plain": [
       "153"
      ]
     },
     "execution_count": 767,
     "metadata": {},
     "output_type": "execute_result"
    }
   ],
   "source": [
    "armstrong(153)"
   ]
  },
  {
   "cell_type": "code",
   "execution_count": 768,
   "id": "e530771d",
   "metadata": {},
   "outputs": [
    {
     "data": {
      "text/plain": [
       "'yes its armstrong'"
      ]
     },
     "execution_count": 768,
     "metadata": {},
     "output_type": "execute_result"
    }
   ],
   "source": [
    "isarmstrong(153)"
   ]
  },
  {
   "cell_type": "markdown",
   "id": "2049f02a",
   "metadata": {},
   "source": [
    "# 11. wap for print the pair of the amicable number in the given range"
   ]
  },
  {
   "cell_type": "code",
   "execution_count": 769,
   "id": "886f7ca3",
   "metadata": {},
   "outputs": [],
   "source": [
    "def amicable(min_range,max_range):\n",
    "    for num in range(min_range,max_range+1): \n",
    "        sum1 = 0\n",
    "        sum2 = 0\n",
    "        for x in range(1,(num//2)+1):\n",
    "            if num%x == 0:\n",
    "                sum1 = sum1+x\n",
    "        num2 = sum1\n",
    "        if num2<= max_range:\n",
    "            for x in range(1,(num2//2)+1):\n",
    "                if num2%x == 0:\n",
    "                    sum2 = sum2+x\n",
    "            if sum2 == num and num != num2:\n",
    "                print(num,num2)   "
   ]
  },
  {
   "cell_type": "code",
   "execution_count": 770,
   "id": "2ed5ea30",
   "metadata": {},
   "outputs": [
    {
     "name": "stdout",
     "output_type": "stream",
     "text": [
      "220 284\n",
      "284 220\n"
     ]
    }
   ],
   "source": [
    "amicable(200,300)"
   ]
  },
  {
   "cell_type": "markdown",
   "id": "4c554b0f",
   "metadata": {},
   "source": [
    "# 4. c(n/r) = n!/r!(n-r)! = p(n!/(n-r)!) proof by evaluate the equation"
   ]
  },
  {
   "cell_type": "code",
   "execution_count": 771,
   "id": "2cb099c7",
   "metadata": {},
   "outputs": [],
   "source": [
    "def formula(n,r):\n",
    "    nf,df,rf = 1,1,1\n",
    "    drv = (n-r)\n",
    "    while drv>=1:\n",
    "        df = df*drv\n",
    "        drv = drv-1        \n",
    "    while n>=1:\n",
    "        nf = nf*n\n",
    "        n = n-1\n",
    "    while r>=1:\n",
    "        rf = rf*r\n",
    "        r = r-1\n",
    "        \n",
    "    per = (nf//df)//rf\n",
    "    com = nf//(rf*df)\n",
    "    print(per,com)        #c(n/r) = n!/r!(n-r)! = p(n!/(n-r)!)"
   ]
  },
  {
   "cell_type": "code",
   "execution_count": 772,
   "id": "9fbb23d8",
   "metadata": {},
   "outputs": [
    {
     "name": "stdout",
     "output_type": "stream",
     "text": [
      "4 4\n"
     ]
    }
   ],
   "source": [
    "formula(4,3)"
   ]
  },
  {
   "cell_type": "markdown",
   "id": "c30dd67e",
   "metadata": {},
   "source": [
    "# 13. wap which can map() to make a list whose element are cube of element in a given list"
   ]
  },
  {
   "cell_type": "code",
   "execution_count": 773,
   "id": "5d6844ff",
   "metadata": {},
   "outputs": [
    {
     "name": "stdout",
     "output_type": "stream",
     "text": [
      "[1, 8, 64, 27]\n"
     ]
    }
   ],
   "source": [
    "def cubes(r_list):\n",
    "     return(r_list**3)\n",
    "        \n",
    "r_list = [1,2,4,3]\n",
    "\n",
    "task = map(cubes,r_list)\n",
    "print(list(task))"
   ]
  },
  {
   "cell_type": "markdown",
   "id": "e23b0c2a",
   "metadata": {},
   "source": [
    "# 14.wap which can map() and filter () to make a list whose element are cube of element of even number in a given list"
   ]
  },
  {
   "cell_type": "code",
   "execution_count": 774,
   "id": "1890de43",
   "metadata": {},
   "outputs": [
    {
     "name": "stdout",
     "output_type": "stream",
     "text": [
      "[8, 512, 216]\n"
     ]
    }
   ],
   "source": [
    "def even(list_1):\n",
    "        if(list_1%2 == 0):\n",
    "            return True\n",
    "        return False\n",
    "\n",
    "r_list =[2,5,7,8,6,5]\n",
    "\n",
    "task = list(filter(even,r_list))\n",
    "f_list = []\n",
    "for x in task:\n",
    "    f_list.append(x**3)\n",
    "print(f_list)"
   ]
  }
 ],
 "metadata": {
  "kernelspec": {
   "display_name": "Python 3",
   "language": "python",
   "name": "python3"
  },
  "language_info": {
   "codemirror_mode": {
    "name": "ipython",
    "version": 3
   },
   "file_extension": ".py",
   "mimetype": "text/x-python",
   "name": "python",
   "nbconvert_exporter": "python",
   "pygments_lexer": "ipython3",
   "version": "3.8.8"
  }
 },
 "nbformat": 4,
 "nbformat_minor": 5
}
