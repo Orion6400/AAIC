{
 "cells": [
  {
   "cell_type": "markdown",
   "id": "4e2b8dc0",
   "metadata": {},
   "source": [
    "# wap to take input a number and return the multiplication of number"
   ]
  },
  {
   "cell_type": "code",
   "execution_count": 4,
   "id": "2c8bf6c6",
   "metadata": {},
   "outputs": [
    {
     "name": "stdout",
     "output_type": "stream",
     "text": [
      "[2, 4, 6, 8, 10, 12, 14, 16, 18, 20]\n"
     ]
    }
   ],
   "source": [
    "def pro(i):\n",
    "    a = [i*n for n in range(1,11)]\n",
    "    return a\n",
    "\n",
    "print(pro(2))\n"
   ]
  },
  {
   "cell_type": "markdown",
   "id": "a9f16dd2",
   "metadata": {},
   "source": [
    "# wap to pint the twin prime less than 1000"
   ]
  },
  {
   "cell_type": "code",
   "execution_count": 158,
   "id": "47aef809",
   "metadata": {},
   "outputs": [],
   "source": [
    "for x in range(2,1000):\n",
    "    for y in range(2,x//2):\n",
    "        if(x % y) == 0:\n",
    "            break\n",
    "            "
   ]
  },
  {
   "cell_type": "code",
   "execution_count": null,
   "id": "7a985b81",
   "metadata": {},
   "outputs": [],
   "source": []
  },
  {
   "cell_type": "code",
   "execution_count": 173,
   "id": "871b2268",
   "metadata": {},
   "outputs": [
    {
     "name": "stdout",
     "output_type": "stream",
     "text": [
      "2\n",
      "10\n",
      "3 2\n",
      "4 2\n",
      "4 2\n",
      "5 2\n",
      "5 3\n",
      "5 4\n",
      "6 2\n",
      "6 2\n",
      "7 2\n",
      "7 3\n",
      "7 4\n",
      "7 5\n",
      "7 6\n",
      "8 2\n",
      "8 2\n",
      "9 2\n",
      "9 3\n",
      "9 3\n",
      "[2, 3, 5, 7]\n"
     ]
    }
   ],
   "source": [
    "a,b = int(input()),int(input())\n",
    "num=[]\n",
    "prime = []\n",
    "for x in range(a,b):\n",
    "    for b in range(2,x):\n",
    "        print(x,b)\n",
    "        \n",
    "        if(x%b == 0):\n",
    "            print(\"-\",x,b)\n",
    "            break\n",
    "    else:\n",
    "        prime.append(x)\n",
    "print(prime)\n",
    "        \n"
   ]
  },
  {
   "cell_type": "code",
   "execution_count": null,
   "id": "dcadd971",
   "metadata": {},
   "outputs": [],
   "source": []
  },
  {
   "cell_type": "code",
   "execution_count": null,
   "id": "d25a41fa",
   "metadata": {},
   "outputs": [],
   "source": []
  }
 ],
 "metadata": {
  "kernelspec": {
   "display_name": "Python 3",
   "language": "python",
   "name": "python3"
  },
  "language_info": {
   "codemirror_mode": {
    "name": "ipython",
    "version": 3
   },
   "file_extension": ".py",
   "mimetype": "text/x-python",
   "name": "python",
   "nbconvert_exporter": "python",
   "pygments_lexer": "ipython3",
   "version": "3.8.8"
  }
 },
 "nbformat": 4,
 "nbformat_minor": 5
}
