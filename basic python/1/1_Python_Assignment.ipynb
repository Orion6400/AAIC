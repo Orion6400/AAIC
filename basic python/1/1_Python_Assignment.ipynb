{
 "cells": [
  {
   "cell_type": "markdown",
   "metadata": {
    "id": "l0ZzOlyxB-kf"
   },
   "source": [
    "<h1>Python: without numpy or sklearn </h1>"
   ]
  },
  {
   "cell_type": "markdown",
   "metadata": {
    "id": "C0xO8JV9B-ki"
   },
   "source": [
    "<h3> Q1: Given two matrices please print the product of those two matrices </h3>\n",
    "<pre>\n",
    "\n",
    "Ex 1: A   = [[1 3 4],\n",
    "             [2 5 7],\n",
    "             [5 9 6]]\n",
    "      B   = [[1 0 0],\n",
    "             [0 1 0],\n",
    "             [0 0 1]]\n",
    "      A*B = [[1 3 4]\n",
    "             [2 5 7]\n",
    "             [5 9 6]]\n",
    "\n",
    "     \n",
    "Ex 2: A   = [[1 2]\n",
    "             [3 4]]\n",
    "      B   = [[1 2 3 4 5]\n",
    "             [5 6 7 8 9]]\n",
    "      A*B = [[11 14 17 20 23]\n",
    "             [23 30 36 42 51]]\n",
    "             \n",
    "Ex 3: A   = [[1 2]\n",
    "             [3 4]]\n",
    "      B   = [[1 4]\n",
    "             [5 6]\n",
    "             [7 8]\n",
    "             [9 6]]\n",
    "      A*B =Not possible\n",
    "</pre>"
   ]
  },
  {
   "cell_type": "code",
   "execution_count": 56,
   "metadata": {},
   "outputs": [],
   "source": [
    "def matrixmultiplication(a,b):\n",
    "    c=[]                          \n",
    "    if(len(a[0]) == len(b)):\n",
    "        #tlist=[]\n",
    "        for x in range(len(a)):\n",
    "            tlist=[]\n",
    "            for y in range(len(b[0])):\n",
    "                sum_m=0\n",
    "                for z in range(len(a)):\n",
    "                    sum_m +=(a[x][z]*b[z][y])        \n",
    "                tlist.append(sum_m)\n",
    "            c.append(tlist)    \n",
    "        for alpha in c:\n",
    "            print(alpha)\n",
    "    else:\n",
    "        print(\"Not Possible\")"
   ]
  },
  {
   "cell_type": "code",
   "execution_count": 57,
   "metadata": {},
   "outputs": [
    {
     "name": "stdout",
     "output_type": "stream",
     "text": [
      "[11, 14, 17, 20, 23]\n",
      "[23, 30, 37, 44, 51]\n"
     ]
    }
   ],
   "source": [
    "matrixmultiplication([[1, 2],[3, 4]],[[1,2,3,4,5],[5,6,7,8,9]])"
   ]
  },
  {
   "cell_type": "code",
   "execution_count": 58,
   "metadata": {},
   "outputs": [
    {
     "name": "stdout",
     "output_type": "stream",
     "text": [
      "Not Possible\n"
     ]
    }
   ],
   "source": [
    "matrixmultiplication([[1, 2],[3, 4]],[[1,4],[5,6],[7,8],[9,6]])"
   ]
  },
  {
   "cell_type": "code",
   "execution_count": 59,
   "metadata": {},
   "outputs": [
    {
     "name": "stdout",
     "output_type": "stream",
     "text": [
      "[1, 3, 4]\n",
      "[2, 5, 7]\n",
      "[5, 9, 6]\n"
     ]
    }
   ],
   "source": [
    "matrixmultiplication([[1,3,4],[2,5,7],[5,9,6]],[[1,0,0],[0,1,0],[0,0,1]])"
   ]
  },
  {
   "cell_type": "markdown",
   "metadata": {
    "id": "at4VwLggB-kn"
   },
   "source": [
    "<h3> Q2: Select a number randomly with probability proportional to its magnitude from the given array of n elements</h3>\n",
    "\n",
    "consider an experiment, selecting an element from the list A randomly with probability proportional to its magnitude.\n",
    "assume we are doing the same experiment for 100 times with replacement, in each experiment you will print a number that is selected randomly from A.\n",
    "\n",
    "<pre>\n",
    "Ex 1: A = [0 5 27 6 13 28 100 45 10 79]\n",
    "let f(x) denote the number of times x getting selected in 100 experiments.\n",
    "f(100) > f(79) > f(45) > f(28) > f(27) > f(13) > f(10) > f(6) > f(5) > f(0)\n",
    "</pre>"
   ]
  },
  {
   "cell_type": "code",
   "execution_count": null,
   "metadata": {
    "id": "B6S2dpBhB-kn"
   },
   "outputs": [],
   "source": [
    "from random import uniform\n",
    "# write your python code here\n",
    "# you can take the above example as sample input for your program to test\n",
    "# it should work for any general input try not to hard code for only given input examples\n",
    "\n",
    "\n",
    "# you can free to change all these codes/structure\n",
    "def pick_a_number_from_list(A):\n",
    "    # your code here for picking an element from with the probability propotional to its magnitude\n",
    "    #.\n",
    "    #.\n",
    "    #.\n",
    "    return #selected_random_number\n",
    "\n",
    "def sampling_based_on_magnitued():\n",
    "    for i in range(1,100):\n",
    "        number = pick_a_number_from_list(A)\n",
    "        print(number)\n",
    "\n",
    "sampling_based_on_magnitued()"
   ]
  },
  {
   "cell_type": "markdown",
   "metadata": {
    "id": "D1xQy2WWB-kq"
   },
   "source": [
    "<h3> Q3: Replace the digits in the string with #</h3>\n",
    "\n",
    "consider a string that will have digits in that, we need to remove all the not digits and replace the digits with #\n",
    "<pre>\n",
    "Ex 1: A = 234                Output: ###\n",
    "Ex 2: A = a2b3c4             Output: ###\n",
    "Ex 3: A = abc                Output:   (empty string)\n",
    "Ex 5: A = #2a$#b%c%561#      Output: ####\n",
    "</pre>"
   ]
  },
  {
   "cell_type": "code",
   "execution_count": 77,
   "metadata": {},
   "outputs": [],
   "source": [
    "def replace_digit(String):\n",
    "    count = 0\n",
    "    tlist = list(String)\n",
    "    for x in range(len(tlist)):\n",
    "        if(tlist[x].isnumeric()):\n",
    "            count += 1\n",
    "    print(\"#\"*count)   "
   ]
  },
  {
   "cell_type": "code",
   "execution_count": 78,
   "metadata": {},
   "outputs": [
    {
     "name": "stdout",
     "output_type": "stream",
     "text": [
      "####\n"
     ]
    }
   ],
   "source": [
    "replace_digit('#2a$#b%c%561# ')"
   ]
  },
  {
   "cell_type": "markdown",
   "metadata": {
    "id": "j7h0Ywg7B-kw"
   },
   "source": [
    "<h3> Q4: Students marks dashboard</h3>\n",
    "\n",
    "consider the marks list of class students given two lists <br>\n",
    "Students = ['student1','student2','student3','student4','student5','student6','student7','student8','student9','student10'] <br>\n",
    "Marks = [45, 78, 12, 14, 48, 43, 45, 98, 35, 80] <br>\n",
    "from the above two lists the Student[0] got Marks[0],  Student[1] got Marks[1] and so on <br><br>\n",
    "your task is to print the name of students\n",
    "<strong>a. Who got top 5 ranks, in the descending order of marks</strong> <br>\n",
    "<strong>b. Who got least 5 ranks, in the increasing order of marks</strong><br>\n",
    "<strong>d. Who got marks between  &gt;25th percentile &lt;75th percentile, in the increasing order of marks</strong>\n",
    "\n",
    "<pre>\n",
    "Ex 1: \n",
    "Students=['student1','student2','student3','student4','student5','student6','student7','student8','student9','student10'] \n",
    "Marks = [45, 78, 12, 14, 48, 43, 47, 98, 35, 80]\n",
    "a. \n",
    "student8  98\n",
    "student10 80\n",
    "student2  78\n",
    "student5  48\n",
    "student7  47\n",
    "b.\n",
    "student3 12\n",
    "student4 14\n",
    "student9 35\n",
    "student6 43\n",
    "student1 45\n",
    "c.\n",
    "student9 35\n",
    "student6 43\n",
    "student1 45\n",
    "student7 47\n",
    "student5 48\n",
    "</pre>"
   ]
  },
  {
   "cell_type": "code",
   "execution_count": 29,
   "metadata": {
    "id": "cxPJgItsB-kx"
   },
   "outputs": [],
   "source": [
    "def display_dash_board(students,Marks):\n",
    "    stud_n =[]\n",
    "    stud_m =[]\n",
    "    dict1 = dict(zip(students,Marks))\n",
    "    stud_am = sorted(Marks)\n",
    "    stud_m = sorted(Marks,reverse = True)\n",
    "    print(\"a.\",end='\\n')\n",
    "    for x in range(0,5):\n",
    "        for Students,Marks in dict1.items():\n",
    "            if Marks == stud_m[x]:\n",
    "                print(Students,\":\",Marks)\n",
    "    print(\"  \")            \n",
    "    print(\"b.\",end='\\n')\n",
    "    for x in range(0,5):\n",
    "        for Students,Marks in dict1.items():\n",
    "            if Marks == stud_am[x]:\n",
    "                print(Students,\":\",Marks)\n",
    "    print(\"  \")            \n",
    "    print(\"c.\",end='\\n')\n",
    "    s = int(.25*len(stud_am))\n",
    "    e = int(.75*len(stud_am))\n",
    "    for x in range(s,e):\n",
    "        for Students,Marks in dict1.items():\n",
    "            if Marks == stud_am[x]:\n",
    "                print(Students,\":\",Marks)              "
   ]
  },
  {
   "cell_type": "code",
   "execution_count": 30,
   "metadata": {
    "scrolled": true
   },
   "outputs": [
    {
     "name": "stdout",
     "output_type": "stream",
     "text": [
      "a.\n",
      "student8 : 98\n",
      "student10 : 80\n",
      "student2 : 78\n",
      "student5 : 48\n",
      "student7 : 47\n",
      "  \n",
      "b.\n",
      "student3 : 12\n",
      "student4 : 14\n",
      "student9 : 35\n",
      "student6 : 43\n",
      "student1 : 45\n",
      "  \n",
      "c.\n",
      "student9 : 35\n",
      "student6 : 43\n",
      "student1 : 45\n",
      "student7 : 47\n",
      "student5 : 48\n"
     ]
    }
   ],
   "source": [
    "Students=['student1','student2','student3','student4','student5','student6','student7','student8','student9','student10']\n",
    "Marks = [45, 78, 12, 14, 48, 43, 47, 98, 35, 80]\n",
    "display_dash_board(Students,Marks)"
   ]
  },
  {
   "cell_type": "markdown",
   "metadata": {
    "id": "qha0OhQHB-k1"
   },
   "source": [
    "<h3> Q5: Find the closest points</h3>\n",
    "\n",
    "consider you have given n data points in the form of list of tuples like S=[(x1,y1),(x2,y2),(x3,y3),(x4,y4),(x5,y5),..,(xn,yn)] and a point P=(p,q) <br> your task is to find 5 closest points(based on cosine distance) in S from P\n",
    "<br>cosine distance between two points (x,y) and (p,q) is defind as $cos^{-1}(\\frac{(x\\cdot p+y\\cdot q)}{\\sqrt(x^2+y^2)\\cdot\\sqrt(p^2+q^2)})$\n",
    "<pre>\n",
    "Ex:\n",
    "\n",
    "S= [(1,2),(3,4),(-1,1),(6,-7),(0, 6),(-5,-8),(-1,-1)(6,0),(1,-1)]\n",
    "P= (3,-4)\n",
    "<img src='https://i.imgur.com/vIFPOcG.jpg', width=300>\n",
    "Output:\n",
    "(6,-7)\n",
    "(1,-1)\n",
    "(6,0)\n",
    "(-5,-8)\n",
    "(-1,-1)\n",
    "</pre>"
   ]
  },
  {
   "cell_type": "code",
   "execution_count": 44,
   "metadata": {
    "id": "wA5I1g-2B-k2"
   },
   "outputs": [],
   "source": [
    "import math\n",
    "def closest_points_to_p(S, P):\n",
    "    dis_list = []\n",
    "    sort_dis = []\n",
    "    for a in range(len(S)):\n",
    "        point = S[a]\n",
    "        x =point[0]\n",
    "        y = point[1]\n",
    "        p = P[0]\n",
    "        q = P[1]\n",
    "        distance = math.acos(((x*p)+(y*q))/(math.sqrt((x**2)+(y**2)) * math.sqrt((p**2)+(q**2))))\n",
    "        dis_list.append(distance)\n",
    "    dict_1 = dict(zip(S,dis_list))\n",
    "    sort_dis = sorted(dis_list)\n",
    "    print(\"Output:\",end='\\n')\n",
    "    for b in range(0,5):\n",
    "        for S,dis_list in dict_1.items():\n",
    "            if dis_list == sort_dis[b]:\n",
    "                print(S)"
   ]
  },
  {
   "cell_type": "code",
   "execution_count": 45,
   "metadata": {},
   "outputs": [
    {
     "name": "stdout",
     "output_type": "stream",
     "text": [
      "Output:\n",
      "(6, -7)\n",
      "(1, -1)\n",
      "(6, 0)\n",
      "(-5, -8)\n",
      "(-1, -1)\n"
     ]
    }
   ],
   "source": [
    "S= [(1,2),(3,4),(-1,1),(6,-7),(0, 6),(-5,-8),(-1,-1),(6,0),(1,-1)]\n",
    "P= (3,-4)\n",
    "closest_points_to_p(S, P)"
   ]
  },
  {
   "cell_type": "markdown",
   "metadata": {
    "id": "-g11jeAiB-k5"
   },
   "source": [
    "<h3> Q6: Find Which line separates oranges and apples</h3>\n",
    "consider you have given two set of data points in the form of list of tuples like \n",
    "<pre>\n",
    "Red =[(R11,R12),(R21,R22),(R31,R32),(R41,R42),(R51,R52),..,(Rn1,Rn2)]\n",
    "Blue=[(B11,B12),(B21,B22),(B31,B32),(B41,B42),(B51,B52),..,(Bm1,Bm2)]\n",
    "</pre>\n",
    "and set of line equations(in the string formate, i.e list of strings)\n",
    "<pre>\n",
    "Lines = [a1x+b1y+c1,a2x+b2y+c2,a3x+b3y+c3,a4x+b4y+c4,..,K lines]\n",
    "Note: you need to string parsing here and get the coefficients of x,y and intercept\n",
    "</pre>\n",
    "your task is to for each line that is given print \"YES\"/\"NO\", you will print yes, if all the red points are one side of the line and blue points are other side of the line, otherwise no\n",
    "<pre>\n",
    "Ex:\n",
    "Red= [(1,1),(2,1),(4,2),(2,4),(-1,4)]\n",
    "Blue= [(-2,-1),(-1,-2),(-3,-2),(-3,-1),(1,-3)]\n",
    "Lines=[\"1x+1y+0\",\"1x-1y+0\",\"1x+0y-3\",\"0x+1y-0.5\"]\n",
    "<img src='https://i.imgur.com/DoQf7mE.jpg' width=400>\n",
    "Output:\n",
    "YES\n",
    "NO\n",
    "NO\n",
    "YES\n",
    "</pre>"
   ]
  },
  {
   "cell_type": "code",
   "execution_count": 194,
   "metadata": {
    "id": "eRxExaTRB-k6"
   },
   "outputs": [],
   "source": [
    "import math\n",
    "import re\n",
    "def i_am_the_one(red,blue,line):\n",
    "    print(\"Output:\",end='\\n')\n",
    "    for equ in range(len(line)):\n",
    "        list_red=[]\n",
    "        list_blue=[]\n",
    "        count = 0\n",
    "        coff = re.findall(r'[\\d\\.\\-\\+]+', line[equ])\n",
    "        for Red in range(len(red)):\n",
    "            r_x = red[Red][0]\n",
    "            r_y = red[Red][1]\n",
    "            r_value = (r_x*(float(coff[0])))+(r_y*(float(coff[1])))+float(coff[2])\n",
    "            list_red.append(r_value)\n",
    "        for Blue in range(len(blue)):\n",
    "            b_x = blue[Blue][0]\n",
    "            b_y = blue[Blue][1]\n",
    "            b_value = (b_x*(float(coff[0])))+(b_y*(float(coff[1])))+float(coff[2])\n",
    "            list_blue.append(b_value)\n",
    "        for value in range(len(list_blue)):\n",
    "            if(list_red[value]>=0.0 and list_blue[value]<0.0 or list_red[value]<0.0 and list_blue[value]>=0.0):\n",
    "                count += 1\n",
    "        if(count == len(list_blue)):\n",
    "            print('YES')\n",
    "        else:\n",
    "            print('NO')      "
   ]
  },
  {
   "cell_type": "code",
   "execution_count": 195,
   "metadata": {},
   "outputs": [
    {
     "name": "stdout",
     "output_type": "stream",
     "text": [
      "Output:\n",
      "YES\n",
      "NO\n",
      "NO\n",
      "YES\n"
     ]
    }
   ],
   "source": [
    "red= [(1,1),(2,1),(4,2),(2,4),(-1,4)]\n",
    "blue= [(-2,-1),(-1,-2),(-3,-2),(-3,-1),(1,-3)]\n",
    "line=[\"1x+1y+0\",\"1x-1y+0\",\"1x+0y-3\",\"0x+1y-0.5\"]\n",
    "i_am_the_one(red,blue,line)"
   ]
  },
  {
   "cell_type": "markdown",
   "metadata": {
    "id": "9OBpURbNB-k9"
   },
   "source": [
    "<h3> Q7: Filling the missing values in the specified formate</h3>\n",
    "You will be given a string with digits and '\\_'(missing value) symbols you have to replace the '\\_' symbols as explained \n",
    "<pre>\n",
    "Ex 1: _, _, _, 24 ==> 24/4, 24/4, 24/4, 24/4 i.e we. have distributed the 24 equally to all 4 places <br>\n",
    "Ex 2: 40, _, _, _, 60 ==> (60+40)/5,(60+40)/5,(60+40)/5,(60+40)/5,(60+40)/5 ==> 20, 20, 20, 20, 20 i.e. the sum of (60+40) is distributed qually to all 5 places<br>\n",
    "Ex 3: 80, _, _, _, _  ==> 80/5,80/5,80/5,80/5,80/5 ==> 16, 16, 16, 16, 16 i.e. the 80 is distributed qually to all 5 missing values that are right to it<br>\n",
    "Ex 4: _, _, 30, _, _, _, 50, _, _  \n",
    "==> we will fill the missing values from left to right \n",
    "    a. first we will distribute the 30 to left two missing values (10, 10, 10, _, _, _, 50, _, _)\n",
    "    b. now distribute the sum (10+50) missing values in between (10, 10, 12, 12, 12, 12, 12, _, _) \n",
    "    c. now we will distribute 12 to right side missing values (10, 10, 12, 12, 12, 12, 4, 4, 4)\n",
    "</pre>\n",
    "for a given string with comma seprate values, which will have both missing values numbers like ex: \"_, _, x, _, _, _\"\n",
    "you need fill the missing values\n",
    "\n",
    "Q: your program reads a string like ex: \"_, _, x, _, _, _\" and returns the filled sequence\n",
    "\n",
    "Ex: \n",
    "<pre>\n",
    "Input1: \"_,_,_,24\"\n",
    "Output1: 6,6,6,6\n",
    "\n",
    "Input2: \"40,_,_,_,60\"\n",
    "Output2: 20,20,20,20,20\n",
    "\n",
    "Input3: \"80,_,_,_,_\"\n",
    "Output3: 16,16,16,16,16\n",
    "\n",
    "Input4: \"_,_,30,_,_,_,50,_,_\"\n",
    "Output4: 10,10,12,12,12,12,4,4,4\n",
    "</pre>\n",
    "\n"
   ]
  },
  {
   "cell_type": "code",
   "execution_count": 322,
   "metadata": {},
   "outputs": [],
   "source": [
    "def curve_smoothing(String):\n",
    "    pv=[]\n",
    "    nv=[]\n",
    "    String = String.split(',')\n",
    "    for x in range(len(String)):\n",
    "        if(String[x] != '_'):\n",
    "            pv.append(x)\n",
    "            nv.append(String[x])\n",
    "    for x in range()\n",
    "    \n",
    "    \n",
    "    "
   ]
  },
  {
   "cell_type": "code",
   "execution_count": 323,
   "metadata": {},
   "outputs": [
    {
     "name": "stdout",
     "output_type": "stream",
     "text": [
      "[2, 6] ['30', '50']\n"
     ]
    }
   ],
   "source": [
    "S=  \"_,_,30,_,_,_,50,_,_\"\n",
    "smoothed_values= curve_smoothing(S)"
   ]
  },
  {
   "cell_type": "markdown",
   "metadata": {
    "id": "RBz4pzlfB-lB"
   },
   "source": [
    "<h3> Q8: Filling the missing values in the specified formate</h3>\n",
    "You will be given a list of lists, each sublist will be of length 2 i.e. [[x,y],[p,q],[l,m]..[r,s]]\n",
    "consider its like a martrix of n rows and two columns\n",
    "1. the first column F will contain only 5 uniques values (F1, F2, F3, F4, F5)\n",
    "2. the second column S will contain only 3 uniques values (S1, S2, S3)\n",
    "<pre>\n",
    "your task is to find\n",
    "a. Probability of P(F=F1|S==S1), P(F=F1|S==S2), P(F=F1|S==S3)\n",
    "b. Probability of P(F=F2|S==S1), P(F=F2|S==S2), P(F=F2|S==S3)\n",
    "c. Probability of P(F=F3|S==S1), P(F=F3|S==S2), P(F=F3|S==S3)\n",
    "d. Probability of P(F=F4|S==S1), P(F=F4|S==S2), P(F=F4|S==S3)\n",
    "e. Probability of P(F=F5|S==S1), P(F=F5|S==S2), P(F=F5|S==S3)\n",
    "</pre>\n",
    "Ex:\n",
    "\n",
    "<pre>\n",
    "[[F1,S1],[F2,S2],[F3,S3],[F1,S2],[F2,S3],[F3,S2],[F2,S1],[F4,S1],[F4,S3],[F5,S1]]\n",
    "\n",
    "a. P(F=F1|S==S1)=1/4, P(F=F1|S==S2)=1/3, P(F=F1|S==S3)=0/3\n",
    "b. P(F=F2|S==S1)=1/4, P(F=F2|S==S2)=1/3, P(F=F2|S==S3)=1/3\n",
    "c. P(F=F3|S==S1)=0/4, P(F=F3|S==S2)=1/3, P(F=F3|S==S3)=1/3\n",
    "d. P(F=F4|S==S1)=1/4, P(F=F4|S==S2)=0/3, P(F=F4|S==S3)=1/3\n",
    "e. P(F=F5|S==S1)=1/4, P(F=F5|S==S2)=0/3, P(F=F5|S==S3)=0/3\n",
    "</pre>\n",
    "\n",
    "\n"
   ]
  },
  {
   "cell_type": "code",
   "execution_count": 571,
   "metadata": {
    "id": "e-1giz1MB-lC"
   },
   "outputs": [
    {
     "ename": "IndentationError",
     "evalue": "unexpected indent (<ipython-input-571-22d637073499>, line 44)",
     "output_type": "error",
     "traceback": [
      "\u001b[1;36m  File \u001b[1;32m\"<ipython-input-571-22d637073499>\"\u001b[1;36m, line \u001b[1;32m44\u001b[0m\n\u001b[1;33m    for x in range(len(f)):\u001b[0m\n\u001b[1;37m    ^\u001b[0m\n\u001b[1;31mIndentationError\u001b[0m\u001b[1;31m:\u001b[0m unexpected indent\n"
     ]
    }
   ],
   "source": [
    "def compute_conditional_probabilites(A):\n",
    "    f,s,e,f_s,s_s,s_e=[],[],[],[],[],[]\n",
    "    ef_list = []\n",
    "    nr,dr = 0,0\n",
    "    \n",
    "    for x in range(len(A)):\n",
    "        ele,ele_s,ele_f = 0,0,0        \n",
    "        for y in range(len(A)):            \n",
    "            if(A[x]==A[y]):\n",
    "                ele += 1                                                \n",
    "            if(A[x][0] == A[y][0]):\n",
    "                ele_f += 1            \n",
    "                f.append(A[x][0])                \n",
    "            if(A[x][1] == A[y][1]):\n",
    "                ele_s += 1               \n",
    "                s.append(A[x][1])\n",
    "        e.append(str(ele))        \n",
    "        f_s.append(str(ele_f))  \n",
    "        s_s.append(str(ele_s))        \n",
    "    f = list(set(f))\n",
    "    s = list(set(s)) \n",
    "    print(\"f:\",f)\n",
    "    print(\"s:\",s)\n",
    "    print(\"A:\",A)\n",
    "    print(\"e:\",e)\n",
    "    print(\"f_s:\",f_s)\n",
    "    print(\"s_s:\",s_s)\n",
    "    print(\"     \")\n",
    "    print(\"//\\\\----------------------------------------------------------------------------//\\\\\")\n",
    "    print(\" \")\n",
    "    \n",
    "    for x in range(len(s)):\n",
    "        xcount = 0    \n",
    "        for y in range(len(A)):\n",
    "            if(s[x] == A[y][1]):\n",
    "                xcount +=1  \n",
    "        print(s[x],xcount)\n",
    "        \n",
    "d_s = dict(zip(s,str(xcount)))\n",
    "print(d_s)\n",
    "\n",
    "     \n",
    " \n",
    "    for x in range(len(f)):\n",
    "        ele_l=[]\n",
    "        ele_l.append(f[x])\n",
    "        for y in range(len(s)):\n",
    "            ele_l.append(s[y])\n",
    "            for z in range(len(A)):\n",
    "                if(ele_l == A[z]):\n",
    "                    print(ele_l)\n",
    "                    nr = e[z]\n",
    "                    dr = s_s[z]  \n",
    "                    print(nr,\"/\",dr)\n",
    "                elif(ele_l != A[z]):\n",
    "                    nr = 0\n",
    "#                     dr = \n",
    "                    \n",
    "            ele_l.pop()\n",
    "        \n",
    "\n",
    "\n",
    "    \n",
    "\n",
    "                "
   ]
  },
  {
   "cell_type": "code",
   "execution_count": 572,
   "metadata": {
    "scrolled": false
   },
   "outputs": [
    {
     "name": "stdout",
     "output_type": "stream",
     "text": [
      "f: ['F1', 'F3', 'F2', 'F5', 'F4']\n",
      "s: ['S3', 'S2', 'S1']\n",
      "A: [['F1', 'S1'], ['F2', 'S2'], ['F3', 'S3'], ['F1', 'S2'], ['F2', 'S3'], ['F3', 'S2'], ['F2', 'S1'], ['F4', 'S1'], ['F4', 'S3'], ['F5', 'S1']]\n",
      "e: ['1', '1', '1', '1', '1', '1', '1', '1', '1', '1']\n",
      "f_s: ['2', '3', '2', '2', '3', '2', '3', '2', '2', '1']\n",
      "s_s: ['4', '3', '3', '3', '3', '3', '4', '4', '3', '4']\n",
      "     \n",
      "//\\----------------------------------------------------------------------------//\\\n",
      " \n",
      "S3 3\n",
      "{'S3': '3'}\n",
      "S2 3\n",
      "{'S3': '3'}\n",
      "S1 4\n",
      "{'S3': '4'}\n",
      "['F1', 'S2']\n",
      "1 / 3\n",
      "['F1', 'S1']\n",
      "1 / 4\n",
      "['F3', 'S3']\n",
      "1 / 3\n",
      "['F3', 'S2']\n",
      "1 / 3\n",
      "['F2', 'S3']\n",
      "1 / 3\n",
      "['F2', 'S2']\n",
      "1 / 3\n",
      "['F2', 'S1']\n",
      "1 / 4\n",
      "['F5', 'S1']\n",
      "1 / 4\n",
      "['F4', 'S3']\n",
      "1 / 3\n",
      "['F4', 'S1']\n",
      "1 / 4\n"
     ]
    }
   ],
   "source": [
    "A = [['F1','S1'],['F2','S2'],['F3','S3'],['F1','S2'],['F2','S3'],['F3','S2'],['F2','S1'],['F4','S1'],['F4','S3'],['F5','S1']]\n",
    "compute_conditional_probabilites(A)"
   ]
  },
  {
   "cell_type": "code",
   "execution_count": null,
   "metadata": {},
   "outputs": [],
   "source": [
    " P(F=F1|S==S1)=1/4, P(F=F1|S==S2)=1/3, P(F=F1|S==S3)=0/3\n",
    "b. P(F=F2|S==S1)=1/4, P(F=F2|S==S2)=1/3, P(F=F2|S==S3)=1/3\n",
    "c. P(F=F3|S==S1)=0/4, P(F=F3|S==S2)=1/3, P(F=F3|S==S3)=1/3\n",
    "d. P(F=F4|S==S1)=1/4, P(F=F4|S==S2)=0/3, P(F=F4|S==S3)=1/3\n",
    "e. P(F=F5|S==S1)=1/4, P(F=F5|S==S2)=0/3, P(F=F5|S==S3)=0/3"
   ]
  },
  {
   "cell_type": "markdown",
   "metadata": {
    "id": "n4HS87QmB-lF"
   },
   "source": [
    "<h3> Q9: Given two sentances S1, S2</h3>\n",
    "You will be given two sentances S1, S2 your task is to find \n",
    "<pre>\n",
    "a. Number of common words between S1, S2\n",
    "b. Words in S1 but not in S2\n",
    "c. Words in S2 but not in S1\n",
    "</pre>\n",
    "\n",
    "Ex: \n",
    "<pre>\n",
    "S1= \"the first column F will contain only 5 uniques values\"\n",
    "S2= \"the second column S will contain only 3 uniques values\"\n",
    "Output:\n",
    "a. 7\n",
    "b. ['first','F','5']\n",
    "c. ['second','S','3']\n",
    "</pre>"
   ]
  },
  {
   "cell_type": "code",
   "execution_count": 25,
   "metadata": {
    "id": "Ez7hlHK0B-lG"
   },
   "outputs": [],
   "source": [
    "def string_features(s1,s2):\n",
    "    s3 = []\n",
    "    s1 = s1.split()\n",
    "    s2 = s2.split()\n",
    "    s3 = s1+s2\n",
    "    print(\"a.\",len(set(s1).intersection(set(s2))))\n",
    "    print(\"b.\",list(set(s3)-set(s2)))\n",
    "    print(\"c.\",list(set(s3)-set(s1)))"
   ]
  },
  {
   "cell_type": "code",
   "execution_count": 26,
   "metadata": {},
   "outputs": [
    {
     "name": "stdout",
     "output_type": "stream",
     "text": [
      "a. 7\n",
      "b. ['F', 'first', '5']\n",
      "c. ['second', '3', 'S']\n"
     ]
    }
   ],
   "source": [
    "string_features(\"the first column F will contain only 5 uniques values\",\"the second column S will contain only 3 uniques values\")"
   ]
  },
  {
   "cell_type": "markdown",
   "metadata": {
    "id": "XefXVEjCB-lI"
   },
   "source": [
    "<h3> Q10: Given two sentances S1, S2</h3>\n",
    "You will be given a list of lists, each sublist will be of length 2 i.e. [[x,y],[p,q],[l,m]..[r,s]]\n",
    "consider its like a martrix of n rows and two columns\n",
    "\n",
    "a. the first column Y will contain interger values <br>\n",
    "b. the second column $Y_{score}$ will be having float values <br>\n",
    "Your task is to find the value of $f(Y,Y_{score}) = -1*\\frac{1}{n}\\Sigma_{for each Y,Y_{score} pair}(Ylog10(Y_{score})+(1-Y)log10(1-Y_{score}))$ here n is the number of rows in the matrix\n",
    "<pre>\n",
    "Ex:\n",
    "[[1, 0.4], [0, 0.5], [0, 0.9], [0, 0.3], [0, 0.6], [1, 0.1], [1, 0.9], [1, 0.8]]\n",
    "output:\n",
    "0.4243099\n",
    "</pre>\n",
    "$\\frac{-1}{8}\\cdot((1\\cdot log_{10}(0.4)+0\\cdot log_{10}(0.6))+(0\\cdot log_{10}(0.5)+1\\cdot log_{10}(0.5)) + ... + (1\\cdot log_{10}(0.8)+0\\cdot log_{10}(0.2)) )$"
   ]
  },
  {
   "cell_type": "code",
   "execution_count": 19,
   "metadata": {
    "id": "N9zkagyNB-lJ"
   },
   "outputs": [
    {
     "name": "stdout",
     "output_type": "stream",
     "text": [
      "0.19257593903009612\n"
     ]
    }
   ],
   "source": [
    "import math\n",
    "def compute_log_loss(A):\n",
    "    pro = 0\n",
    "    for x in range(len(A)):\n",
    "        pro += -1*A[x][0]*math.log10(A[x][1])                            \n",
    "    print(pro/len(A))\n",
    "\n",
    "A = [[1, 0.4], [0, 0.5], [0, 0.9], [0, 0.3], [0, 0.6], [1, 0.1], [1, 0.9], [1, 0.8]]\n",
    "compute_log_loss(A)"
   ]
  }
 ],
 "metadata": {
  "colab": {
   "collapsed_sections": [],
   "name": "1.Python Assignment.ipynb",
   "provenance": []
  },
  "kernelspec": {
   "display_name": "Python 3",
   "language": "python",
   "name": "python3"
  },
  "language_info": {
   "codemirror_mode": {
    "name": "ipython",
    "version": 3
   },
   "file_extension": ".py",
   "mimetype": "text/x-python",
   "name": "python",
   "nbconvert_exporter": "python",
   "pygments_lexer": "ipython3",
   "version": "3.8.8"
  }
 },
 "nbformat": 4,
 "nbformat_minor": 1
}
