{
 "cells": [
  {
   "cell_type": "markdown",
   "metadata": {
    "id": "Dnubs-Nnb3cw"
   },
   "source": [
    "# Assignment 6: Apply NB"
   ]
  },
  {
   "cell_type": "markdown",
   "metadata": {
    "id": "RW0zYHb5m_wI"
   },
   "source": [
    "<ol>\n",
    "    <li>Minimum data points need to be considered for people having 4GB RAM is <strong>50k</strong> and for 8GB RAM is <strong>100k</strong></li>\n",
    "    <li>When you are using ramdomsearchcv or gridsearchcv you need not split the data into X_train,X_cv,X_test. As the above methods use kfold. The model will learn better if train data is more so splitting to X_train,X_test will suffice.</li>\n",
    "    <li>If you are writing for loops to tune your model then you need split the data into X_train,X_cv,X_test.</li>\n",
    "    <li>While splitting the data explore stratify parameter. </li>\n",
    "    <li><strong>Apply Multinomial NB on these feature sets</strong></li>\n",
    "        <ul>\n",
    "            <li>Features that need to be considered</li> \n",
    "                <dl>\n",
    "                  <dt>essay</dt>\n",
    "                    <dd>while encoding essay, try to experiment with the max_features and n_grams parameter of vectorizers and see if it increases AUC score.</dd>\n",
    "                  <dt>categorical features</dt>\n",
    "                  <dd> - teacher_prefix</dd>\n",
    "                  <dd> - project_grade_category</dd>\n",
    "                  <dd> - school_state</dd>\n",
    "                  <dd> - clean_categories</dd>\n",
    "                  <dd> - clean_subcategories</dd>\n",
    "                  <dt>numerical features</dt>\n",
    "                  <dd> - price</dd>\n",
    "                  <dd> - teacher_number_of_previously_posted_projects</dd>\n",
    "                  <dd>while encoding the numerical features check <a href='https://imgur.com/ldZA1zg'>this</a> and <a href='https://ac-classroom-production.s3.amazonaws.com/public/COMMENT/Annotation_2020-05-21_225912_0lyZzN8.jpg'>this</a></dd>\n",
    "                </dl>    \n",
    "            <li><font color='red'>Set 1</font>: categorical, numerical features + preprocessed_eassay (BOW)</li>\n",
    "            <li><font color='red'>Set 2</font>: categorical, numerical features + preprocessed_eassay (TFIDF)</li>\n",
    "        </ul>\n",
    "    <li><strong>The hyper paramter tuning(find best alpha:smoothing parameter)</strong>\n",
    "        <ul>\n",
    "    <li>Consider alpha values in range: 10^-5 to 10^2 like [0.00001,0.0005, 0.0001,0.005,0.001,0.05,0.01,0.1,0.5,1,5,10,50,100]</li>\n",
    "    <li>Explore class_prior = [0.5, 0.5] parameter which can be present in MultinomialNB function(go through <a href='https://scikit-learn.org/stable/modules/generated/sklearn.naive_bayes.MultinomialNB.html'>this</a> ) then check how results might change.\n",
    "    <li>Find the best hyper parameter which will give the maximum <a href='https://www.appliedaicourse.com/course/applied-ai-course-online/lessons/receiver-operating-characteristic-curve-roc-curve-and-auc-1/'>AUC</a> value</li>\n",
    "    <li>For hyper parameter tuning using k-fold cross validation(use GridsearchCV or RandomsearchCV)/simple cross validation data (write for loop to iterate over hyper parameter values)</li>\n",
    "    <li>You need to plot the performance of model both on train data and cross validation data for each hyper parameter, like shown in the figure\n",
    "    <img src='https://i.imgur.com/hUv6aEy.jpg' width=300px><dd>-while plotting take log(alpha) on your X-axis so that it will be more readable</dd></li>\n",
    "    <li>Once after you found the best hyper parameter, you need to train your model with it, and find the AUC on test data and plot the ROC curve on both train and test.\n",
    "    <img src='https://imgur.com/q2P65L5.jpg' width=300px></li>\n",
    "    <li>Along with plotting ROC curve, you need to print the <a href='https://www.appliedaicourse.com/course/applied-ai-course-online/lessons/confusion-matrix-tpr-fpr-fnr-tnr-1/'>confusion matrix</a> with predicted and original labels of test data points\n",
    "        <img src='https://i.imgur.com/IdN5Ctv.png' width=300px><dd>-plot the confusion matrix in heatmaps, while plotting the confusion matrix go through the <a href='https://stackoverflow.com/questions/61748441/how-to-fix-the-values-displayed-in-a-confusion-matrix-in-exponential-form-to-nor'>link </a>\n",
    "</dd></li>\n",
    "        </ul>\n",
    "<li>find the top 20 features from either from feature <font color='red'>Set 1</font> or feature <font color='red'>Set 2</font> using values of `feature_log_prob_ ` parameter of `MultinomialNB` \n",
    "(https://scikit-learn.org/stable/modules/generated/sklearn.naive_bayes.MultinomialNB.html) and print <strong>BOTH</strong> positive as well as negative corresponding feature names. <dd> - go through the <a href='https://imgur.com/mWvE7gj'>link </a> </dd>\n",
    "    </li>\n",
    "    <li>You need to summarize the results at the end of the notebook, summarize it in the table format\n",
    "        <img src='http://i.imgur.com/YVpIGGE.jpg' width=400px>\n",
    "    </li>\n",
    "</ol>"
   ]
  },
  {
   "cell_type": "markdown",
   "metadata": {
    "id": "inzYCIaib3c3"
   },
   "source": [
    "<h1>2. Naive Bayes </h1>"
   ]
  },
  {
   "cell_type": "code",
   "execution_count": 1,
   "metadata": {},
   "outputs": [],
   "source": [
    "%matplotlib inline\n",
    "import warnings\n",
    "warnings.filterwarnings(\"ignore\")\n",
    "import sqlite3\n",
    "import pandas as pd\n",
    "import numpy as np\n",
    "import nltk\n",
    "import string\n",
    "import matplotlib.pyplot as plt\n",
    "import seaborn as sns\n",
    "from sklearn.feature_extraction.text import TfidfTransformer\n",
    "from sklearn.feature_extraction.text import TfidfVectorizer\n",
    "from sklearn.feature_extraction.text import CountVectorizer\n",
    "from sklearn.metrics import confusion_matrix\n",
    "from sklearn import metrics\n",
    "from sklearn.metrics import roc_curve, auc\n",
    "from nltk.stem.porter import PorterStemmer\n",
    "import re\n",
    "# Tutorial about Python regular expressions: https://pymotw.com/2/re/\n",
    "import string\n",
    "from nltk.corpus import stopwords\n",
    "from nltk.stem import PorterStemmer\n",
    "from nltk.stem.wordnet import WordNetLemmatizer\n",
    "from tqdm import tqdm\n",
    "import os\n",
    "from collections import Counter"
   ]
  },
  {
   "cell_type": "markdown",
   "metadata": {
    "id": "FYqCIxzFb3c5"
   },
   "source": [
    "## 1.1 Loading Data"
   ]
  },
  {
   "cell_type": "code",
   "execution_count": 2,
   "metadata": {
    "id": "dA1jknyqb3c_"
   },
   "outputs": [],
   "source": [
    "#make sure you are loading atleast 50k datapoints\n",
    "#you can work with features of preprocessed_data.csv for the assignment.\n",
    "# If you want to add more features, you can add. (This is purely optional, not mandatory)\n",
    "train_data = pd.read_csv(\"data.csv\")\n",
    "resource_data = pd.read_csv(\"resources.csv\")"
   ]
  },
  {
   "cell_type": "markdown",
   "metadata": {},
   "source": [
    "# feature Understanding"
   ]
  },
  {
   "cell_type": "code",
   "execution_count": 3,
   "metadata": {},
   "outputs": [
    {
     "data": {
      "text/plain": [
       "Index(['Unnamed: 0', 'id', 'teacher_id', 'teacher_prefix', 'school_state',\n",
       "       'project_submitted_datetime', 'project_grade_category',\n",
       "       'project_subject_categories', 'project_subject_subcategories',\n",
       "       'project_title', 'project_essay_1', 'project_essay_2',\n",
       "       'project_essay_3', 'project_essay_4', 'project_resource_summary',\n",
       "       'teacher_number_of_previously_posted_projects', 'project_is_approved'],\n",
       "      dtype='object')"
      ]
     },
     "execution_count": 3,
     "metadata": {},
     "output_type": "execute_result"
    }
   ],
   "source": [
    "train_data.columns"
   ]
  },
  {
   "cell_type": "code",
   "execution_count": 4,
   "metadata": {},
   "outputs": [
    {
     "data": {
      "text/plain": [
       "Index(['id', 'description', 'quantity', 'price'], dtype='object')"
      ]
     },
     "execution_count": 4,
     "metadata": {},
     "output_type": "execute_result"
    }
   ],
   "source": [
    "resource_data.columns"
   ]
  },
  {
   "cell_type": "raw",
   "metadata": {},
   "source": [
    "teacher_prefix, school_state, project_grade_category, project_subject_subcategories, project_subject_categories  ----> catagorical data\n",
    "\n",
    "project_title, project_essay_1, project_essay_2, project_essay_3, project_essay_4, project_resource_summary ----> text data\n",
    "\n",
    "teacher_number_of_previously_posted_projects, price, quantity ----> numerical data"
   ]
  },
  {
   "cell_type": "markdown",
   "metadata": {},
   "source": [
    "# Preprocessing catagorical"
   ]
  },
  {
   "cell_type": "markdown",
   "metadata": {},
   "source": [
    "# Teacher Prefix  - 1"
   ]
  },
  {
   "cell_type": "code",
   "execution_count": 5,
   "metadata": {},
   "outputs": [
    {
     "data": {
      "text/plain": [
       "Mrs.       57269\n",
       "Ms.        38955\n",
       "Mr.        10648\n",
       "Teacher     2360\n",
       "Dr.           13\n",
       "Name: teacher_prefix, dtype: int64"
      ]
     },
     "execution_count": 5,
     "metadata": {},
     "output_type": "execute_result"
    }
   ],
   "source": [
    "train_data.teacher_prefix.value_counts()"
   ]
  },
  {
   "cell_type": "code",
   "execution_count": 6,
   "metadata": {},
   "outputs": [
    {
     "data": {
      "text/plain": [
       "3"
      ]
     },
     "execution_count": 6,
     "metadata": {},
     "output_type": "execute_result"
    }
   ],
   "source": [
    "# now first we found the Nan value and fill with \"Mrs.\" because maximum number of the submition done by this prefix\n",
    "train_data['teacher_prefix'].isnull().sum()"
   ]
  },
  {
   "cell_type": "code",
   "execution_count": 7,
   "metadata": {},
   "outputs": [
    {
     "data": {
      "text/plain": [
       "mrs        57272\n",
       "ms         38955\n",
       "mr         10648\n",
       "teacher     2360\n",
       "dr            13\n",
       "Name: teacher_prefix, dtype: int64"
      ]
     },
     "execution_count": 7,
     "metadata": {},
     "output_type": "execute_result"
    }
   ],
   "source": [
    "train_data['teacher_prefix'] = train_data['teacher_prefix'].fillna('Mrs')\n",
    "train_data['teacher_prefix'] = train_data['teacher_prefix'].str.replace('.','') # Removing the \".\" from the last\n",
    "train_data['teacher_prefix'] = train_data['teacher_prefix'].str.lower() # convert it into the lower case\n",
    "train_data['teacher_prefix'].value_counts()"
   ]
  },
  {
   "cell_type": "markdown",
   "metadata": {},
   "source": [
    "# project_grade_category - 2"
   ]
  },
  {
   "cell_type": "code",
   "execution_count": 8,
   "metadata": {},
   "outputs": [
    {
     "data": {
      "text/plain": [
       "Grades PreK-2    44225\n",
       "Grades 3-5       37137\n",
       "Grades 6-8       16923\n",
       "Grades 9-12      10963\n",
       "Name: project_grade_category, dtype: int64"
      ]
     },
     "execution_count": 8,
     "metadata": {},
     "output_type": "execute_result"
    }
   ],
   "source": [
    "train_data['project_grade_category'].value_counts()"
   ]
  },
  {
   "cell_type": "code",
   "execution_count": 9,
   "metadata": {},
   "outputs": [
    {
     "data": {
      "text/plain": [
       "0"
      ]
     },
     "execution_count": 9,
     "metadata": {},
     "output_type": "execute_result"
    }
   ],
   "source": [
    "train_data['project_grade_category'].isnull().sum()"
   ]
  },
  {
   "cell_type": "code",
   "execution_count": 10,
   "metadata": {},
   "outputs": [],
   "source": [
    "# replace (-) with (_)  and  replace (Grade) with ( )\n",
    "train_data['project_grade_category'] = train_data['project_grade_category'].str.replace('-','_')\n",
    "train_data['project_grade_category'] = train_data['project_grade_category'].str.replace('Grades',' ')"
   ]
  },
  {
   "cell_type": "code",
   "execution_count": 11,
   "metadata": {},
   "outputs": [
    {
     "data": {
      "text/plain": [
       "  PreK_2    44225\n",
       "  3_5       37137\n",
       "  6_8       16923\n",
       "  9_12      10963\n",
       "Name: project_grade_category, dtype: int64"
      ]
     },
     "execution_count": 11,
     "metadata": {},
     "output_type": "execute_result"
    }
   ],
   "source": [
    "train_data['project_grade_category'].value_counts()"
   ]
  },
  {
   "cell_type": "markdown",
   "metadata": {},
   "source": [
    "# project_subject_subcategories - 3"
   ]
  },
  {
   "cell_type": "code",
   "execution_count": 12,
   "metadata": {},
   "outputs": [
    {
     "data": {
      "text/plain": [
       "Literacy & Language                           23655\n",
       "Math & Science                                17072\n",
       "Literacy & Language, Math & Science           14636\n",
       "Health & Sports                               10177\n",
       "Music & The Arts                               5180\n",
       "Special Needs                                  4226\n",
       "Literacy & Language, Special Needs             3961\n",
       "Applied Learning                               3771\n",
       "Math & Science, Literacy & Language            2289\n",
       "Applied Learning, Literacy & Language          2191\n",
       "History & Civics                               1851\n",
       "Math & Science, Special Needs                  1840\n",
       "Literacy & Language, Music & The Arts          1757\n",
       "Math & Science, Music & The Arts               1642\n",
       "Applied Learning, Special Needs                1467\n",
       "History & Civics, Literacy & Language          1421\n",
       "Health & Sports, Special Needs                 1391\n",
       "Warmth, Care & Hunger                          1309\n",
       "Math & Science, Applied Learning               1220\n",
       "Applied Learning, Math & Science               1052\n",
       "Literacy & Language, History & Civics           809\n",
       "Health & Sports, Literacy & Language            803\n",
       "Applied Learning, Music & The Arts              758\n",
       "Math & Science, History & Civics                652\n",
       "Literacy & Language, Applied Learning           636\n",
       "Applied Learning, Health & Sports               608\n",
       "Math & Science, Health & Sports                 414\n",
       "History & Civics, Math & Science                322\n",
       "History & Civics, Music & The Arts              312\n",
       "Special Needs, Music & The Arts                 302\n",
       "Health & Sports, Math & Science                 271\n",
       "History & Civics, Special Needs                 252\n",
       "Health & Sports, Applied Learning               192\n",
       "Applied Learning, History & Civics              178\n",
       "Health & Sports, Music & The Arts               155\n",
       "Music & The Arts, Special Needs                 138\n",
       "Literacy & Language, Health & Sports             72\n",
       "Health & Sports, History & Civics                43\n",
       "History & Civics, Applied Learning               42\n",
       "Special Needs, Health & Sports                   42\n",
       "Special Needs, Warmth, Care & Hunger             23\n",
       "Health & Sports, Warmth, Care & Hunger           23\n",
       "Music & The Arts, Health & Sports                19\n",
       "Music & The Arts, History & Civics               18\n",
       "History & Civics, Health & Sports                13\n",
       "Math & Science, Warmth, Care & Hunger            11\n",
       "Music & The Arts, Applied Learning               10\n",
       "Applied Learning, Warmth, Care & Hunger          10\n",
       "Literacy & Language, Warmth, Care & Hunger        9\n",
       "Music & The Arts, Warmth, Care & Hunger           2\n",
       "History & Civics, Warmth, Care & Hunger           1\n",
       "Name: project_subject_categories, dtype: int64"
      ]
     },
     "execution_count": 12,
     "metadata": {},
     "output_type": "execute_result"
    }
   ],
   "source": [
    "train_data['project_subject_categories'].value_counts()"
   ]
  },
  {
   "cell_type": "code",
   "execution_count": 13,
   "metadata": {},
   "outputs": [
    {
     "data": {
      "text/plain": [
       "0"
      ]
     },
     "execution_count": 13,
     "metadata": {},
     "output_type": "execute_result"
    }
   ],
   "source": [
    "train_data['project_subject_categories'].isnull().sum()"
   ]
  },
  {
   "cell_type": "code",
   "execution_count": 14,
   "metadata": {},
   "outputs": [],
   "source": [
    "train_data['project_subject_categories'] = train_data['project_subject_categories'].str.replace('&','_')\n",
    "train_data['project_subject_categories'] = train_data['project_subject_categories'].str.replace(',','_')\n",
    "train_data['project_subject_categories'] = train_data['project_subject_categories'].str.replace('The','')\n",
    "train_data['project_subject_categories'] = train_data['project_subject_categories'].str.replace(' ','')\n",
    "train_data['project_subject_categories'] = train_data['project_subject_categories'].str.lower()"
   ]
  },
  {
   "cell_type": "code",
   "execution_count": 15,
   "metadata": {
    "scrolled": true
   },
   "outputs": [
    {
     "data": {
      "text/plain": [
       "literacy_language                       23655\n",
       "math_science                            17072\n",
       "literacy_language_math_science          14636\n",
       "health_sports                           10177\n",
       "music_arts                               5180\n",
       "specialneeds                             4226\n",
       "literacy_language_specialneeds           3961\n",
       "appliedlearning                          3771\n",
       "math_science_literacy_language           2289\n",
       "appliedlearning_literacy_language        2191\n",
       "history_civics                           1851\n",
       "math_science_specialneeds                1840\n",
       "literacy_language_music_arts             1757\n",
       "math_science_music_arts                  1642\n",
       "appliedlearning_specialneeds             1467\n",
       "history_civics_literacy_language         1421\n",
       "health_sports_specialneeds               1391\n",
       "warmth_care_hunger                       1309\n",
       "math_science_appliedlearning             1220\n",
       "appliedlearning_math_science             1052\n",
       "literacy_language_history_civics          809\n",
       "health_sports_literacy_language           803\n",
       "appliedlearning_music_arts                758\n",
       "math_science_history_civics               652\n",
       "literacy_language_appliedlearning         636\n",
       "appliedlearning_health_sports             608\n",
       "math_science_health_sports                414\n",
       "history_civics_math_science               322\n",
       "history_civics_music_arts                 312\n",
       "specialneeds_music_arts                   302\n",
       "health_sports_math_science                271\n",
       "history_civics_specialneeds               252\n",
       "health_sports_appliedlearning             192\n",
       "appliedlearning_history_civics            178\n",
       "health_sports_music_arts                  155\n",
       "music_arts_specialneeds                   138\n",
       "literacy_language_health_sports            72\n",
       "health_sports_history_civics               43\n",
       "history_civics_appliedlearning             42\n",
       "specialneeds_health_sports                 42\n",
       "specialneeds_warmth_care_hunger            23\n",
       "health_sports_warmth_care_hunger           23\n",
       "music_arts_health_sports                   19\n",
       "music_arts_history_civics                  18\n",
       "history_civics_health_sports               13\n",
       "math_science_warmth_care_hunger            11\n",
       "music_arts_appliedlearning                 10\n",
       "appliedlearning_warmth_care_hunger         10\n",
       "literacy_language_warmth_care_hunger        9\n",
       "music_arts_warmth_care_hunger               2\n",
       "history_civics_warmth_care_hunger           1\n",
       "Name: project_subject_categories, dtype: int64"
      ]
     },
     "execution_count": 15,
     "metadata": {},
     "output_type": "execute_result"
    }
   ],
   "source": [
    "train_data['project_subject_categories'].value_counts()"
   ]
  },
  {
   "cell_type": "markdown",
   "metadata": {},
   "source": [
    "# project_subject_subcategories - 4"
   ]
  },
  {
   "cell_type": "code",
   "execution_count": 16,
   "metadata": {},
   "outputs": [
    {
     "data": {
      "text/plain": [
       "Literacy                             9486\n",
       "Literacy, Mathematics                8325\n",
       "Literature & Writing, Mathematics    5923\n",
       "Literacy, Literature & Writing       5571\n",
       "Mathematics                          5379\n",
       "                                     ... \n",
       "Community Service, Gym & Fitness        1\n",
       "Parent Involvement, Team Sports         1\n",
       "Gym & Fitness, Social Sciences          1\n",
       "Community Service, Music                1\n",
       "Economics, Foreign Languages            1\n",
       "Name: project_subject_subcategories, Length: 401, dtype: int64"
      ]
     },
     "execution_count": 16,
     "metadata": {},
     "output_type": "execute_result"
    }
   ],
   "source": [
    "train_data['project_subject_subcategories'].value_counts()"
   ]
  },
  {
   "cell_type": "code",
   "execution_count": 17,
   "metadata": {},
   "outputs": [
    {
     "data": {
      "text/plain": [
       "0"
      ]
     },
     "execution_count": 17,
     "metadata": {},
     "output_type": "execute_result"
    }
   ],
   "source": [
    "train_data['project_subject_subcategories'].isnull().sum()"
   ]
  },
  {
   "cell_type": "code",
   "execution_count": 18,
   "metadata": {},
   "outputs": [],
   "source": [
    "train_data['project_subject_subcategories'] = train_data['project_subject_subcategories'].str.replace('&','_')\n",
    "train_data['project_subject_subcategories'] = train_data['project_subject_subcategories'].str.replace(',','_')\n",
    "train_data['project_subject_subcategories'] = train_data['project_subject_subcategories'].str.replace('The','')\n",
    "train_data['project_subject_subcategories'] = train_data['project_subject_subcategories'].str.replace(' ','')\n",
    "train_data['project_subject_subcategories'] = train_data['project_subject_subcategories'].str.lower()"
   ]
  },
  {
   "cell_type": "markdown",
   "metadata": {},
   "source": [
    "# school_state - 5"
   ]
  },
  {
   "cell_type": "code",
   "execution_count": 19,
   "metadata": {},
   "outputs": [
    {
     "data": {
      "text/plain": [
       "CA    15388\n",
       "TX     7396\n",
       "NY     7318\n",
       "FL     6185\n",
       "NC     5091\n",
       "IL     4350\n",
       "GA     3963\n",
       "SC     3936\n",
       "MI     3161\n",
       "PA     3109\n",
       "IN     2620\n",
       "MO     2576\n",
       "OH     2467\n",
       "LA     2394\n",
       "MA     2389\n",
       "WA     2334\n",
       "OK     2276\n",
       "NJ     2237\n",
       "AZ     2147\n",
       "VA     2045\n",
       "WI     1827\n",
       "AL     1762\n",
       "UT     1731\n",
       "TN     1688\n",
       "CT     1663\n",
       "MD     1514\n",
       "NV     1367\n",
       "MS     1323\n",
       "KY     1304\n",
       "OR     1242\n",
       "MN     1208\n",
       "CO     1111\n",
       "AR     1049\n",
       "ID      693\n",
       "IA      666\n",
       "KS      634\n",
       "NM      557\n",
       "DC      516\n",
       "HI      507\n",
       "ME      505\n",
       "WV      503\n",
       "NH      348\n",
       "AK      345\n",
       "DE      343\n",
       "NE      309\n",
       "SD      300\n",
       "RI      285\n",
       "MT      245\n",
       "ND      143\n",
       "WY       98\n",
       "VT       80\n",
       "Name: school_state, dtype: int64"
      ]
     },
     "execution_count": 19,
     "metadata": {},
     "output_type": "execute_result"
    }
   ],
   "source": [
    "train_data['school_state'].value_counts()"
   ]
  },
  {
   "cell_type": "code",
   "execution_count": 20,
   "metadata": {},
   "outputs": [
    {
     "data": {
      "text/plain": [
       "0"
      ]
     },
     "execution_count": 20,
     "metadata": {},
     "output_type": "execute_result"
    }
   ],
   "source": [
    "train_data['school_state'] = train_data['school_state'].str.lower()\n",
    "train_data['school_state'].isnull().sum()"
   ]
  },
  {
   "cell_type": "markdown",
   "metadata": {},
   "source": [
    "# Preprocessing text"
   ]
  },
  {
   "cell_type": "markdown",
   "metadata": {},
   "source": [
    "# project_title - 1"
   ]
  },
  {
   "cell_type": "code",
   "execution_count": 21,
   "metadata": {},
   "outputs": [
    {
     "data": {
      "text/plain": [
       "0"
      ]
     },
     "execution_count": 21,
     "metadata": {},
     "output_type": "execute_result"
    }
   ],
   "source": [
    "train_data['project_title'].isnull().sum()"
   ]
  },
  {
   "cell_type": "code",
   "execution_count": 22,
   "metadata": {},
   "outputs": [],
   "source": [
    "words_in_project_title = []\n",
    "for word in train_data['project_title']:  # count the words in the title\n",
    "    words = len(word.split())\n",
    "    words_in_project_title.append(words)"
   ]
  },
  {
   "cell_type": "code",
   "execution_count": 23,
   "metadata": {},
   "outputs": [],
   "source": [
    "## adding a words_in_project_title as a feature in the dataset\n",
    "train_data['project_title_word'] = words_in_project_title  "
   ]
  },
  {
   "cell_type": "markdown",
   "metadata": {},
   "source": [
    "# project_essay - 2"
   ]
  },
  {
   "cell_type": "code",
   "execution_count": 24,
   "metadata": {},
   "outputs": [],
   "source": [
    "train_data['project_essay'] =  train_data['project_essay_1'].map(str)+train_data['project_essay_2'].map(str)+train_data['project_essay_3'].map(str)+train_data['project_essay_4'].map(str)"
   ]
  },
  {
   "cell_type": "code",
   "execution_count": 25,
   "metadata": {},
   "outputs": [],
   "source": [
    "train_data.drop('project_essay_1', axis=1, inplace=True)\n",
    "train_data.drop('project_essay_2', axis=1, inplace=True)\n",
    "train_data.drop('project_essay_3', axis=1, inplace=True)\n",
    "train_data.drop('project_essay_4', axis=1, inplace=True)"
   ]
  },
  {
   "cell_type": "code",
   "execution_count": 26,
   "metadata": {},
   "outputs": [],
   "source": [
    "words_in_project_essay = []\n",
    "for word in train_data['project_essay']:  # count the words in the essay\n",
    "    words = len(word.split())\n",
    "    words_in_project_essay.append(words)"
   ]
  },
  {
   "cell_type": "code",
   "execution_count": 27,
   "metadata": {},
   "outputs": [],
   "source": [
    "train_data['project_essay_word'] = words_in_project_essay"
   ]
  },
  {
   "cell_type": "code",
   "execution_count": 28,
   "metadata": {},
   "outputs": [],
   "source": [
    "# https://stackoverflow.com/a/47091490/4084039\n",
    "import re\n",
    "\n",
    "def decontracted(phrase):\n",
    "    # specific\n",
    "    phrase = re.sub(r\"won't\", \"will not\", phrase)\n",
    "    phrase = re.sub(r\"can\\'t\", \"can not\", phrase)\n",
    "\n",
    "    # general\n",
    "    phrase = re.sub(r\"n\\'t\", \" not\", phrase)\n",
    "    phrase = re.sub(r\"\\'re\", \" are\", phrase)\n",
    "    phrase = re.sub(r\"\\'s\", \" is\", phrase)\n",
    "    phrase = re.sub(r\"\\'d\", \" would\", phrase)\n",
    "    phrase = re.sub(r\"\\'ll\", \" will\", phrase)\n",
    "    phrase = re.sub(r\"\\'t\", \" not\", phrase)\n",
    "    phrase = re.sub(r\"\\'ve\", \" have\", phrase)\n",
    "    phrase = re.sub(r\"\\'m\", \" am\", phrase)\n",
    "    return phrase"
   ]
  },
  {
   "cell_type": "code",
   "execution_count": 29,
   "metadata": {},
   "outputs": [],
   "source": [
    "# https://gist.github.com/sebleier/554280\n",
    "# we are removing the words from the stop words list: 'no', 'nor', 'not'\n",
    "stopwords= ['i', 'me', 'my', 'myself', 'we', 'our', 'ours', 'ourselves', 'you', \"you're\", \"you've\",\\\n",
    "            \"you'll\", \"you'd\", 'your', 'yours', 'yourself', 'yourselves', 'he', 'him', 'his', 'himself', \\\n",
    "            'she', \"she's\", 'her', 'hers', 'herself', 'it', \"it's\", 'its', 'itself', 'they', 'them', 'their',\\\n",
    "            'theirs', 'themselves', 'what', 'which', 'who', 'whom', 'this', 'that', \"that'll\", 'these', 'those', \\\n",
    "            'am', 'is', 'are', 'was', 'were', 'be', 'been', 'being', 'have', 'has', 'had', 'having', 'do', 'does', \\\n",
    "            'did', 'doing', 'a', 'an', 'the', 'and', 'but', 'if', 'or', 'because', 'as', 'until', 'while', 'of', \\\n",
    "            'at', 'by', 'for', 'with', 'about', 'against', 'between', 'into', 'through', 'during', 'before', 'after',\\\n",
    "            'above', 'below', 'to', 'from', 'up', 'down', 'in', 'out', 'on', 'off', 'over', 'under', 'again', 'further',\\\n",
    "            'then', 'once', 'here', 'there', 'when', 'where', 'why', 'how', 'all', 'any', 'both', 'each', 'few', 'more',\\\n",
    "            'most', 'other', 'some', 'such', 'only', 'own', 'same', 'so', 'than', 'too', 'very', \\\n",
    "            's', 't', 'can', 'will', 'just', 'don', \"don't\", 'should', \"should've\", 'now', 'd', 'll', 'm', 'o', 're', \\\n",
    "            've', 'y', 'ain', 'aren', \"aren't\", 'couldn', \"couldn't\", 'didn', \"didn't\", 'doesn', \"doesn't\", 'hadn',\\\n",
    "            \"hadn't\", 'hasn', \"hasn't\", 'haven', \"haven't\", 'isn', \"isn't\", 'ma', 'mightn', \"mightn't\", 'mustn',\\\n",
    "            \"mustn't\", 'needn', \"needn't\", 'shan', \"shan't\", 'shouldn', \"shouldn't\", 'wasn', \"wasn't\", 'weren', \"weren't\", \\\n",
    "            'won', \"won't\", 'wouldn', \"wouldn't\"]"
   ]
  },
  {
   "cell_type": "code",
   "execution_count": 30,
   "metadata": {},
   "outputs": [],
   "source": [
    "# https://gist.github.com/sebleier/554280\n",
    "def preprocess_text(data):\n",
    "    preprocessed_text = []\n",
    "    for essay in tqdm(data):\n",
    "        text = decontracted(essay)\n",
    "        text = text.replace('\\\\r', ' ')\n",
    "        text = text.replace('\\\\n', ' ')\n",
    "        text = text.replace('\\\\\"', ' ')\n",
    "        text = re.sub('[^A-Za-z0-9]+', ' ', text)\n",
    "        text = ' '.join(e for e in text.split() if e.lower() not in stopwords)\n",
    "        preprocessed_text.append(text.lower().strip())\n",
    "    return preprocessed_text"
   ]
  },
  {
   "cell_type": "code",
   "execution_count": 31,
   "metadata": {},
   "outputs": [
    {
     "name": "stderr",
     "output_type": "stream",
     "text": [
      "100%|████████████████████████████████████████████████████████████████████████| 109248/109248 [01:04<00:00, 1685.20it/s]\n"
     ]
    }
   ],
   "source": [
    "train_data['project_essay'] = preprocess_text(train_data['project_essay'].values)"
   ]
  },
  {
   "cell_type": "code",
   "execution_count": 32,
   "metadata": {},
   "outputs": [
    {
     "data": {
      "text/plain": [
       "'moving 2nd grade 3rd grade beginning next school year takings current students move teach inclusion classroom includes students adhd sld well autistic students students work hard achieving goals no matter struggles may school teach houses great deal autistic students well ell students student love read work challenge also love move around work better able move room different areas rather usual set flexible seating options allow students different seating options instead sitting traditional desk chair able use flexible seating tools reduce stress anxiety tools beneficial students special needs also students proven fact students moving oxygen going brain means learning taking place flexible seating options allow students move traditional seat allows reduce stress classroom project significantly help students reduce stress anxiety standardized testing students 3rd grade required take state mandated test puts great deal stress students perform well test students able work throughout year less stressful classroom assistance flexible seating obtain skills needed successful standardized test nannan'"
      ]
     },
     "execution_count": 32,
     "metadata": {},
     "output_type": "execute_result"
    }
   ],
   "source": [
    "train_data['project_essay'][5]"
   ]
  },
  {
   "cell_type": "code",
   "execution_count": 33,
   "metadata": {},
   "outputs": [
    {
     "name": "stderr",
     "output_type": "stream",
     "text": [
      "100%|███████████████████████████████████████████████████████████████████████| 109248/109248 [00:02<00:00, 43718.14it/s]\n"
     ]
    }
   ],
   "source": [
    "train_data['project_title'] = preprocess_text(train_data['project_title'].values)"
   ]
  },
  {
   "cell_type": "code",
   "execution_count": 34,
   "metadata": {},
   "outputs": [
    {
     "data": {
      "text/plain": [
       "'flexible seating mrs jarvis terrific third graders'"
      ]
     },
     "execution_count": 34,
     "metadata": {},
     "output_type": "execute_result"
    }
   ],
   "source": [
    "train_data['project_title'][5]"
   ]
  },
  {
   "cell_type": "markdown",
   "metadata": {},
   "source": [
    "# project_resource_summary - 3"
   ]
  },
  {
   "cell_type": "code",
   "execution_count": 35,
   "metadata": {},
   "outputs": [
    {
     "data": {
      "text/plain": [
       "0"
      ]
     },
     "execution_count": 35,
     "metadata": {},
     "output_type": "execute_result"
    }
   ],
   "source": [
    "train_data['project_resource_summary'].isnull().sum()"
   ]
  },
  {
   "cell_type": "code",
   "execution_count": 36,
   "metadata": {},
   "outputs": [],
   "source": [
    "words_in_project_resource_summary = []\n",
    "for word in train_data['project_resource_summary']:  # count the words in the essay\n",
    "    words = len(word.split())\n",
    "    words_in_project_resource_summary.append(words)"
   ]
  },
  {
   "cell_type": "code",
   "execution_count": 37,
   "metadata": {},
   "outputs": [],
   "source": [
    "## adding a words_in_project_title as a feature in the dataset\n",
    "train_data['project_resource_summary_word'] = words_in_project_resource_summary"
   ]
  },
  {
   "cell_type": "code",
   "execution_count": 38,
   "metadata": {},
   "outputs": [
    {
     "name": "stderr",
     "output_type": "stream",
     "text": [
      "100%|███████████████████████████████████████████████████████████████████████| 109248/109248 [00:06<00:00, 16859.30it/s]\n"
     ]
    }
   ],
   "source": [
    "train_data['project_resource_summary'] = preprocess_text(train_data['project_resource_summary'].values)"
   ]
  },
  {
   "cell_type": "code",
   "execution_count": 39,
   "metadata": {},
   "outputs": [
    {
     "data": {
      "text/plain": [
       "'students need movement successful variety students different types needs flexible seating would assist not students special needs students'"
      ]
     },
     "execution_count": 39,
     "metadata": {},
     "output_type": "execute_result"
    }
   ],
   "source": [
    "train_data['project_resource_summary'][5]"
   ]
  },
  {
   "cell_type": "code",
   "execution_count": 40,
   "metadata": {},
   "outputs": [
    {
     "data": {
      "text/html": [
       "<div>\n",
       "<style scoped>\n",
       "    .dataframe tbody tr th:only-of-type {\n",
       "        vertical-align: middle;\n",
       "    }\n",
       "\n",
       "    .dataframe tbody tr th {\n",
       "        vertical-align: top;\n",
       "    }\n",
       "\n",
       "    .dataframe thead th {\n",
       "        text-align: right;\n",
       "    }\n",
       "</style>\n",
       "<table border=\"1\" class=\"dataframe\">\n",
       "  <thead>\n",
       "    <tr style=\"text-align: right;\">\n",
       "      <th></th>\n",
       "      <th>Unnamed: 0</th>\n",
       "      <th>id</th>\n",
       "      <th>teacher_id</th>\n",
       "      <th>teacher_prefix</th>\n",
       "      <th>school_state</th>\n",
       "      <th>project_submitted_datetime</th>\n",
       "      <th>project_grade_category</th>\n",
       "      <th>project_subject_categories</th>\n",
       "      <th>project_subject_subcategories</th>\n",
       "      <th>project_title</th>\n",
       "      <th>project_resource_summary</th>\n",
       "      <th>teacher_number_of_previously_posted_projects</th>\n",
       "      <th>project_is_approved</th>\n",
       "      <th>project_title_word</th>\n",
       "      <th>project_essay</th>\n",
       "      <th>project_essay_word</th>\n",
       "      <th>project_resource_summary_word</th>\n",
       "    </tr>\n",
       "  </thead>\n",
       "  <tbody>\n",
       "    <tr>\n",
       "      <th>0</th>\n",
       "      <td>160221</td>\n",
       "      <td>p253737</td>\n",
       "      <td>c90749f5d961ff158d4b4d1e7dc665fc</td>\n",
       "      <td>mrs</td>\n",
       "      <td>in</td>\n",
       "      <td>2016-12-05 13:43:57</td>\n",
       "      <td>PreK_2</td>\n",
       "      <td>literacy_language</td>\n",
       "      <td>esl_literacy</td>\n",
       "      <td>educational support english learners home</td>\n",
       "      <td>students need opportunities practice beginning...</td>\n",
       "      <td>0</td>\n",
       "      <td>0</td>\n",
       "      <td>7</td>\n",
       "      <td>students english learners working english seco...</td>\n",
       "      <td>272</td>\n",
       "      <td>13</td>\n",
       "    </tr>\n",
       "    <tr>\n",
       "      <th>1</th>\n",
       "      <td>140945</td>\n",
       "      <td>p258326</td>\n",
       "      <td>897464ce9ddc600bced1151f324dd63a</td>\n",
       "      <td>mr</td>\n",
       "      <td>fl</td>\n",
       "      <td>2016-10-25 09:22:10</td>\n",
       "      <td>6_8</td>\n",
       "      <td>history_civics_health_sports</td>\n",
       "      <td>civics_government_teamsports</td>\n",
       "      <td>wanted projector hungry learners</td>\n",
       "      <td>students need projector help viewing education...</td>\n",
       "      <td>7</td>\n",
       "      <td>1</td>\n",
       "      <td>5</td>\n",
       "      <td>students arrive school eager learn polite gene...</td>\n",
       "      <td>221</td>\n",
       "      <td>11</td>\n",
       "    </tr>\n",
       "    <tr>\n",
       "      <th>2</th>\n",
       "      <td>21895</td>\n",
       "      <td>p182444</td>\n",
       "      <td>3465aaf82da834c0582ebd0ef8040ca0</td>\n",
       "      <td>ms</td>\n",
       "      <td>az</td>\n",
       "      <td>2016-08-31 12:03:56</td>\n",
       "      <td>6_8</td>\n",
       "      <td>health_sports</td>\n",
       "      <td>health_wellness_teamsports</td>\n",
       "      <td>soccer equipment awesome middle school students</td>\n",
       "      <td>students need shine guards athletic socks socc...</td>\n",
       "      <td>1</td>\n",
       "      <td>0</td>\n",
       "      <td>7</td>\n",
       "      <td>true champions not always ones win guts mia ha...</td>\n",
       "      <td>361</td>\n",
       "      <td>19</td>\n",
       "    </tr>\n",
       "    <tr>\n",
       "      <th>3</th>\n",
       "      <td>45</td>\n",
       "      <td>p246581</td>\n",
       "      <td>f3cb9bffbba169bef1a77b243e620b60</td>\n",
       "      <td>mrs</td>\n",
       "      <td>ky</td>\n",
       "      <td>2016-10-06 21:16:17</td>\n",
       "      <td>PreK_2</td>\n",
       "      <td>literacy_language_math_science</td>\n",
       "      <td>literacy_mathematics</td>\n",
       "      <td>techie kindergarteners</td>\n",
       "      <td>students need engage reading math way inspire ...</td>\n",
       "      <td>4</td>\n",
       "      <td>1</td>\n",
       "      <td>2</td>\n",
       "      <td>work unique school filled esl english second l...</td>\n",
       "      <td>213</td>\n",
       "      <td>20</td>\n",
       "    </tr>\n",
       "    <tr>\n",
       "      <th>4</th>\n",
       "      <td>172407</td>\n",
       "      <td>p104768</td>\n",
       "      <td>be1f7507a41f8479dc06f047086a39ec</td>\n",
       "      <td>mrs</td>\n",
       "      <td>tx</td>\n",
       "      <td>2016-07-11 01:10:09</td>\n",
       "      <td>PreK_2</td>\n",
       "      <td>math_science</td>\n",
       "      <td>mathematics</td>\n",
       "      <td>interactive math tools</td>\n",
       "      <td>students need hands practice mathematics fun p...</td>\n",
       "      <td>1</td>\n",
       "      <td>1</td>\n",
       "      <td>3</td>\n",
       "      <td>second grade classroom next year made around 2...</td>\n",
       "      <td>234</td>\n",
       "      <td>26</td>\n",
       "    </tr>\n",
       "  </tbody>\n",
       "</table>\n",
       "</div>"
      ],
      "text/plain": [
       "   Unnamed: 0       id                        teacher_id teacher_prefix  \\\n",
       "0      160221  p253737  c90749f5d961ff158d4b4d1e7dc665fc            mrs   \n",
       "1      140945  p258326  897464ce9ddc600bced1151f324dd63a             mr   \n",
       "2       21895  p182444  3465aaf82da834c0582ebd0ef8040ca0             ms   \n",
       "3          45  p246581  f3cb9bffbba169bef1a77b243e620b60            mrs   \n",
       "4      172407  p104768  be1f7507a41f8479dc06f047086a39ec            mrs   \n",
       "\n",
       "  school_state project_submitted_datetime project_grade_category  \\\n",
       "0           in        2016-12-05 13:43:57                 PreK_2   \n",
       "1           fl        2016-10-25 09:22:10                    6_8   \n",
       "2           az        2016-08-31 12:03:56                    6_8   \n",
       "3           ky        2016-10-06 21:16:17                 PreK_2   \n",
       "4           tx        2016-07-11 01:10:09                 PreK_2   \n",
       "\n",
       "       project_subject_categories project_subject_subcategories  \\\n",
       "0               literacy_language                  esl_literacy   \n",
       "1    history_civics_health_sports  civics_government_teamsports   \n",
       "2                   health_sports    health_wellness_teamsports   \n",
       "3  literacy_language_math_science          literacy_mathematics   \n",
       "4                    math_science                   mathematics   \n",
       "\n",
       "                                     project_title  \\\n",
       "0        educational support english learners home   \n",
       "1                 wanted projector hungry learners   \n",
       "2  soccer equipment awesome middle school students   \n",
       "3                           techie kindergarteners   \n",
       "4                           interactive math tools   \n",
       "\n",
       "                            project_resource_summary  \\\n",
       "0  students need opportunities practice beginning...   \n",
       "1  students need projector help viewing education...   \n",
       "2  students need shine guards athletic socks socc...   \n",
       "3  students need engage reading math way inspire ...   \n",
       "4  students need hands practice mathematics fun p...   \n",
       "\n",
       "   teacher_number_of_previously_posted_projects  project_is_approved  \\\n",
       "0                                             0                    0   \n",
       "1                                             7                    1   \n",
       "2                                             1                    0   \n",
       "3                                             4                    1   \n",
       "4                                             1                    1   \n",
       "\n",
       "   project_title_word                                      project_essay  \\\n",
       "0                   7  students english learners working english seco...   \n",
       "1                   5  students arrive school eager learn polite gene...   \n",
       "2                   7  true champions not always ones win guts mia ha...   \n",
       "3                   2  work unique school filled esl english second l...   \n",
       "4                   3  second grade classroom next year made around 2...   \n",
       "\n",
       "   project_essay_word  project_resource_summary_word  \n",
       "0                 272                             13  \n",
       "1                 221                             11  \n",
       "2                 361                             19  \n",
       "3                 213                             20  \n",
       "4                 234                             26  "
      ]
     },
     "execution_count": 40,
     "metadata": {},
     "output_type": "execute_result"
    }
   ],
   "source": [
    "train_data.head()"
   ]
  },
  {
   "cell_type": "markdown",
   "metadata": {},
   "source": [
    "# Preprocessing Numerical"
   ]
  },
  {
   "cell_type": "markdown",
   "metadata": {},
   "source": [
    "# Price"
   ]
  },
  {
   "cell_type": "code",
   "execution_count": 41,
   "metadata": {},
   "outputs": [
    {
     "data": {
      "text/html": [
       "<div>\n",
       "<style scoped>\n",
       "    .dataframe tbody tr th:only-of-type {\n",
       "        vertical-align: middle;\n",
       "    }\n",
       "\n",
       "    .dataframe tbody tr th {\n",
       "        vertical-align: top;\n",
       "    }\n",
       "\n",
       "    .dataframe thead th {\n",
       "        text-align: right;\n",
       "    }\n",
       "</style>\n",
       "<table border=\"1\" class=\"dataframe\">\n",
       "  <thead>\n",
       "    <tr style=\"text-align: right;\">\n",
       "      <th></th>\n",
       "      <th>id</th>\n",
       "      <th>description</th>\n",
       "      <th>quantity</th>\n",
       "      <th>price</th>\n",
       "    </tr>\n",
       "  </thead>\n",
       "  <tbody>\n",
       "    <tr>\n",
       "      <th>0</th>\n",
       "      <td>p233245</td>\n",
       "      <td>LC652 - Lakeshore Double-Space Mobile Drying Rack</td>\n",
       "      <td>1</td>\n",
       "      <td>149.00</td>\n",
       "    </tr>\n",
       "    <tr>\n",
       "      <th>1</th>\n",
       "      <td>p069063</td>\n",
       "      <td>Bouncy Bands for Desks (Blue support pipes)</td>\n",
       "      <td>3</td>\n",
       "      <td>14.95</td>\n",
       "    </tr>\n",
       "    <tr>\n",
       "      <th>2</th>\n",
       "      <td>p069063</td>\n",
       "      <td>Cory Stories: A Kid's Book About Living With Adhd</td>\n",
       "      <td>1</td>\n",
       "      <td>8.45</td>\n",
       "    </tr>\n",
       "    <tr>\n",
       "      <th>3</th>\n",
       "      <td>p069063</td>\n",
       "      <td>Dixon Ticonderoga Wood-Cased #2 HB Pencils, Bo...</td>\n",
       "      <td>2</td>\n",
       "      <td>13.59</td>\n",
       "    </tr>\n",
       "    <tr>\n",
       "      <th>4</th>\n",
       "      <td>p069063</td>\n",
       "      <td>EDUCATIONAL INSIGHTS FLUORESCENT LIGHT FILTERS...</td>\n",
       "      <td>3</td>\n",
       "      <td>24.95</td>\n",
       "    </tr>\n",
       "  </tbody>\n",
       "</table>\n",
       "</div>"
      ],
      "text/plain": [
       "        id                                        description  quantity  \\\n",
       "0  p233245  LC652 - Lakeshore Double-Space Mobile Drying Rack         1   \n",
       "1  p069063        Bouncy Bands for Desks (Blue support pipes)         3   \n",
       "2  p069063  Cory Stories: A Kid's Book About Living With Adhd         1   \n",
       "3  p069063  Dixon Ticonderoga Wood-Cased #2 HB Pencils, Bo...         2   \n",
       "4  p069063  EDUCATIONAL INSIGHTS FLUORESCENT LIGHT FILTERS...         3   \n",
       "\n",
       "    price  \n",
       "0  149.00  \n",
       "1   14.95  \n",
       "2    8.45  \n",
       "3   13.59  \n",
       "4   24.95  "
      ]
     },
     "execution_count": 41,
     "metadata": {},
     "output_type": "execute_result"
    }
   ],
   "source": [
    "resource_data.head()"
   ]
  },
  {
   "cell_type": "code",
   "execution_count": 42,
   "metadata": {},
   "outputs": [
    {
     "data": {
      "text/html": [
       "<div>\n",
       "<style scoped>\n",
       "    .dataframe tbody tr th:only-of-type {\n",
       "        vertical-align: middle;\n",
       "    }\n",
       "\n",
       "    .dataframe tbody tr th {\n",
       "        vertical-align: top;\n",
       "    }\n",
       "\n",
       "    .dataframe thead th {\n",
       "        text-align: right;\n",
       "    }\n",
       "</style>\n",
       "<table border=\"1\" class=\"dataframe\">\n",
       "  <thead>\n",
       "    <tr style=\"text-align: right;\">\n",
       "      <th></th>\n",
       "      <th>id</th>\n",
       "      <th>price</th>\n",
       "      <th>quantity</th>\n",
       "    </tr>\n",
       "  </thead>\n",
       "  <tbody>\n",
       "    <tr>\n",
       "      <th>0</th>\n",
       "      <td>p000001</td>\n",
       "      <td>459.56</td>\n",
       "      <td>7</td>\n",
       "    </tr>\n",
       "    <tr>\n",
       "      <th>1</th>\n",
       "      <td>p000002</td>\n",
       "      <td>515.89</td>\n",
       "      <td>21</td>\n",
       "    </tr>\n",
       "    <tr>\n",
       "      <th>2</th>\n",
       "      <td>p000003</td>\n",
       "      <td>298.97</td>\n",
       "      <td>4</td>\n",
       "    </tr>\n",
       "    <tr>\n",
       "      <th>3</th>\n",
       "      <td>p000004</td>\n",
       "      <td>1113.69</td>\n",
       "      <td>98</td>\n",
       "    </tr>\n",
       "    <tr>\n",
       "      <th>4</th>\n",
       "      <td>p000005</td>\n",
       "      <td>485.99</td>\n",
       "      <td>8</td>\n",
       "    </tr>\n",
       "  </tbody>\n",
       "</table>\n",
       "</div>"
      ],
      "text/plain": [
       "        id    price  quantity\n",
       "0  p000001   459.56         7\n",
       "1  p000002   515.89        21\n",
       "2  p000003   298.97         4\n",
       "3  p000004  1113.69        98\n",
       "4  p000005   485.99         8"
      ]
     },
     "execution_count": 42,
     "metadata": {},
     "output_type": "execute_result"
    }
   ],
   "source": [
    "# https://stackoverflow.com/questions/22407798/how-to-reset-a-dataframes-indexes-for-all-groups-in-one-step\n",
    "price_data = resource_data.groupby('id').agg({'price':'sum', 'quantity':'sum'}).reset_index()\n",
    "price_data.head()"
   ]
  },
  {
   "cell_type": "code",
   "execution_count": 43,
   "metadata": {},
   "outputs": [],
   "source": [
    "# join two dataframes in python: \n",
    "train_data = pd.merge(train_data, price_data, on='id', how='left')"
   ]
  },
  {
   "cell_type": "code",
   "execution_count": 44,
   "metadata": {},
   "outputs": [
    {
     "data": {
      "text/html": [
       "<div>\n",
       "<style scoped>\n",
       "    .dataframe tbody tr th:only-of-type {\n",
       "        vertical-align: middle;\n",
       "    }\n",
       "\n",
       "    .dataframe tbody tr th {\n",
       "        vertical-align: top;\n",
       "    }\n",
       "\n",
       "    .dataframe thead th {\n",
       "        text-align: right;\n",
       "    }\n",
       "</style>\n",
       "<table border=\"1\" class=\"dataframe\">\n",
       "  <thead>\n",
       "    <tr style=\"text-align: right;\">\n",
       "      <th></th>\n",
       "      <th>Unnamed: 0</th>\n",
       "      <th>id</th>\n",
       "      <th>teacher_id</th>\n",
       "      <th>teacher_prefix</th>\n",
       "      <th>school_state</th>\n",
       "      <th>project_submitted_datetime</th>\n",
       "      <th>project_grade_category</th>\n",
       "      <th>project_subject_categories</th>\n",
       "      <th>project_subject_subcategories</th>\n",
       "      <th>project_title</th>\n",
       "      <th>project_resource_summary</th>\n",
       "      <th>teacher_number_of_previously_posted_projects</th>\n",
       "      <th>project_is_approved</th>\n",
       "      <th>project_title_word</th>\n",
       "      <th>project_essay</th>\n",
       "      <th>project_essay_word</th>\n",
       "      <th>project_resource_summary_word</th>\n",
       "      <th>price</th>\n",
       "      <th>quantity</th>\n",
       "    </tr>\n",
       "  </thead>\n",
       "  <tbody>\n",
       "    <tr>\n",
       "      <th>0</th>\n",
       "      <td>160221</td>\n",
       "      <td>p253737</td>\n",
       "      <td>c90749f5d961ff158d4b4d1e7dc665fc</td>\n",
       "      <td>mrs</td>\n",
       "      <td>in</td>\n",
       "      <td>2016-12-05 13:43:57</td>\n",
       "      <td>PreK_2</td>\n",
       "      <td>literacy_language</td>\n",
       "      <td>esl_literacy</td>\n",
       "      <td>educational support english learners home</td>\n",
       "      <td>students need opportunities practice beginning...</td>\n",
       "      <td>0</td>\n",
       "      <td>0</td>\n",
       "      <td>7</td>\n",
       "      <td>students english learners working english seco...</td>\n",
       "      <td>272</td>\n",
       "      <td>13</td>\n",
       "      <td>154.60</td>\n",
       "      <td>23</td>\n",
       "    </tr>\n",
       "    <tr>\n",
       "      <th>1</th>\n",
       "      <td>140945</td>\n",
       "      <td>p258326</td>\n",
       "      <td>897464ce9ddc600bced1151f324dd63a</td>\n",
       "      <td>mr</td>\n",
       "      <td>fl</td>\n",
       "      <td>2016-10-25 09:22:10</td>\n",
       "      <td>6_8</td>\n",
       "      <td>history_civics_health_sports</td>\n",
       "      <td>civics_government_teamsports</td>\n",
       "      <td>wanted projector hungry learners</td>\n",
       "      <td>students need projector help viewing education...</td>\n",
       "      <td>7</td>\n",
       "      <td>1</td>\n",
       "      <td>5</td>\n",
       "      <td>students arrive school eager learn polite gene...</td>\n",
       "      <td>221</td>\n",
       "      <td>11</td>\n",
       "      <td>299.00</td>\n",
       "      <td>1</td>\n",
       "    </tr>\n",
       "    <tr>\n",
       "      <th>2</th>\n",
       "      <td>21895</td>\n",
       "      <td>p182444</td>\n",
       "      <td>3465aaf82da834c0582ebd0ef8040ca0</td>\n",
       "      <td>ms</td>\n",
       "      <td>az</td>\n",
       "      <td>2016-08-31 12:03:56</td>\n",
       "      <td>6_8</td>\n",
       "      <td>health_sports</td>\n",
       "      <td>health_wellness_teamsports</td>\n",
       "      <td>soccer equipment awesome middle school students</td>\n",
       "      <td>students need shine guards athletic socks socc...</td>\n",
       "      <td>1</td>\n",
       "      <td>0</td>\n",
       "      <td>7</td>\n",
       "      <td>true champions not always ones win guts mia ha...</td>\n",
       "      <td>361</td>\n",
       "      <td>19</td>\n",
       "      <td>516.85</td>\n",
       "      <td>22</td>\n",
       "    </tr>\n",
       "    <tr>\n",
       "      <th>3</th>\n",
       "      <td>45</td>\n",
       "      <td>p246581</td>\n",
       "      <td>f3cb9bffbba169bef1a77b243e620b60</td>\n",
       "      <td>mrs</td>\n",
       "      <td>ky</td>\n",
       "      <td>2016-10-06 21:16:17</td>\n",
       "      <td>PreK_2</td>\n",
       "      <td>literacy_language_math_science</td>\n",
       "      <td>literacy_mathematics</td>\n",
       "      <td>techie kindergarteners</td>\n",
       "      <td>students need engage reading math way inspire ...</td>\n",
       "      <td>4</td>\n",
       "      <td>1</td>\n",
       "      <td>2</td>\n",
       "      <td>work unique school filled esl english second l...</td>\n",
       "      <td>213</td>\n",
       "      <td>20</td>\n",
       "      <td>232.90</td>\n",
       "      <td>4</td>\n",
       "    </tr>\n",
       "    <tr>\n",
       "      <th>4</th>\n",
       "      <td>172407</td>\n",
       "      <td>p104768</td>\n",
       "      <td>be1f7507a41f8479dc06f047086a39ec</td>\n",
       "      <td>mrs</td>\n",
       "      <td>tx</td>\n",
       "      <td>2016-07-11 01:10:09</td>\n",
       "      <td>PreK_2</td>\n",
       "      <td>math_science</td>\n",
       "      <td>mathematics</td>\n",
       "      <td>interactive math tools</td>\n",
       "      <td>students need hands practice mathematics fun p...</td>\n",
       "      <td>1</td>\n",
       "      <td>1</td>\n",
       "      <td>3</td>\n",
       "      <td>second grade classroom next year made around 2...</td>\n",
       "      <td>234</td>\n",
       "      <td>26</td>\n",
       "      <td>67.98</td>\n",
       "      <td>4</td>\n",
       "    </tr>\n",
       "  </tbody>\n",
       "</table>\n",
       "</div>"
      ],
      "text/plain": [
       "   Unnamed: 0       id                        teacher_id teacher_prefix  \\\n",
       "0      160221  p253737  c90749f5d961ff158d4b4d1e7dc665fc            mrs   \n",
       "1      140945  p258326  897464ce9ddc600bced1151f324dd63a             mr   \n",
       "2       21895  p182444  3465aaf82da834c0582ebd0ef8040ca0             ms   \n",
       "3          45  p246581  f3cb9bffbba169bef1a77b243e620b60            mrs   \n",
       "4      172407  p104768  be1f7507a41f8479dc06f047086a39ec            mrs   \n",
       "\n",
       "  school_state project_submitted_datetime project_grade_category  \\\n",
       "0           in        2016-12-05 13:43:57                 PreK_2   \n",
       "1           fl        2016-10-25 09:22:10                    6_8   \n",
       "2           az        2016-08-31 12:03:56                    6_8   \n",
       "3           ky        2016-10-06 21:16:17                 PreK_2   \n",
       "4           tx        2016-07-11 01:10:09                 PreK_2   \n",
       "\n",
       "       project_subject_categories project_subject_subcategories  \\\n",
       "0               literacy_language                  esl_literacy   \n",
       "1    history_civics_health_sports  civics_government_teamsports   \n",
       "2                   health_sports    health_wellness_teamsports   \n",
       "3  literacy_language_math_science          literacy_mathematics   \n",
       "4                    math_science                   mathematics   \n",
       "\n",
       "                                     project_title  \\\n",
       "0        educational support english learners home   \n",
       "1                 wanted projector hungry learners   \n",
       "2  soccer equipment awesome middle school students   \n",
       "3                           techie kindergarteners   \n",
       "4                           interactive math tools   \n",
       "\n",
       "                            project_resource_summary  \\\n",
       "0  students need opportunities practice beginning...   \n",
       "1  students need projector help viewing education...   \n",
       "2  students need shine guards athletic socks socc...   \n",
       "3  students need engage reading math way inspire ...   \n",
       "4  students need hands practice mathematics fun p...   \n",
       "\n",
       "   teacher_number_of_previously_posted_projects  project_is_approved  \\\n",
       "0                                             0                    0   \n",
       "1                                             7                    1   \n",
       "2                                             1                    0   \n",
       "3                                             4                    1   \n",
       "4                                             1                    1   \n",
       "\n",
       "   project_title_word                                      project_essay  \\\n",
       "0                   7  students english learners working english seco...   \n",
       "1                   5  students arrive school eager learn polite gene...   \n",
       "2                   7  true champions not always ones win guts mia ha...   \n",
       "3                   2  work unique school filled esl english second l...   \n",
       "4                   3  second grade classroom next year made around 2...   \n",
       "\n",
       "   project_essay_word  project_resource_summary_word   price  quantity  \n",
       "0                 272                             13  154.60        23  \n",
       "1                 221                             11  299.00         1  \n",
       "2                 361                             19  516.85        22  \n",
       "3                 213                             20  232.90         4  \n",
       "4                 234                             26   67.98         4  "
      ]
     },
     "execution_count": 44,
     "metadata": {},
     "output_type": "execute_result"
    }
   ],
   "source": [
    "train_data.head()"
   ]
  },
  {
   "cell_type": "code",
   "execution_count": 45,
   "metadata": {},
   "outputs": [],
   "source": [
    "from sklearn.preprocessing import StandardScaler            # applying the stand.scaler  to make data in same scale                          \n",
    "scaler = StandardScaler()\n",
    "scaler.fit(train_data['price'].values.reshape(-1, 1))\n",
    "train_data['std_price']=scaler.transform(train_data['price'].values.reshape(-1, 1) )"
   ]
  },
  {
   "cell_type": "code",
   "execution_count": 46,
   "metadata": {},
   "outputs": [],
   "source": [
    "# applying the MinMax scaler to make data in od range[0-1]\n",
    "from sklearn.preprocessing import MinMaxScaler\n",
    "scaler = MinMaxScaler()\n",
    "scaler.fit(train_data['price'].values.reshape(-1, 1))\n",
    "train_data['nrm_price']=scaler.transform(train_data['price'].values.reshape(-1, 1))"
   ]
  },
  {
   "cell_type": "markdown",
   "metadata": {
    "id": "WtVV13Fyb3dH"
   },
   "source": [
    "<h2>1.2 Splitting data into Train and cross validation(or test): Stratified Sampling</h2>"
   ]
  },
  {
   "cell_type": "code",
   "execution_count": 47,
   "metadata": {},
   "outputs": [
    {
     "data": {
      "text/plain": [
       "Unnamed: 0                                      0\n",
       "id                                              0\n",
       "teacher_id                                      0\n",
       "teacher_prefix                                  0\n",
       "school_state                                    0\n",
       "project_submitted_datetime                      0\n",
       "project_grade_category                          0\n",
       "project_subject_categories                      0\n",
       "project_subject_subcategories                   0\n",
       "project_title                                   0\n",
       "project_resource_summary                        0\n",
       "teacher_number_of_previously_posted_projects    0\n",
       "project_is_approved                             0\n",
       "project_title_word                              0\n",
       "project_essay                                   0\n",
       "project_essay_word                              0\n",
       "project_resource_summary_word                   0\n",
       "price                                           0\n",
       "quantity                                        0\n",
       "std_price                                       0\n",
       "nrm_price                                       0\n",
       "dtype: int64"
      ]
     },
     "execution_count": 47,
     "metadata": {},
     "output_type": "execute_result"
    }
   ],
   "source": [
    "train_data.isnull().sum()"
   ]
  },
  {
   "cell_type": "code",
   "execution_count": 48,
   "metadata": {},
   "outputs": [],
   "source": [
    "# 1. Split  dataset.\n",
    "y = train_data['project_is_approved'].values\n",
    "train_data.drop('project_is_approved',axis=1,inplace=True)\n",
    "X = train_data"
   ]
  },
  {
   "cell_type": "code",
   "execution_count": 49,
   "metadata": {},
   "outputs": [],
   "source": [
    "# train test split\n",
    "from sklearn.model_selection import train_test_split\n",
    "X_train, X_test, y_train, y_test = train_test_split(X, y, test_size=0.33, stratify=y)\n",
    "X_train, X_cv, y_train, y_cv = train_test_split(X_train, y_train, test_size=0.33, stratify=y_train)"
   ]
  },
  {
   "cell_type": "code",
   "execution_count": 50,
   "metadata": {},
   "outputs": [
    {
     "data": {
      "text/html": [
       "<div>\n",
       "<style scoped>\n",
       "    .dataframe tbody tr th:only-of-type {\n",
       "        vertical-align: middle;\n",
       "    }\n",
       "\n",
       "    .dataframe tbody tr th {\n",
       "        vertical-align: top;\n",
       "    }\n",
       "\n",
       "    .dataframe thead th {\n",
       "        text-align: right;\n",
       "    }\n",
       "</style>\n",
       "<table border=\"1\" class=\"dataframe\">\n",
       "  <thead>\n",
       "    <tr style=\"text-align: right;\">\n",
       "      <th></th>\n",
       "      <th>Unnamed: 0</th>\n",
       "      <th>id</th>\n",
       "      <th>teacher_id</th>\n",
       "      <th>teacher_prefix</th>\n",
       "      <th>school_state</th>\n",
       "      <th>project_submitted_datetime</th>\n",
       "      <th>project_grade_category</th>\n",
       "      <th>project_subject_categories</th>\n",
       "      <th>project_subject_subcategories</th>\n",
       "      <th>project_title</th>\n",
       "      <th>project_resource_summary</th>\n",
       "      <th>teacher_number_of_previously_posted_projects</th>\n",
       "      <th>project_title_word</th>\n",
       "      <th>project_essay</th>\n",
       "      <th>project_essay_word</th>\n",
       "      <th>project_resource_summary_word</th>\n",
       "      <th>price</th>\n",
       "      <th>quantity</th>\n",
       "      <th>std_price</th>\n",
       "      <th>nrm_price</th>\n",
       "    </tr>\n",
       "  </thead>\n",
       "  <tbody>\n",
       "    <tr>\n",
       "      <th>101063</th>\n",
       "      <td>138099</td>\n",
       "      <td>p163414</td>\n",
       "      <td>e0fb7c87a76a24c377dd4283125b135b</td>\n",
       "      <td>mrs</td>\n",
       "      <td>il</td>\n",
       "      <td>2016-06-22 23:50:16</td>\n",
       "      <td>PreK_2</td>\n",
       "      <td>literacy_language</td>\n",
       "      <td>literacy_literature_writing</td>\n",
       "      <td>author study books mary casanova</td>\n",
       "      <td>students need books specific author author study</td>\n",
       "      <td>2</td>\n",
       "      <td>6</td>\n",
       "      <td>students group energetic second graders elk gr...</td>\n",
       "      <td>182</td>\n",
       "      <td>12</td>\n",
       "      <td>170.76</td>\n",
       "      <td>15</td>\n",
       "      <td>-0.346559</td>\n",
       "      <td>0.017013</td>\n",
       "    </tr>\n",
       "    <tr>\n",
       "      <th>22157</th>\n",
       "      <td>106601</td>\n",
       "      <td>p150444</td>\n",
       "      <td>0eb47ae4a49788057ab89179366dfd2d</td>\n",
       "      <td>mrs</td>\n",
       "      <td>tx</td>\n",
       "      <td>2016-08-05 15:46:42</td>\n",
       "      <td>PreK_2</td>\n",
       "      <td>literacy_language_math_science</td>\n",
       "      <td>literature_writing_mathematics</td>\n",
       "      <td>circle time</td>\n",
       "      <td>students need teaching easel classroom not mob...</td>\n",
       "      <td>4</td>\n",
       "      <td>2</td>\n",
       "      <td>excited blessed continue teaching career aweso...</td>\n",
       "      <td>189</td>\n",
       "      <td>22</td>\n",
       "      <td>349.00</td>\n",
       "      <td>1</td>\n",
       "      <td>0.138452</td>\n",
       "      <td>0.034840</td>\n",
       "    </tr>\n",
       "    <tr>\n",
       "      <th>63988</th>\n",
       "      <td>75265</td>\n",
       "      <td>p124343</td>\n",
       "      <td>d796545b35ea17a1b9cf423eac224294</td>\n",
       "      <td>mrs</td>\n",
       "      <td>ok</td>\n",
       "      <td>2016-11-10 17:05:00</td>\n",
       "      <td>3_5</td>\n",
       "      <td>literacy_language_math_science</td>\n",
       "      <td>literature_writing_mathematics</td>\n",
       "      <td>learning technology</td>\n",
       "      <td>students need five tablets stay current today ...</td>\n",
       "      <td>0</td>\n",
       "      <td>3</td>\n",
       "      <td>students come school ready learn every day lov...</td>\n",
       "      <td>316</td>\n",
       "      <td>11</td>\n",
       "      <td>96.97</td>\n",
       "      <td>10</td>\n",
       "      <td>-0.547351</td>\n",
       "      <td>0.009633</td>\n",
       "    </tr>\n",
       "    <tr>\n",
       "      <th>87535</th>\n",
       "      <td>105469</td>\n",
       "      <td>p150845</td>\n",
       "      <td>427a97123efbbb426f7e384100c5623c</td>\n",
       "      <td>teacher</td>\n",
       "      <td>la</td>\n",
       "      <td>2016-09-02 17:42:31</td>\n",
       "      <td>PreK_2</td>\n",
       "      <td>appliedlearning_specialneeds</td>\n",
       "      <td>earlydevelopment_specialneeds</td>\n",
       "      <td>special education pssh need right tools</td>\n",
       "      <td>students need items help overcome exceptionali...</td>\n",
       "      <td>0</td>\n",
       "      <td>9</td>\n",
       "      <td>students variety special needs including devel...</td>\n",
       "      <td>410</td>\n",
       "      <td>19</td>\n",
       "      <td>542.85</td>\n",
       "      <td>23</td>\n",
       "      <td>0.665940</td>\n",
       "      <td>0.054228</td>\n",
       "    </tr>\n",
       "    <tr>\n",
       "      <th>98375</th>\n",
       "      <td>117847</td>\n",
       "      <td>p032048</td>\n",
       "      <td>acd985599bd44ad24a4fa0244cf79637</td>\n",
       "      <td>mrs</td>\n",
       "      <td>ky</td>\n",
       "      <td>2016-10-31 09:11:12</td>\n",
       "      <td>6_8</td>\n",
       "      <td>math_science_literacy_language</td>\n",
       "      <td>appliedsciences_literacy</td>\n",
       "      <td>digital accessories must</td>\n",
       "      <td>students need cases plug strips classroom tablets</td>\n",
       "      <td>4</td>\n",
       "      <td>5</td>\n",
       "      <td>not students resources home come ability level...</td>\n",
       "      <td>277</td>\n",
       "      <td>11</td>\n",
       "      <td>41.76</td>\n",
       "      <td>26</td>\n",
       "      <td>-0.697583</td>\n",
       "      <td>0.004111</td>\n",
       "    </tr>\n",
       "  </tbody>\n",
       "</table>\n",
       "</div>"
      ],
      "text/plain": [
       "        Unnamed: 0       id                        teacher_id teacher_prefix  \\\n",
       "101063      138099  p163414  e0fb7c87a76a24c377dd4283125b135b            mrs   \n",
       "22157       106601  p150444  0eb47ae4a49788057ab89179366dfd2d            mrs   \n",
       "63988        75265  p124343  d796545b35ea17a1b9cf423eac224294            mrs   \n",
       "87535       105469  p150845  427a97123efbbb426f7e384100c5623c        teacher   \n",
       "98375       117847  p032048  acd985599bd44ad24a4fa0244cf79637            mrs   \n",
       "\n",
       "       school_state project_submitted_datetime project_grade_category  \\\n",
       "101063           il        2016-06-22 23:50:16                 PreK_2   \n",
       "22157            tx        2016-08-05 15:46:42                 PreK_2   \n",
       "63988            ok        2016-11-10 17:05:00                    3_5   \n",
       "87535            la        2016-09-02 17:42:31                 PreK_2   \n",
       "98375            ky        2016-10-31 09:11:12                    6_8   \n",
       "\n",
       "            project_subject_categories   project_subject_subcategories  \\\n",
       "101063               literacy_language     literacy_literature_writing   \n",
       "22157   literacy_language_math_science  literature_writing_mathematics   \n",
       "63988   literacy_language_math_science  literature_writing_mathematics   \n",
       "87535     appliedlearning_specialneeds   earlydevelopment_specialneeds   \n",
       "98375   math_science_literacy_language        appliedsciences_literacy   \n",
       "\n",
       "                                  project_title  \\\n",
       "101063         author study books mary casanova   \n",
       "22157                               circle time   \n",
       "63988                       learning technology   \n",
       "87535   special education pssh need right tools   \n",
       "98375                  digital accessories must   \n",
       "\n",
       "                                 project_resource_summary  \\\n",
       "101063   students need books specific author author study   \n",
       "22157   students need teaching easel classroom not mob...   \n",
       "63988   students need five tablets stay current today ...   \n",
       "87535   students need items help overcome exceptionali...   \n",
       "98375   students need cases plug strips classroom tablets   \n",
       "\n",
       "        teacher_number_of_previously_posted_projects  project_title_word  \\\n",
       "101063                                             2                   6   \n",
       "22157                                              4                   2   \n",
       "63988                                              0                   3   \n",
       "87535                                              0                   9   \n",
       "98375                                              4                   5   \n",
       "\n",
       "                                            project_essay  project_essay_word  \\\n",
       "101063  students group energetic second graders elk gr...                 182   \n",
       "22157   excited blessed continue teaching career aweso...                 189   \n",
       "63988   students come school ready learn every day lov...                 316   \n",
       "87535   students variety special needs including devel...                 410   \n",
       "98375   not students resources home come ability level...                 277   \n",
       "\n",
       "        project_resource_summary_word   price  quantity  std_price  nrm_price  \n",
       "101063                             12  170.76        15  -0.346559   0.017013  \n",
       "22157                              22  349.00         1   0.138452   0.034840  \n",
       "63988                              11   96.97        10  -0.547351   0.009633  \n",
       "87535                              19  542.85        23   0.665940   0.054228  \n",
       "98375                              11   41.76        26  -0.697583   0.004111  "
      ]
     },
     "execution_count": 50,
     "metadata": {},
     "output_type": "execute_result"
    }
   ],
   "source": [
    "X_train.head()"
   ]
  },
  {
   "cell_type": "code",
   "execution_count": 51,
   "metadata": {},
   "outputs": [
    {
     "name": "stdout",
     "output_type": "stream",
     "text": [
      "Train: (49041, 20) (49041,)\n",
      "Cv: (24155, 20) (24155,)\n",
      "Test: (36052, 20) (36052,)\n"
     ]
    }
   ],
   "source": [
    "print(\"Train:\",X_train.shape, y_train.shape)\n",
    "print(\"Cv:\",X_cv.shape, y_cv.shape)\n",
    "print(\"Test:\",X_test.shape, y_test.shape)"
   ]
  },
  {
   "cell_type": "markdown",
   "metadata": {},
   "source": [
    "# Perform Bag of Words Vectorization of text data."
   ]
  },
  {
   "cell_type": "markdown",
   "metadata": {},
   "source": [
    "# eassy_bow"
   ]
  },
  {
   "cell_type": "code",
   "execution_count": 52,
   "metadata": {},
   "outputs": [
    {
     "data": {
      "text/plain": [
       "CountVectorizer(max_features=5000, min_df=10, ngram_range=(1, 4))"
      ]
     },
     "execution_count": 52,
     "metadata": {},
     "output_type": "execute_result"
    }
   ],
   "source": [
    "vectorizer_bow = CountVectorizer(min_df=10,ngram_range=(1,4), max_features=5000)\n",
    "vectorizer_bow.fit(X_train['project_essay'].values) # fit has to happen only on train data"
   ]
  },
  {
   "cell_type": "code",
   "execution_count": 53,
   "metadata": {},
   "outputs": [],
   "source": [
    "essay_bow_Xtrain = vectorizer_bow.transform(X_train['project_essay'].values)\n",
    "essay_bow_Xcv = vectorizer_bow.transform(X_cv['project_essay'].values)\n",
    "essay_bow_Xtest = vectorizer_bow.transform(X_test['project_essay'].values)"
   ]
  },
  {
   "cell_type": "code",
   "execution_count": 54,
   "metadata": {},
   "outputs": [
    {
     "name": "stdout",
     "output_type": "stream",
     "text": [
      "(49041, 5000)\n",
      "(24155, 5000)\n",
      "(36052, 5000)\n"
     ]
    }
   ],
   "source": [
    "print(essay_bow_Xtrain.shape)\n",
    "print(essay_bow_Xcv.shape)\n",
    "print(essay_bow_Xtest.shape)"
   ]
  },
  {
   "cell_type": "code",
   "execution_count": 55,
   "metadata": {},
   "outputs": [],
   "source": [
    "eassy_feature = vectorizer_bow.get_feature_names()"
   ]
  },
  {
   "cell_type": "markdown",
   "metadata": {},
   "source": [
    "# title_bow"
   ]
  },
  {
   "cell_type": "code",
   "execution_count": 56,
   "metadata": {},
   "outputs": [
    {
     "data": {
      "text/plain": [
       "CountVectorizer(max_features=5000, min_df=10, ngram_range=(1, 4))"
      ]
     },
     "execution_count": 56,
     "metadata": {},
     "output_type": "execute_result"
    }
   ],
   "source": [
    "vectorizer_bow = CountVectorizer(min_df=10,ngram_range=(1,4), max_features=5000)\n",
    "vectorizer_bow.fit(X_train['project_title'].values) # fit has to happen only on train data"
   ]
  },
  {
   "cell_type": "code",
   "execution_count": 57,
   "metadata": {},
   "outputs": [],
   "source": [
    "title_bow_Xtrain = vectorizer_bow.transform(X_train['project_title'].values)\n",
    "title_bow_Xcv = vectorizer_bow.transform(X_cv['project_title'].values)\n",
    "title_bow_Xtest = vectorizer_bow.transform(X_test['project_title'].values)"
   ]
  },
  {
   "cell_type": "code",
   "execution_count": 58,
   "metadata": {},
   "outputs": [
    {
     "name": "stdout",
     "output_type": "stream",
     "text": [
      "(49041, 3442)\n",
      "(24155, 3442)\n",
      "(36052, 3442)\n"
     ]
    }
   ],
   "source": [
    "print(title_bow_Xtrain.shape)\n",
    "print(title_bow_Xcv.shape)\n",
    "print(title_bow_Xtest.shape)"
   ]
  },
  {
   "cell_type": "code",
   "execution_count": 59,
   "metadata": {},
   "outputs": [],
   "source": [
    "title_feature = vectorizer_bow.get_feature_names()"
   ]
  },
  {
   "cell_type": "markdown",
   "metadata": {},
   "source": [
    "# project_resource_summary_bow"
   ]
  },
  {
   "cell_type": "code",
   "execution_count": 60,
   "metadata": {},
   "outputs": [
    {
     "data": {
      "text/plain": [
       "CountVectorizer(max_features=5000, min_df=10, ngram_range=(1, 4))"
      ]
     },
     "execution_count": 60,
     "metadata": {},
     "output_type": "execute_result"
    }
   ],
   "source": [
    "vectorizer_bow = CountVectorizer(min_df=10,ngram_range=(1,4), max_features=5000)\n",
    "vectorizer_bow.fit(X_train['project_resource_summary'].values) # fit has to happen only on train data"
   ]
  },
  {
   "cell_type": "code",
   "execution_count": 61,
   "metadata": {},
   "outputs": [],
   "source": [
    "resource_summary_bow_Xtrain = vectorizer_bow.transform(X_train['project_resource_summary'].values)\n",
    "resource_summary_bow_Xcv = vectorizer_bow.transform(X_cv['project_resource_summary'].values)\n",
    "resource_summary_bow_Xtest = vectorizer_bow.transform(X_test['project_resource_summary'].values)"
   ]
  },
  {
   "cell_type": "code",
   "execution_count": 62,
   "metadata": {},
   "outputs": [
    {
     "name": "stdout",
     "output_type": "stream",
     "text": [
      "(49041, 5000)\n",
      "(24155, 5000)\n",
      "(36052, 5000)\n"
     ]
    }
   ],
   "source": [
    "print(resource_summary_bow_Xtrain.shape)\n",
    "print(resource_summary_bow_Xcv.shape)\n",
    "print(resource_summary_bow_Xtest.shape)"
   ]
  },
  {
   "cell_type": "code",
   "execution_count": 63,
   "metadata": {},
   "outputs": [],
   "source": [
    "summary_feature = vectorizer_bow.get_feature_names()"
   ]
  },
  {
   "cell_type": "markdown",
   "metadata": {},
   "source": [
    "# Perform tfidf vectorization of text data"
   ]
  },
  {
   "cell_type": "markdown",
   "metadata": {},
   "source": [
    "# eassy_tfidf"
   ]
  },
  {
   "cell_type": "code",
   "execution_count": 64,
   "metadata": {},
   "outputs": [
    {
     "data": {
      "text/plain": [
       "TfidfVectorizer(max_features=5000, min_df=10, ngram_range=(1, 4))"
      ]
     },
     "execution_count": 64,
     "metadata": {},
     "output_type": "execute_result"
    }
   ],
   "source": [
    "vectorizer_tfidf = TfidfVectorizer(min_df=10,ngram_range=(1,4), max_features=5000)\n",
    "vectorizer_tfidf.fit(X_train['project_essay'].values) # fit has to happen only on train data"
   ]
  },
  {
   "cell_type": "code",
   "execution_count": 65,
   "metadata": {},
   "outputs": [],
   "source": [
    "essay_tfidf_Xtrain = vectorizer_tfidf.transform(X_train['project_essay'].values)\n",
    "essay_tfidf_Xcv = vectorizer_tfidf.transform(X_cv['project_essay'].values)\n",
    "essay_tfidf_Xtest = vectorizer_tfidf.transform(X_test['project_essay'].values)"
   ]
  },
  {
   "cell_type": "code",
   "execution_count": 66,
   "metadata": {},
   "outputs": [
    {
     "name": "stdout",
     "output_type": "stream",
     "text": [
      "(49041, 5000)\n",
      "(24155, 5000)\n",
      "(36052, 5000)\n"
     ]
    }
   ],
   "source": [
    "print(essay_tfidf_Xtrain.shape)\n",
    "print(essay_tfidf_Xcv.shape)\n",
    "print(essay_tfidf_Xtest.shape)"
   ]
  },
  {
   "cell_type": "markdown",
   "metadata": {},
   "source": [
    "# title_tfidf"
   ]
  },
  {
   "cell_type": "code",
   "execution_count": 67,
   "metadata": {},
   "outputs": [
    {
     "data": {
      "text/plain": [
       "TfidfVectorizer(max_features=5000, min_df=10, ngram_range=(1, 4))"
      ]
     },
     "execution_count": 67,
     "metadata": {},
     "output_type": "execute_result"
    }
   ],
   "source": [
    "vectorizer_tfidf = TfidfVectorizer(min_df=10,ngram_range=(1,4), max_features=5000)\n",
    "vectorizer_tfidf.fit(X_train['project_title'].values) # fit has to happen only on train data"
   ]
  },
  {
   "cell_type": "code",
   "execution_count": 68,
   "metadata": {},
   "outputs": [],
   "source": [
    "title_tfidf_Xtrain = vectorizer_tfidf.transform(X_train['project_title'].values)\n",
    "title_tfidf_Xcv = vectorizer_tfidf.transform(X_cv['project_title'].values)\n",
    "title_tfidf_Xtest = vectorizer_tfidf.transform(X_test['project_title'].values)"
   ]
  },
  {
   "cell_type": "code",
   "execution_count": 69,
   "metadata": {},
   "outputs": [
    {
     "name": "stdout",
     "output_type": "stream",
     "text": [
      "(49041, 3442)\n",
      "(24155, 3442)\n",
      "(36052, 3442)\n"
     ]
    }
   ],
   "source": [
    "print(title_tfidf_Xtrain.shape)\n",
    "print(title_tfidf_Xcv.shape)\n",
    "print(title_tfidf_Xtest.shape)"
   ]
  },
  {
   "cell_type": "markdown",
   "metadata": {},
   "source": [
    "# project_resource_summary_tfidf"
   ]
  },
  {
   "cell_type": "code",
   "execution_count": 70,
   "metadata": {},
   "outputs": [
    {
     "data": {
      "text/plain": [
       "TfidfVectorizer(max_features=5000, min_df=10, ngram_range=(1, 4))"
      ]
     },
     "execution_count": 70,
     "metadata": {},
     "output_type": "execute_result"
    }
   ],
   "source": [
    "vectorizer_tfidf = TfidfVectorizer(min_df=10,ngram_range=(1,4), max_features=5000)\n",
    "vectorizer_tfidf.fit(X_train['project_resource_summary'].values) # fit has to happen only on train data"
   ]
  },
  {
   "cell_type": "code",
   "execution_count": 71,
   "metadata": {},
   "outputs": [],
   "source": [
    "resource_summary_tfidf_Xtrain = vectorizer_tfidf.transform(X_train['project_resource_summary'].values)\n",
    "resource_summary_tfidf_Xcv = vectorizer_tfidf.transform(X_cv['project_resource_summary'].values)\n",
    "resource_summary_tfidf_Xtest = vectorizer_tfidf.transform(X_test['project_resource_summary'].values)"
   ]
  },
  {
   "cell_type": "code",
   "execution_count": 72,
   "metadata": {},
   "outputs": [
    {
     "name": "stdout",
     "output_type": "stream",
     "text": [
      "(49041, 5000)\n",
      "(24155, 5000)\n",
      "(36052, 5000)\n"
     ]
    }
   ],
   "source": [
    "print(resource_summary_tfidf_Xtrain.shape)\n",
    "print(resource_summary_tfidf_Xcv.shape)\n",
    "print(resource_summary_tfidf_Xtest.shape)"
   ]
  },
  {
   "cell_type": "markdown",
   "metadata": {},
   "source": [
    "# perform one-hot encoding of categorical features."
   ]
  },
  {
   "cell_type": "code",
   "execution_count": 73,
   "metadata": {},
   "outputs": [
    {
     "data": {
      "text/plain": [
       "Unnamed: 0                                      0\n",
       "id                                              0\n",
       "teacher_id                                      0\n",
       "teacher_prefix                                  0\n",
       "school_state                                    0\n",
       "project_submitted_datetime                      0\n",
       "project_grade_category                          0\n",
       "project_subject_categories                      0\n",
       "project_subject_subcategories                   0\n",
       "project_title                                   0\n",
       "project_resource_summary                        0\n",
       "teacher_number_of_previously_posted_projects    0\n",
       "project_title_word                              0\n",
       "project_essay                                   0\n",
       "project_essay_word                              0\n",
       "project_resource_summary_word                   0\n",
       "price                                           0\n",
       "quantity                                        0\n",
       "std_price                                       0\n",
       "nrm_price                                       0\n",
       "dtype: int64"
      ]
     },
     "execution_count": 73,
     "metadata": {},
     "output_type": "execute_result"
    }
   ],
   "source": [
    "train_data.isnull().sum()"
   ]
  },
  {
   "cell_type": "markdown",
   "metadata": {},
   "source": [
    "# OHE_school_state     "
   ]
  },
  {
   "cell_type": "code",
   "execution_count": 74,
   "metadata": {},
   "outputs": [
    {
     "data": {
      "text/plain": [
       "CountVectorizer()"
      ]
     },
     "execution_count": 74,
     "metadata": {},
     "output_type": "execute_result"
    }
   ],
   "source": [
    "vectorizer = CountVectorizer()\n",
    "vectorizer.fit(X_train['school_state'].values) # fit has to happen only on train data"
   ]
  },
  {
   "cell_type": "code",
   "execution_count": 75,
   "metadata": {},
   "outputs": [],
   "source": [
    "# we use the fitted CountVectorizer to convert the text to vector\n",
    "OHE_X_train_state = vectorizer.transform(X_train['school_state'].values)\n",
    "OHE_X_cv_state = vectorizer.transform(X_cv['school_state'].values)\n",
    "OHE_X_test_state = vectorizer.transform(X_test['school_state'].values)"
   ]
  },
  {
   "cell_type": "code",
   "execution_count": 76,
   "metadata": {},
   "outputs": [
    {
     "name": "stdout",
     "output_type": "stream",
     "text": [
      "(49041, 51)\n",
      "(24155, 51)\n",
      "(36052, 51)\n"
     ]
    }
   ],
   "source": [
    "print(OHE_X_train_state.shape)\n",
    "print(OHE_X_cv_state.shape)\n",
    "print(OHE_X_test_state.shape)"
   ]
  },
  {
   "cell_type": "code",
   "execution_count": 77,
   "metadata": {},
   "outputs": [],
   "source": [
    "school_state_feature = vectorizer.get_feature_names()"
   ]
  },
  {
   "cell_type": "markdown",
   "metadata": {},
   "source": [
    "# OHE_project_subject_categories                      "
   ]
  },
  {
   "cell_type": "code",
   "execution_count": 78,
   "metadata": {},
   "outputs": [
    {
     "data": {
      "text/plain": [
       "CountVectorizer()"
      ]
     },
     "execution_count": 78,
     "metadata": {},
     "output_type": "execute_result"
    }
   ],
   "source": [
    "vectorizer = CountVectorizer()\n",
    "vectorizer.fit(X_train['project_subject_categories'].values) # fit has to happen only on train data"
   ]
  },
  {
   "cell_type": "code",
   "execution_count": 79,
   "metadata": {},
   "outputs": [],
   "source": [
    "# we use the fitted CountVectorizer to convert the text to vector\n",
    "OHE_X_train_sub_cat = vectorizer.transform(X_train['project_subject_categories'].values)\n",
    "OHE_X_cv_sub_cat = vectorizer.transform(X_cv['project_subject_categories'].values)\n",
    "OHE_X_test_sub_cat = vectorizer.transform(X_test['project_subject_categories'].values)"
   ]
  },
  {
   "cell_type": "code",
   "execution_count": 80,
   "metadata": {},
   "outputs": [
    {
     "name": "stdout",
     "output_type": "stream",
     "text": [
      "(49041, 50)\n",
      "(24155, 50)\n",
      "(36052, 50)\n"
     ]
    }
   ],
   "source": [
    "print(OHE_X_train_sub_cat.shape)\n",
    "print(OHE_X_cv_sub_cat.shape)\n",
    "print(OHE_X_test_sub_cat.shape)"
   ]
  },
  {
   "cell_type": "code",
   "execution_count": 81,
   "metadata": {},
   "outputs": [],
   "source": [
    "project_subject_categories_feature = vectorizer.get_feature_names()"
   ]
  },
  {
   "cell_type": "markdown",
   "metadata": {},
   "source": [
    "# OHE_project_subject_subcategories                   "
   ]
  },
  {
   "cell_type": "code",
   "execution_count": 82,
   "metadata": {},
   "outputs": [
    {
     "data": {
      "text/plain": [
       "CountVectorizer()"
      ]
     },
     "execution_count": 82,
     "metadata": {},
     "output_type": "execute_result"
    }
   ],
   "source": [
    "vectorizer = CountVectorizer()\n",
    "vectorizer.fit(X_train['project_subject_subcategories'].values)"
   ]
  },
  {
   "cell_type": "code",
   "execution_count": 83,
   "metadata": {},
   "outputs": [],
   "source": [
    "# we use the fitted CounteVectorizer to convert the text to vector\n",
    "OHE_X_train_sub_sub_cat = vectorizer.transform(X_train['project_subject_subcategories'].values)\n",
    "OHE_X_cv_sub_sub_cat = vectorizer.transform(X_cv['project_subject_subcategories'].values)\n",
    "OHE_X_test_sub_sub_cat = vectorizer.transform(X_test['project_subject_subcategories'].values)"
   ]
  },
  {
   "cell_type": "code",
   "execution_count": 84,
   "metadata": {},
   "outputs": [
    {
     "name": "stdout",
     "output_type": "stream",
     "text": [
      "(49041, 375)\n",
      "(24155, 375)\n",
      "(36052, 375)\n"
     ]
    }
   ],
   "source": [
    "print(OHE_X_train_sub_sub_cat.shape)\n",
    "print(OHE_X_cv_sub_sub_cat.shape)\n",
    "print(OHE_X_test_sub_sub_cat.shape)"
   ]
  },
  {
   "cell_type": "code",
   "execution_count": 85,
   "metadata": {},
   "outputs": [],
   "source": [
    "project_subject_subcategories_feature = vectorizer.get_feature_names()"
   ]
  },
  {
   "cell_type": "markdown",
   "metadata": {},
   "source": [
    "# OHE_project_grade_category"
   ]
  },
  {
   "cell_type": "code",
   "execution_count": 86,
   "metadata": {},
   "outputs": [
    {
     "data": {
      "text/plain": [
       "CountVectorizer()"
      ]
     },
     "execution_count": 86,
     "metadata": {},
     "output_type": "execute_result"
    }
   ],
   "source": [
    "vectorizer = CountVectorizer()\n",
    "vectorizer.fit(X_train['project_grade_category'].values)"
   ]
  },
  {
   "cell_type": "code",
   "execution_count": 87,
   "metadata": {},
   "outputs": [],
   "source": [
    "# we use the fitted CounteVectorizer to convert the text to vector\n",
    "OHE_X_tain_grade_catagory = vectorizer.transform(X_train['project_grade_category'].values)\n",
    "OHE_X_cv_grade_catagory = vectorizer.transform(X_cv['project_grade_category'].values)\n",
    "OHE_X_test_grade_catagory = vectorizer.transform(X_test['project_grade_category'].values)"
   ]
  },
  {
   "cell_type": "code",
   "execution_count": 88,
   "metadata": {},
   "outputs": [
    {
     "name": "stdout",
     "output_type": "stream",
     "text": [
      "(49041, 4)\n",
      "(24155, 4)\n",
      "(36052, 4)\n"
     ]
    }
   ],
   "source": [
    "print(OHE_X_tain_grade_catagory.shape)\n",
    "print(OHE_X_cv_grade_catagory.shape)\n",
    "print(OHE_X_test_grade_catagory.shape)"
   ]
  },
  {
   "cell_type": "code",
   "execution_count": 89,
   "metadata": {},
   "outputs": [],
   "source": [
    "project_grade_category_feature = vectorizer.get_feature_names()"
   ]
  },
  {
   "cell_type": "markdown",
   "metadata": {},
   "source": [
    "# OHE_teacher_prefix"
   ]
  },
  {
   "cell_type": "code",
   "execution_count": 90,
   "metadata": {},
   "outputs": [
    {
     "data": {
      "text/plain": [
       "CountVectorizer()"
      ]
     },
     "execution_count": 90,
     "metadata": {},
     "output_type": "execute_result"
    }
   ],
   "source": [
    "vertorizer = CountVectorizer()\n",
    "vectorizer.fit(X_train['teacher_prefix'].values)"
   ]
  },
  {
   "cell_type": "code",
   "execution_count": 91,
   "metadata": {},
   "outputs": [],
   "source": [
    "# we use the fitted CounteVectorizer to convert the text to vector\n",
    "OHE_X_tain_teacher_prefix = vectorizer.transform(X_train['teacher_prefix'].values)\n",
    "OHE_X_cv_teacher_prefix = vectorizer.transform(X_cv['teacher_prefix'].values)\n",
    "OHE_X_test_teacher_prefix = vectorizer.transform(X_test['teacher_prefix'].values)"
   ]
  },
  {
   "cell_type": "code",
   "execution_count": 92,
   "metadata": {},
   "outputs": [
    {
     "name": "stdout",
     "output_type": "stream",
     "text": [
      "(49041, 5)\n",
      "(24155, 5)\n",
      "(36052, 5)\n"
     ]
    }
   ],
   "source": [
    "print(OHE_X_tain_teacher_prefix.shape)\n",
    "print(OHE_X_cv_teacher_prefix.shape)\n",
    "print(OHE_X_test_teacher_prefix.shape)"
   ]
  },
  {
   "cell_type": "code",
   "execution_count": 93,
   "metadata": {},
   "outputs": [],
   "source": [
    "teacher_prefix_feature = vectorizer.get_feature_names()"
   ]
  },
  {
   "cell_type": "markdown",
   "metadata": {},
   "source": [
    "# perform normalization of numerical features"
   ]
  },
  {
   "cell_type": "code",
   "execution_count": 94,
   "metadata": {},
   "outputs": [],
   "source": [
    "from sklearn.preprocessing import Normalizer"
   ]
  },
  {
   "cell_type": "markdown",
   "metadata": {},
   "source": [
    "# nor_price"
   ]
  },
  {
   "cell_type": "code",
   "execution_count": 95,
   "metadata": {},
   "outputs": [
    {
     "data": {
      "text/plain": [
       "Normalizer()"
      ]
     },
     "execution_count": 95,
     "metadata": {},
     "output_type": "execute_result"
    }
   ],
   "source": [
    "normalizer = Normalizer()\n",
    "normalizer.fit(X_train['price'].values.reshape(-1,1))"
   ]
  },
  {
   "cell_type": "code",
   "execution_count": 96,
   "metadata": {},
   "outputs": [],
   "source": [
    "norm_X_train_price = normalizer.transform(X_train['price'].values.reshape(-1,1))\n",
    "norm_X_cv_price = normalizer.transform(X_cv['price'].values.reshape(-1,1))\n",
    "norm_X_test_price = normalizer.transform(X_test['price'].values.reshape(-1,1))"
   ]
  },
  {
   "cell_type": "code",
   "execution_count": 97,
   "metadata": {},
   "outputs": [
    {
     "name": "stdout",
     "output_type": "stream",
     "text": [
      "(49041, 1)\n",
      "(24155, 1)\n",
      "(36052, 1)\n"
     ]
    }
   ],
   "source": [
    "print(norm_X_train_price.shape)\n",
    "print(norm_X_cv_price.shape)\n",
    "print(norm_X_test_price.shape)"
   ]
  },
  {
   "cell_type": "markdown",
   "metadata": {},
   "source": [
    "# nor_project_title_word"
   ]
  },
  {
   "cell_type": "code",
   "execution_count": 98,
   "metadata": {},
   "outputs": [
    {
     "data": {
      "text/plain": [
       "Normalizer()"
      ]
     },
     "execution_count": 98,
     "metadata": {},
     "output_type": "execute_result"
    }
   ],
   "source": [
    "normalizer = Normalizer()\n",
    "normalizer.fit(X_train['project_title_word'].values.reshape(-1,1))"
   ]
  },
  {
   "cell_type": "code",
   "execution_count": 99,
   "metadata": {},
   "outputs": [],
   "source": [
    "norm_X_train_project_title_word = normalizer.transform(X_train['project_title_word'].values.reshape(-1,1))\n",
    "norm_X_cv_project_title_word = normalizer.transform(X_cv['project_title_word'].values.reshape(-1,1))\n",
    "norm_X_test_project_title_word = normalizer.transform(X_test['project_title_word'].values.reshape(-1,1))"
   ]
  },
  {
   "cell_type": "code",
   "execution_count": 100,
   "metadata": {},
   "outputs": [
    {
     "name": "stdout",
     "output_type": "stream",
     "text": [
      "(49041, 1)\n",
      "(24155, 1)\n",
      "(36052, 1)\n"
     ]
    }
   ],
   "source": [
    "print(norm_X_train_project_title_word.shape)\n",
    "print(norm_X_cv_project_title_word.shape)\n",
    "print(norm_X_test_project_title_word.shape)"
   ]
  },
  {
   "cell_type": "markdown",
   "metadata": {},
   "source": [
    "# nor_project_essay_word"
   ]
  },
  {
   "cell_type": "code",
   "execution_count": 101,
   "metadata": {},
   "outputs": [
    {
     "data": {
      "text/plain": [
       "Normalizer()"
      ]
     },
     "execution_count": 101,
     "metadata": {},
     "output_type": "execute_result"
    }
   ],
   "source": [
    "normalizer = Normalizer()\n",
    "normalizer.fit(X_train['project_essay_word'].values.reshape(-1,1))"
   ]
  },
  {
   "cell_type": "code",
   "execution_count": 102,
   "metadata": {},
   "outputs": [],
   "source": [
    "norm_X_train_project_essay_word = normalizer.transform(X_train['project_essay_word'].values.reshape(-1,1))\n",
    "norm_X_cv_project_essay_word = normalizer.transform(X_cv['project_essay_word'].values.reshape(-1,1))\n",
    "norm_X_test_project_essay_word = normalizer.transform(X_test['project_essay_word'].values.reshape(-1,1))"
   ]
  },
  {
   "cell_type": "code",
   "execution_count": 103,
   "metadata": {},
   "outputs": [
    {
     "name": "stdout",
     "output_type": "stream",
     "text": [
      "(49041, 1)\n",
      "(24155, 1)\n",
      "(36052, 1)\n"
     ]
    }
   ],
   "source": [
    "print(norm_X_train_project_essay_word.shape)\n",
    "print(norm_X_cv_project_essay_word.shape)\n",
    "print(norm_X_test_project_essay_word.shape)"
   ]
  },
  {
   "cell_type": "markdown",
   "metadata": {},
   "source": [
    "# nor_project_resource_summary_word"
   ]
  },
  {
   "cell_type": "code",
   "execution_count": 104,
   "metadata": {},
   "outputs": [
    {
     "data": {
      "text/plain": [
       "Normalizer()"
      ]
     },
     "execution_count": 104,
     "metadata": {},
     "output_type": "execute_result"
    }
   ],
   "source": [
    "normalizer = Normalizer()\n",
    "normalizer.fit(X_train['project_resource_summary_word'].values.reshape(-1,1))"
   ]
  },
  {
   "cell_type": "code",
   "execution_count": 105,
   "metadata": {},
   "outputs": [],
   "source": [
    "norm_X_train_project_summary_word = normalizer.transform(X_train['project_resource_summary_word'].values.reshape(-1,1))\n",
    "norm_X_cv_project_summary_word = normalizer.transform(X_cv['project_resource_summary_word'].values.reshape(-1,1))\n",
    "norm_X_test_project_summary_word = normalizer.transform(X_test['project_resource_summary_word'].values.reshape(-1,1))"
   ]
  },
  {
   "cell_type": "code",
   "execution_count": 106,
   "metadata": {},
   "outputs": [
    {
     "name": "stdout",
     "output_type": "stream",
     "text": [
      "(49041, 1)\n",
      "(24155, 1)\n",
      "(36052, 1)\n"
     ]
    }
   ],
   "source": [
    "print(norm_X_train_project_summary_word.shape)\n",
    "print(norm_X_cv_project_summary_word.shape)\n",
    "print(norm_X_test_project_summary_word.shape)"
   ]
  },
  {
   "cell_type": "markdown",
   "metadata": {},
   "source": [
    "# nor_teacher_number_of_previously_posted_projects"
   ]
  },
  {
   "cell_type": "code",
   "execution_count": 107,
   "metadata": {},
   "outputs": [
    {
     "data": {
      "text/plain": [
       "Normalizer()"
      ]
     },
     "execution_count": 107,
     "metadata": {},
     "output_type": "execute_result"
    }
   ],
   "source": [
    "normalizer = Normalizer()\n",
    "normalizer.fit(X_train['teacher_number_of_previously_posted_projects'].values.reshape(-1,1))"
   ]
  },
  {
   "cell_type": "code",
   "execution_count": 108,
   "metadata": {},
   "outputs": [],
   "source": [
    "norm_X_train_previously_posted_projects = normalizer.transform(X_train['teacher_number_of_previously_posted_projects'].values.reshape(-1,1))\n",
    "norm_X_cv_previously_posted_projects = normalizer.transform(X_cv['teacher_number_of_previously_posted_projects'].values.reshape(-1,1))\n",
    "norm_X_test_previously_posted_projects = normalizer.transform(X_test['teacher_number_of_previously_posted_projects'].values.reshape(-1,1))"
   ]
  },
  {
   "cell_type": "code",
   "execution_count": 109,
   "metadata": {},
   "outputs": [
    {
     "name": "stdout",
     "output_type": "stream",
     "text": [
      "(49041, 1)\n",
      "(24155, 1)\n",
      "(36052, 1)\n"
     ]
    }
   ],
   "source": [
    "print(norm_X_train_previously_posted_projects.shape)\n",
    "print(norm_X_cv_previously_posted_projects.shape)\n",
    "print(norm_X_test_previously_posted_projects.shape)"
   ]
  },
  {
   "cell_type": "markdown",
   "metadata": {},
   "source": [
    "# nor_quantity"
   ]
  },
  {
   "cell_type": "code",
   "execution_count": 110,
   "metadata": {},
   "outputs": [
    {
     "data": {
      "text/plain": [
       "Normalizer()"
      ]
     },
     "execution_count": 110,
     "metadata": {},
     "output_type": "execute_result"
    }
   ],
   "source": [
    "normalizer = Normalizer()\n",
    "normalizer.fit(X_train['quantity'].values.reshape(-1,1))"
   ]
  },
  {
   "cell_type": "code",
   "execution_count": 111,
   "metadata": {},
   "outputs": [],
   "source": [
    "norm_X_train_quantity = normalizer.transform(X_train['quantity'].values.reshape(-1,1))\n",
    "norm_X_cv_quantity = normalizer.transform(X_cv['quantity'].values.reshape(-1,1))\n",
    "norm_X_test_quantity = normalizer.transform(X_test['quantity'].values.reshape(-1,1))"
   ]
  },
  {
   "cell_type": "code",
   "execution_count": 112,
   "metadata": {},
   "outputs": [
    {
     "name": "stdout",
     "output_type": "stream",
     "text": [
      "(49041, 1)\n",
      "(24155, 1)\n",
      "(36052, 1)\n"
     ]
    }
   ],
   "source": [
    "print(norm_X_train_quantity.shape)\n",
    "print(norm_X_cv_quantity.shape)\n",
    "print(norm_X_test_quantity.shape)"
   ]
  },
  {
   "cell_type": "markdown",
   "metadata": {},
   "source": [
    "# For set 1 stack up all the features using hstack()"
   ]
  },
  {
   "cell_type": "markdown",
   "metadata": {},
   "source": [
    "# Set 1 : categorical, numerical features + preprocessed_eassay (BOW)+preprocessed_title(BOW)"
   ]
  },
  {
   "cell_type": "code",
   "execution_count": 113,
   "metadata": {},
   "outputs": [],
   "source": [
    "# merge two sparse matrices: https://stackoverflow.com/a/19710648/4084039\n",
    "from scipy.sparse import hstack\n",
    "X_tr_bow =  hstack((essay_bow_Xtrain, title_bow_Xtrain, resource_summary_bow_Xtrain, OHE_X_train_state, OHE_X_train_sub_cat, OHE_X_train_sub_sub_cat, OHE_X_tain_grade_catagory, OHE_X_tain_teacher_prefix, norm_X_train_price,norm_X_train_project_title_word, norm_X_train_project_essay_word, norm_X_train_previously_posted_projects, norm_X_train_quantity)).tocsr()\n",
    "X_cv_bow =  hstack((essay_bow_Xcv, title_bow_Xcv, resource_summary_bow_Xcv, OHE_X_cv_state, OHE_X_cv_sub_cat, OHE_X_cv_sub_sub_cat, OHE_X_cv_grade_catagory, OHE_X_cv_teacher_prefix, norm_X_cv_price, norm_X_cv_project_title_word, norm_X_cv_project_essay_word, norm_X_cv_previously_posted_projects, norm_X_cv_quantity)).tocsr()\n",
    "X_te_bow =  hstack((essay_bow_Xtest, title_bow_Xtest, resource_summary_bow_Xtest, OHE_X_test_state, OHE_X_test_sub_cat, OHE_X_test_sub_sub_cat, OHE_X_test_grade_catagory, OHE_X_test_teacher_prefix, norm_X_test_price, norm_X_test_project_title_word, norm_X_test_project_essay_word, norm_X_test_previously_posted_projects, norm_X_test_quantity)).tocsr()"
   ]
  },
  {
   "cell_type": "code",
   "execution_count": 114,
   "metadata": {},
   "outputs": [
    {
     "name": "stdout",
     "output_type": "stream",
     "text": [
      "(49041, 13932)\n",
      "(24155, 13932)\n",
      "(36052, 13932)\n"
     ]
    }
   ],
   "source": [
    "print(X_tr_bow.shape)\n",
    "print(X_cv_bow.shape)\n",
    "print(X_te_bow.shape)"
   ]
  },
  {
   "cell_type": "markdown",
   "metadata": {},
   "source": [
    "# use batch wise method for Set-1(BOW)"
   ]
  },
  {
   "cell_type": "code",
   "execution_count": 115,
   "metadata": {},
   "outputs": [],
   "source": [
    "def batch_predict(clf, data):\n",
    "    # roc_auc_score(y_true, y_score) the 2nd parameter should be probability estimates of the positive class\n",
    "    # not the predicted outputs\n",
    "\n",
    "    y_data_pred = []\n",
    "    tr_loop = data.shape[0] - data.shape[0]%1000\n",
    "    # consider you X_tr shape is 49041, then your cr_loop will be 49041 - 49041%1000 = 49000\n",
    "    # in this for loop we will iterate unti the last 1000 multiplier\n",
    "    for i in range(0, tr_loop, 1000):\n",
    "        y_data_pred.extend(clf.predict_proba(data[i:i+1000])[:,1])\n",
    "    # we will be predicting for the last data points\n",
    "    y_data_pred.extend(clf.predict_proba(data[tr_loop:])[:,1])\n",
    "    \n",
    "    return y_data_pred"
   ]
  },
  {
   "cell_type": "code",
   "execution_count": 116,
   "metadata": {},
   "outputs": [
    {
     "name": "stderr",
     "output_type": "stream",
     "text": [
      "100%|██████████████████████████████████████████████████████████████████████████████████| 13/13 [00:04<00:00,  3.14it/s]\n"
     ]
    }
   ],
   "source": [
    "import matplotlib.pyplot as plt\n",
    "from sklearn.naive_bayes import MultinomialNB\n",
    "from sklearn.metrics import roc_auc_score\n",
    "import math\n",
    "\n",
    "train_auc = []\n",
    "cv_auc = []\n",
    "alphas = [0.0001,0.005,0.001,0.05,0.01,0.1,0.5,1,5,10,50,100,500]\n",
    "alphas_log=[]\n",
    "\n",
    "for i in tqdm(alphas):\n",
    "    log_alpha = math.log(i)\n",
    "    alphas_log.append(log_alpha)\n",
    "    prob_NB = MultinomialNB(alpha = i,class_prior=[0.5, 0.5]) # class_prior as per instructions\n",
    "    prob_NB.fit(X_tr_bow, y_train)\n",
    "    \n",
    "    y_train_pred = batch_predict(prob_NB, X_tr_bow)    \n",
    "    y_cv_pred = batch_predict(prob_NB, X_cv_bow)\n",
    "    \n",
    "    # roc_auc_score(y_true, y_score) the 2nd parameter should be probability estimates of the positive class\n",
    "    # not the predicted outputs        \n",
    "    train_auc.append(roc_auc_score(y_train,y_train_pred))\n",
    "    cv_auc.append(roc_auc_score(y_cv, y_cv_pred))"
   ]
  },
  {
   "cell_type": "code",
   "execution_count": 117,
   "metadata": {},
   "outputs": [
    {
     "data": {
      "image/png": "[encoded data removed]",
      "text/plain": [
       "<Figure size 720x720 with 1 Axes>"
      ]
     },
     "metadata": {
      "needs_background": "light"
     },
     "output_type": "display_data"
    }
   ],
   "source": [
    "plt.figure(figsize=(10,10)) #https://stackoverflow.com/questions/48429156/how-to-resize-matplotlib-scatter-plot\n",
    "plt.plot(alphas_log, train_auc, label='Train AUC')\n",
    "plt.plot(alphas_log, cv_auc, label='CV AUC')\n",
    "\n",
    "plt.scatter(alphas_log, train_auc, label='Train AUC points')\n",
    "plt.scatter(alphas_log, cv_auc, label='CV AUC points')\n",
    "\n",
    "plt.legend()\n",
    "plt.xlabel(\"alphas: hyperparameter\")\n",
    "plt.ylabel(\"AUC\")\n",
    "plt.title(\"ERROR PLOTS\")\n",
    "#https://stackoverflow.com/questions/8209568/how-do-i-draw-a-grid-onto-a-plot-in-python\n",
    "plt.rc('grid', linestyle=\"-\", color='black') \n",
    "plt.grid(True)\n",
    "plt.show()"
   ]
  },
  {
   "cell_type": "code",
   "execution_count": 118,
   "metadata": {},
   "outputs": [
    {
     "name": "stdout",
     "output_type": "stream",
     "text": [
      "alpha for the set-1 using batch method: Alpha_value = '1'  According to the Graph at 0 \n"
     ]
    }
   ],
   "source": [
    "print(\"alpha for the set-1 using batch method:\",\"Alpha_value = '1' \",\"According to the Graph at 0 \") "
   ]
  },
  {
   "cell_type": "markdown",
   "metadata": {},
   "source": [
    "# use GridSearchCV method for Set-1(BOW)"
   ]
  },
  {
   "cell_type": "code",
   "execution_count": 119,
   "metadata": {},
   "outputs": [
    {
     "name": "stdout",
     "output_type": "stream",
     "text": [
      "Fitting 10 folds for each of 13 candidates, totalling 130 fits\n",
      "[CV] END .......................................alpha=0.0001; total time=   0.0s\n",
      "[CV] END .......................................alpha=0.0001; total time=   0.0s\n",
      "[CV] END .......................................alpha=0.0001; total time=   0.0s\n",
      "[CV] END .......................................alpha=0.0001; total time=   0.0s\n",
      "[CV] END .......................................alpha=0.0001; total time=   0.0s\n",
      "[CV] END .......................................alpha=0.0001; total time=   0.0s\n",
      "[CV] END .......................................alpha=0.0001; total time=   0.0s\n",
      "[CV] END .......................................alpha=0.0001; total time=   0.0s\n",
      "[CV] END .......................................alpha=0.0001; total time=   0.0s\n",
      "[CV] END .......................................alpha=0.0001; total time=   0.0s\n",
      "[CV] END ........................................alpha=0.005; total time=   0.0s\n",
      "[CV] END ........................................alpha=0.005; total time=   0.0s\n",
      "[CV] END ........................................alpha=0.005; total time=   0.1s\n",
      "[CV] END ........................................alpha=0.005; total time=   0.0s\n",
      "[CV] END ........................................alpha=0.005; total time=   0.0s\n",
      "[CV] END ........................................alpha=0.005; total time=   0.0s\n",
      "[CV] END ........................................alpha=0.005; total time=   0.0s\n",
      "[CV] END ........................................alpha=0.005; total time=   0.0s\n",
      "[CV] END ........................................alpha=0.005; total time=   0.0s\n",
      "[CV] END ........................................alpha=0.005; total time=   0.0s\n",
      "[CV] END ........................................alpha=0.001; total time=   0.0s\n",
      "[CV] END ........................................alpha=0.001; total time=   0.0s\n",
      "[CV] END ........................................alpha=0.001; total time=   0.0s\n",
      "[CV] END ........................................alpha=0.001; total time=   0.0s\n",
      "[CV] END ........................................alpha=0.001; total time=   0.0s\n",
      "[CV] END ........................................alpha=0.001; total time=   0.0s\n",
      "[CV] END ........................................alpha=0.001; total time=   0.0s\n",
      "[CV] END ........................................alpha=0.001; total time=   0.0s\n",
      "[CV] END ........................................alpha=0.001; total time=   0.0s\n",
      "[CV] END ........................................alpha=0.001; total time=   0.0s\n",
      "[CV] END .........................................alpha=0.05; total time=   0.0s\n",
      "[CV] END .........................................alpha=0.05; total time=   0.0s\n",
      "[CV] END .........................................alpha=0.05; total time=   0.0s\n",
      "[CV] END .........................................alpha=0.05; total time=   0.0s\n",
      "[CV] END .........................................alpha=0.05; total time=   0.0s\n",
      "[CV] END .........................................alpha=0.05; total time=   0.0s\n",
      "[CV] END .........................................alpha=0.05; total time=   0.0s\n",
      "[CV] END .........................................alpha=0.05; total time=   0.0s\n",
      "[CV] END .........................................alpha=0.05; total time=   0.0s\n",
      "[CV] END .........................................alpha=0.05; total time=   0.0s\n",
      "[CV] END .........................................alpha=0.01; total time=   0.0s\n",
      "[CV] END .........................................alpha=0.01; total time=   0.0s\n",
      "[CV] END .........................................alpha=0.01; total time=   0.0s\n",
      "[CV] END .........................................alpha=0.01; total time=   0.0s\n",
      "[CV] END .........................................alpha=0.01; total time=   0.0s\n",
      "[CV] END .........................................alpha=0.01; total time=   0.0s\n",
      "[CV] END .........................................alpha=0.01; total time=   0.0s\n",
      "[CV] END .........................................alpha=0.01; total time=   0.0s\n",
      "[CV] END .........................................alpha=0.01; total time=   0.0s\n",
      "[CV] END .........................................alpha=0.01; total time=   0.0s\n",
      "[CV] END ..........................................alpha=0.1; total time=   0.0s\n",
      "[CV] END ..........................................alpha=0.1; total time=   0.0s\n",
      "[CV] END ..........................................alpha=0.1; total time=   0.0s\n",
      "[CV] END ..........................................alpha=0.1; total time=   0.0s\n",
      "[CV] END ..........................................alpha=0.1; total time=   0.0s\n",
      "[CV] END ..........................................alpha=0.1; total time=   0.0s\n",
      "[CV] END ..........................................alpha=0.1; total time=   0.0s\n",
      "[CV] END ..........................................alpha=0.1; total time=   0.0s\n",
      "[CV] END ..........................................alpha=0.1; total time=   0.0s\n",
      "[CV] END ..........................................alpha=0.1; total time=   0.0s\n",
      "[CV] END ..........................................alpha=0.5; total time=   0.0s\n",
      "[CV] END ..........................................alpha=0.5; total time=   0.0s\n",
      "[CV] END ..........................................alpha=0.5; total time=   0.0s\n",
      "[CV] END ..........................................alpha=0.5; total time=   0.0s\n",
      "[CV] END ..........................................alpha=0.5; total time=   0.0s\n",
      "[CV] END ..........................................alpha=0.5; total time=   0.0s\n",
      "[CV] END ..........................................alpha=0.5; total time=   0.0s\n",
      "[CV] END ..........................................alpha=0.5; total time=   0.0s\n",
      "[CV] END ..........................................alpha=0.5; total time=   0.0s\n",
      "[CV] END ..........................................alpha=0.5; total time=   0.0s\n",
      "[CV] END ............................................alpha=1; total time=   0.0s\n",
      "[CV] END ............................................alpha=1; total time=   0.0s\n",
      "[CV] END ............................................alpha=1; total time=   0.0s\n",
      "[CV] END ............................................alpha=1; total time=   0.0s\n",
      "[CV] END ............................................alpha=1; total time=   0.0s\n",
      "[CV] END ............................................alpha=1; total time=   0.0s\n",
      "[CV] END ............................................alpha=1; total time=   0.0s\n",
      "[CV] END ............................................alpha=1; total time=   0.0s\n",
      "[CV] END ............................................alpha=1; total time=   0.0s\n",
      "[CV] END ............................................alpha=1; total time=   0.0s\n",
      "[CV] END ............................................alpha=5; total time=   0.0s\n",
      "[CV] END ............................................alpha=5; total time=   0.0s\n",
      "[CV] END ............................................alpha=5; total time=   0.0s\n",
      "[CV] END ............................................alpha=5; total time=   0.0s\n",
      "[CV] END ............................................alpha=5; total time=   0.0s\n",
      "[CV] END ............................................alpha=5; total time=   0.0s\n",
      "[CV] END ............................................alpha=5; total time=   0.0s\n",
      "[CV] END ............................................alpha=5; total time=   0.0s\n",
      "[CV] END ............................................alpha=5; total time=   0.0s\n",
      "[CV] END ............................................alpha=5; total time=   0.0s\n",
      "[CV] END ...........................................alpha=10; total time=   0.0s\n",
      "[CV] END ...........................................alpha=10; total time=   0.0s\n",
      "[CV] END ...........................................alpha=10; total time=   0.0s\n",
      "[CV] END ...........................................alpha=10; total time=   0.0s\n",
      "[CV] END ...........................................alpha=10; total time=   0.0s\n",
      "[CV] END ...........................................alpha=10; total time=   0.0s\n",
      "[CV] END ...........................................alpha=10; total time=   0.0s\n",
      "[CV] END ...........................................alpha=10; total time=   0.0s\n",
      "[CV] END ...........................................alpha=10; total time=   0.0s\n",
      "[CV] END ...........................................alpha=10; total time=   0.0s\n",
      "[CV] END ...........................................alpha=50; total time=   0.0s\n",
      "[CV] END ...........................................alpha=50; total time=   0.0s\n"
     ]
    },
    {
     "name": "stdout",
     "output_type": "stream",
     "text": [
      "[CV] END ...........................................alpha=50; total time=   0.0s\n",
      "[CV] END ...........................................alpha=50; total time=   0.0s\n",
      "[CV] END ...........................................alpha=50; total time=   0.0s\n",
      "[CV] END ...........................................alpha=50; total time=   0.0s\n",
      "[CV] END ...........................................alpha=50; total time=   0.0s\n",
      "[CV] END ...........................................alpha=50; total time=   0.0s\n",
      "[CV] END ...........................................alpha=50; total time=   0.0s\n",
      "[CV] END ...........................................alpha=50; total time=   0.0s\n",
      "[CV] END ..........................................alpha=100; total time=   0.0s\n",
      "[CV] END ..........................................alpha=100; total time=   0.0s\n",
      "[CV] END ..........................................alpha=100; total time=   0.0s\n",
      "[CV] END ..........................................alpha=100; total time=   0.0s\n",
      "[CV] END ..........................................alpha=100; total time=   0.0s\n",
      "[CV] END ..........................................alpha=100; total time=   0.0s\n",
      "[CV] END ..........................................alpha=100; total time=   0.0s\n",
      "[CV] END ..........................................alpha=100; total time=   0.0s\n",
      "[CV] END ..........................................alpha=100; total time=   0.0s\n",
      "[CV] END ..........................................alpha=100; total time=   0.0s\n",
      "[CV] END ..........................................alpha=500; total time=   0.0s\n",
      "[CV] END ..........................................alpha=500; total time=   0.0s\n",
      "[CV] END ..........................................alpha=500; total time=   0.0s\n",
      "[CV] END ..........................................alpha=500; total time=   0.0s\n",
      "[CV] END ..........................................alpha=500; total time=   0.0s\n",
      "[CV] END ..........................................alpha=500; total time=   0.0s\n",
      "[CV] END ..........................................alpha=500; total time=   0.0s\n",
      "[CV] END ..........................................alpha=500; total time=   0.0s\n",
      "[CV] END ..........................................alpha=500; total time=   0.0s\n",
      "[CV] END ..........................................alpha=500; total time=   0.0s\n"
     ]
    }
   ],
   "source": [
    "# https://scikit-learn.org/stable/modules/generated/sklearn.model_selection.GridSearchCV.html\n",
    "from sklearn.model_selection import GridSearchCV\n",
    "\n",
    "prob_NB = MultinomialNB(class_prior=[0.5,0.5])\n",
    "parameters = {'alpha':[0.0001,0.005,0.001,0.05,0.01,0.1,0.5,1,5,10,50,100,500]}\n",
    "Grid_search = GridSearchCV(prob_NB, parameters, cv= 10, scoring='roc_auc',return_train_score=True,verbose=2,n_jobs=1)\n",
    "Grid_search.fit(X_tr_bow, y_train)\n",
    "\n",
    "results = pd.DataFrame.from_dict(Grid_search.cv_results_)\n",
    "results = results.sort_values(['param_alpha'])\n",
    "\n",
    "train_auc= results['mean_train_score']\n",
    "train_auc_std= results['std_train_score']\n",
    "cv_auc = results['mean_test_score'] \n",
    "cv_auc_std= results['std_test_score']\n",
    "alpha = results['param_alpha']\n",
    "\n",
    "log_alphas = []\n",
    "for alpha in alpha:\n",
    "    log_alphas.append(math.log(alpha))"
   ]
  },
  {
   "cell_type": "code",
   "execution_count": 120,
   "metadata": {},
   "outputs": [
    {
     "data": {
      "image/png": "[encoded data removed]",
      "text/plain": [
       "<Figure size 720x720 with 1 Axes>"
      ]
     },
     "metadata": {
      "needs_background": "light"
     },
     "output_type": "display_data"
    },
    {
     "data": {
      "text/html": [
       "<div>\n",
       "<style scoped>\n",
       "    .dataframe tbody tr th:only-of-type {\n",
       "        vertical-align: middle;\n",
       "    }\n",
       "\n",
       "    .dataframe tbody tr th {\n",
       "        vertical-align: top;\n",
       "    }\n",
       "\n",
       "    .dataframe thead th {\n",
       "        text-align: right;\n",
       "    }\n",
       "</style>\n",
       "<table border=\"1\" class=\"dataframe\">\n",
       "  <thead>\n",
       "    <tr style=\"text-align: right;\">\n",
       "      <th></th>\n",
       "      <th>mean_fit_time</th>\n",
       "      <th>std_fit_time</th>\n",
       "      <th>mean_score_time</th>\n",
       "      <th>std_score_time</th>\n",
       "      <th>param_alpha</th>\n",
       "      <th>params</th>\n",
       "      <th>split0_test_score</th>\n",
       "      <th>split1_test_score</th>\n",
       "      <th>split2_test_score</th>\n",
       "      <th>split3_test_score</th>\n",
       "      <th>...</th>\n",
       "      <th>split2_train_score</th>\n",
       "      <th>split3_train_score</th>\n",
       "      <th>split4_train_score</th>\n",
       "      <th>split5_train_score</th>\n",
       "      <th>split6_train_score</th>\n",
       "      <th>split7_train_score</th>\n",
       "      <th>split8_train_score</th>\n",
       "      <th>split9_train_score</th>\n",
       "      <th>mean_train_score</th>\n",
       "      <th>std_train_score</th>\n",
       "    </tr>\n",
       "  </thead>\n",
       "  <tbody>\n",
       "    <tr>\n",
       "      <th>0</th>\n",
       "      <td>0.075336</td>\n",
       "      <td>0.006744</td>\n",
       "      <td>0.009042</td>\n",
       "      <td>0.003747</td>\n",
       "      <td>0.0001</td>\n",
       "      <td>{'alpha': 0.0001}</td>\n",
       "      <td>0.702725</td>\n",
       "      <td>0.686393</td>\n",
       "      <td>0.692847</td>\n",
       "      <td>0.682345</td>\n",
       "      <td>...</td>\n",
       "      <td>0.779289</td>\n",
       "      <td>0.777934</td>\n",
       "      <td>0.775399</td>\n",
       "      <td>0.777152</td>\n",
       "      <td>0.776779</td>\n",
       "      <td>0.776747</td>\n",
       "      <td>0.777716</td>\n",
       "      <td>0.778016</td>\n",
       "      <td>0.777644</td>\n",
       "      <td>0.001119</td>\n",
       "    </tr>\n",
       "    <tr>\n",
       "      <th>2</th>\n",
       "      <td>0.072680</td>\n",
       "      <td>0.003998</td>\n",
       "      <td>0.008871</td>\n",
       "      <td>0.004367</td>\n",
       "      <td>0.001</td>\n",
       "      <td>{'alpha': 0.001}</td>\n",
       "      <td>0.705410</td>\n",
       "      <td>0.689503</td>\n",
       "      <td>0.697689</td>\n",
       "      <td>0.687425</td>\n",
       "      <td>...</td>\n",
       "      <td>0.776484</td>\n",
       "      <td>0.775102</td>\n",
       "      <td>0.772705</td>\n",
       "      <td>0.774437</td>\n",
       "      <td>0.774149</td>\n",
       "      <td>0.774183</td>\n",
       "      <td>0.774930</td>\n",
       "      <td>0.775263</td>\n",
       "      <td>0.774922</td>\n",
       "      <td>0.001077</td>\n",
       "    </tr>\n",
       "    <tr>\n",
       "      <th>1</th>\n",
       "      <td>0.083902</td>\n",
       "      <td>0.020968</td>\n",
       "      <td>0.008833</td>\n",
       "      <td>0.002723</td>\n",
       "      <td>0.005</td>\n",
       "      <td>{'alpha': 0.005}</td>\n",
       "      <td>0.707010</td>\n",
       "      <td>0.691483</td>\n",
       "      <td>0.700728</td>\n",
       "      <td>0.691044</td>\n",
       "      <td>...</td>\n",
       "      <td>0.773982</td>\n",
       "      <td>0.772585</td>\n",
       "      <td>0.770319</td>\n",
       "      <td>0.772029</td>\n",
       "      <td>0.771811</td>\n",
       "      <td>0.771898</td>\n",
       "      <td>0.772444</td>\n",
       "      <td>0.772806</td>\n",
       "      <td>0.772499</td>\n",
       "      <td>0.001038</td>\n",
       "    </tr>\n",
       "    <tr>\n",
       "      <th>4</th>\n",
       "      <td>0.082530</td>\n",
       "      <td>0.010975</td>\n",
       "      <td>0.008266</td>\n",
       "      <td>0.001445</td>\n",
       "      <td>0.01</td>\n",
       "      <td>{'alpha': 0.01}</td>\n",
       "      <td>0.707618</td>\n",
       "      <td>0.692234</td>\n",
       "      <td>0.701936</td>\n",
       "      <td>0.692482</td>\n",
       "      <td>...</td>\n",
       "      <td>0.772736</td>\n",
       "      <td>0.771337</td>\n",
       "      <td>0.769136</td>\n",
       "      <td>0.770831</td>\n",
       "      <td>0.770651</td>\n",
       "      <td>0.770756</td>\n",
       "      <td>0.771206</td>\n",
       "      <td>0.771578</td>\n",
       "      <td>0.771294</td>\n",
       "      <td>0.001019</td>\n",
       "    </tr>\n",
       "    <tr>\n",
       "      <th>3</th>\n",
       "      <td>0.072440</td>\n",
       "      <td>0.003369</td>\n",
       "      <td>0.009106</td>\n",
       "      <td>0.005482</td>\n",
       "      <td>0.05</td>\n",
       "      <td>{'alpha': 0.05}</td>\n",
       "      <td>0.708924</td>\n",
       "      <td>0.693751</td>\n",
       "      <td>0.704327</td>\n",
       "      <td>0.695713</td>\n",
       "      <td>...</td>\n",
       "      <td>0.769328</td>\n",
       "      <td>0.767921</td>\n",
       "      <td>0.765899</td>\n",
       "      <td>0.767550</td>\n",
       "      <td>0.767480</td>\n",
       "      <td>0.767627</td>\n",
       "      <td>0.767829</td>\n",
       "      <td>0.768225</td>\n",
       "      <td>0.767994</td>\n",
       "      <td>0.000971</td>\n",
       "    </tr>\n",
       "  </tbody>\n",
       "</table>\n",
       "<p>5 rows × 31 columns</p>\n",
       "</div>"
      ],
      "text/plain": [
       "   mean_fit_time  std_fit_time  mean_score_time  std_score_time param_alpha  \\\n",
       "0       0.075336      0.006744         0.009042        0.003747      0.0001   \n",
       "2       0.072680      0.003998         0.008871        0.004367       0.001   \n",
       "1       0.083902      0.020968         0.008833        0.002723       0.005   \n",
       "4       0.082530      0.010975         0.008266        0.001445        0.01   \n",
       "3       0.072440      0.003369         0.009106        0.005482        0.05   \n",
       "\n",
       "              params  split0_test_score  split1_test_score  split2_test_score  \\\n",
       "0  {'alpha': 0.0001}           0.702725           0.686393           0.692847   \n",
       "2   {'alpha': 0.001}           0.705410           0.689503           0.697689   \n",
       "1   {'alpha': 0.005}           0.707010           0.691483           0.700728   \n",
       "4    {'alpha': 0.01}           0.707618           0.692234           0.701936   \n",
       "3    {'alpha': 0.05}           0.708924           0.693751           0.704327   \n",
       "\n",
       "   split3_test_score  ...  split2_train_score  split3_train_score  \\\n",
       "0           0.682345  ...            0.779289            0.777934   \n",
       "2           0.687425  ...            0.776484            0.775102   \n",
       "1           0.691044  ...            0.773982            0.772585   \n",
       "4           0.692482  ...            0.772736            0.771337   \n",
       "3           0.695713  ...            0.769328            0.767921   \n",
       "\n",
       "   split4_train_score  split5_train_score  split6_train_score  \\\n",
       "0            0.775399            0.777152            0.776779   \n",
       "2            0.772705            0.774437            0.774149   \n",
       "1            0.770319            0.772029            0.771811   \n",
       "4            0.769136            0.770831            0.770651   \n",
       "3            0.765899            0.767550            0.767480   \n",
       "\n",
       "   split7_train_score  split8_train_score  split9_train_score  \\\n",
       "0            0.776747            0.777716            0.778016   \n",
       "2            0.774183            0.774930            0.775263   \n",
       "1            0.771898            0.772444            0.772806   \n",
       "4            0.770756            0.771206            0.771578   \n",
       "3            0.767627            0.767829            0.768225   \n",
       "\n",
       "   mean_train_score  std_train_score  \n",
       "0          0.777644         0.001119  \n",
       "2          0.774922         0.001077  \n",
       "1          0.772499         0.001038  \n",
       "4          0.771294         0.001019  \n",
       "3          0.767994         0.000971  \n",
       "\n",
       "[5 rows x 31 columns]"
      ]
     },
     "execution_count": 120,
     "metadata": {},
     "output_type": "execute_result"
    }
   ],
   "source": [
    "# https://scikit-learn.org/stable/modules/generated/sklearn.model_selection.GridSearchCV.html\n",
    "plt.figure(figsize=(10,10))\n",
    "plt.plot(log_alphas, train_auc, label='Train AUC')\n",
    "# this code is copied from here: https://stackoverflow.com/a/48803361/4084039\n",
    "plt.plot(log_alphas, cv_auc, label='CV AUC')\n",
    "# this code is copied from here: https://stackoverflow.com/a/48803361/4084039\n",
    "plt.scatter(log_alphas, train_auc, label='Train AUC points')\n",
    "plt.scatter(log_alphas, cv_auc, label='CV AUC points')\n",
    "\n",
    "\n",
    "plt.legend()\n",
    "plt.xlabel(\"alphas: hyperparameter\")\n",
    "plt.ylabel(\"AUC\")\n",
    "plt.title(\"Hyper parameter Vs AUC plot\")\n",
    "plt.rc('grid', linestyle=\"-\", color='black') \n",
    "plt.grid(True)\n",
    "plt.show()\n",
    "\n",
    "results.head()"
   ]
  },
  {
   "cell_type": "code",
   "execution_count": 121,
   "metadata": {},
   "outputs": [
    {
     "data": {
      "image/png": "[encoded data removed]",
      "text/plain": [
       "<Figure size 720x720 with 1 Axes>"
      ]
     },
     "metadata": {
      "needs_background": "light"
     },
     "output_type": "display_data"
    }
   ],
   "source": [
    "# https://scikit-learn.org/stable/modules/generated/sklearn.metrics.roc_curve.html#sklearn.metrics.roc_curve\n",
    "from sklearn.metrics import roc_curve, auc\n",
    "set1_bow = MultinomialNB(alpha = 1,class_prior=[0.5,0.5])\n",
    "set1_bow.fit(X_tr_bow, y_train)\n",
    "\n",
    "y_train_pred = batch_predict(set1_bow, X_tr_bow)    \n",
    "y_test_pred = batch_predict(set1_bow, X_te_bow)\n",
    "\n",
    "train_fpr, train_tpr, tr_thresholds = roc_curve(y_train, y_train_pred)\n",
    "test_fpr, test_tpr, te_thresholds = roc_curve(y_test, y_test_pred)\n",
    "\n",
    "plt.figure(figsize=(10,10))\n",
    "plt.plot(train_fpr, train_tpr, label=\"Train AUC =\"+str(auc(train_fpr, train_tpr)))\n",
    "plt.plot(test_fpr, test_tpr, label=\"Test AUC =\"+str(auc(test_fpr, test_tpr)))\n",
    "plt.legend()\n",
    "plt.ylabel(\"True Positive Rate(TPR)\")\n",
    "plt.xlabel(\"False Positive Rate(FPR)\")\n",
    "plt.title(\"AUC\")\n",
    "plt.rc('grid', linestyle=\"-\", color='black') \n",
    "plt.grid(True)\n",
    "plt.show()"
   ]
  },
  {
   "cell_type": "markdown",
   "metadata": {},
   "source": [
    "# Summary"
   ]
  },
  {
   "cell_type": "code",
   "execution_count": 122,
   "metadata": {},
   "outputs": [],
   "source": [
    "# for set- 1 (bow), batch wise method we get train and test AOC .73 and .69 Respectively"
   ]
  },
  {
   "cell_type": "markdown",
   "metadata": {},
   "source": [
    "# Plot confusion matrix based on the best threshold value"
   ]
  },
  {
   "cell_type": "code",
   "execution_count": 123,
   "metadata": {},
   "outputs": [],
   "source": [
    "# confusion matrix with predicted and original labels of test data points"
   ]
  },
  {
   "cell_type": "code",
   "execution_count": 124,
   "metadata": {},
   "outputs": [],
   "source": [
    "from sklearn.metrics import confusion_matrix\n",
    "\n",
    "# we are writing our own function for predict, with defined thresould\n",
    "# we will pick a threshold that will give the least fpr\n",
    "def find_best_threshold(threshould, fpr, tpr):\n",
    "    t = threshould[np.argmax(tpr*(1-fpr))]\n",
    "    # (tpr*(1-fpr)) will be maximum if your fpr is very low and tpr is very high\n",
    "    print(\"the maximum value of tpr*(1-fpr)\", max(tpr*(1-fpr)), \"for threshold\", np.round(t,3))\n",
    "    return t\n",
    "\n",
    "def predict_with_best_t(proba, threshould):\n",
    "    predictions = []\n",
    "    for i in proba:\n",
    "        if i>=threshould:\n",
    "            predictions.append(1)\n",
    "        else:\n",
    "            predictions.append(0)\n",
    "    return predictions"
   ]
  },
  {
   "cell_type": "code",
   "execution_count": 125,
   "metadata": {},
   "outputs": [
    {
     "name": "stdout",
     "output_type": "stream",
     "text": [
      "the maximum value of tpr*(1-fpr) 0.480891486698556 for threshold 0.408\n",
      "Train confusion matrix\n",
      "[[ 5146  2280]\n",
      " [12736 28879]]\n",
      "Test confusion matrix\n",
      "[[ 3338  2121]\n",
      " [ 9774 20819]]\n"
     ]
    }
   ],
   "source": [
    "best_t = find_best_threshold(tr_thresholds, train_fpr, train_tpr)\n",
    "print(\"Train confusion matrix\")\n",
    "print(confusion_matrix(y_train, predict_with_best_t(y_train_pred, best_t)))\n",
    "print(\"Test confusion matrix\")\n",
    "print(confusion_matrix(y_test, predict_with_best_t(y_test_pred, best_t)))"
   ]
  },
  {
   "cell_type": "code",
   "execution_count": 126,
   "metadata": {},
   "outputs": [
    {
     "name": "stdout",
     "output_type": "stream",
     "text": [
      "Train confusion matrix\n"
     ]
    },
    {
     "data": {
      "text/plain": [
       "<AxesSubplot:>"
      ]
     },
     "execution_count": 126,
     "metadata": {},
     "output_type": "execute_result"
    },
    {
     "data": {
      "image/png": "[encoded data removed]",
      "text/plain": [
       "<Figure size 432x288 with 2 Axes>"
      ]
     },
     "metadata": {
      "needs_background": "light"
     },
     "output_type": "display_data"
    }
   ],
   "source": [
    "import seaborn as sns\n",
    "import matplotlib.pyplot as plt  \n",
    "print(\"Train confusion matrix\")\n",
    "sns.heatmap((confusion_matrix(y_train, predict_with_best_t(y_train_pred, best_t))), annot=True,fmt=\"d\",cmap='Blues')"
   ]
  },
  {
   "cell_type": "code",
   "execution_count": 127,
   "metadata": {},
   "outputs": [
    {
     "name": "stdout",
     "output_type": "stream",
     "text": [
      "Test confusion matrix\n"
     ]
    },
    {
     "data": {
      "text/plain": [
       "<AxesSubplot:>"
      ]
     },
     "execution_count": 127,
     "metadata": {},
     "output_type": "execute_result"
    },
    {
     "data": {
      "image/png": "[encoded data removed]",
      "text/plain": [
       "<Figure size 432x288 with 2 Axes>"
      ]
     },
     "metadata": {
      "needs_background": "light"
     },
     "output_type": "display_data"
    }
   ],
   "source": [
    "import seaborn as sns\n",
    "import matplotlib.pyplot as plt  \n",
    "print(\"Test confusion matrix\")\n",
    "sns.heatmap((confusion_matrix(y_test, predict_with_best_t(y_test_pred, best_t))), annot=True,fmt=\"d\",cmap='Blues')"
   ]
  },
  {
   "cell_type": "markdown",
   "metadata": {},
   "source": [
    "# Summary"
   ]
  },
  {
   "cell_type": "code",
   "execution_count": 128,
   "metadata": {},
   "outputs": [],
   "source": [
    "# As we see in the matrix train and test \n",
    "\n",
    "# ---> true  positive(28879 , 20819) have good number with respect to the False Negative(2280 , 2121)\n",
    "#      in both train and test "
   ]
  },
  {
   "cell_type": "markdown",
   "metadata": {},
   "source": [
    "# -----------------------------------------------------------------------------------------------------------"
   ]
  },
  {
   "cell_type": "markdown",
   "metadata": {},
   "source": [
    "# -----------------------------------------------------------------------------------------------------------"
   ]
  },
  {
   "cell_type": "markdown",
   "metadata": {},
   "source": [
    "# Set 2: categorical, numerical features + preprocessed_eassay (TFIDF)++preprocessed_title(TFIDF)"
   ]
  },
  {
   "cell_type": "code",
   "execution_count": 129,
   "metadata": {},
   "outputs": [],
   "source": [
    "# merge two sparse matrices: https://stackoverflow.com/a/19710648/4084039\n",
    "from scipy.sparse import hstack\n",
    "X_tr_tfidf =  hstack((essay_tfidf_Xtrain, title_tfidf_Xtrain, resource_summary_tfidf_Xtrain, OHE_X_train_state, OHE_X_train_sub_cat, OHE_X_train_sub_sub_cat, OHE_X_tain_grade_catagory, OHE_X_tain_teacher_prefix, norm_X_train_price,norm_X_train_project_title_word, norm_X_train_project_essay_word, norm_X_train_previously_posted_projects, norm_X_train_quantity)).tocsr()\n",
    "X_cv_tfidf =  hstack((essay_tfidf_Xcv, title_tfidf_Xcv, resource_summary_tfidf_Xcv, OHE_X_cv_state, OHE_X_cv_sub_cat, OHE_X_cv_sub_sub_cat, OHE_X_cv_grade_catagory, OHE_X_cv_teacher_prefix, norm_X_cv_price, norm_X_cv_project_title_word, norm_X_cv_project_essay_word, norm_X_cv_previously_posted_projects, norm_X_cv_quantity)).tocsr()\n",
    "X_te_tfidf =  hstack((essay_tfidf_Xtest, title_tfidf_Xtest, resource_summary_tfidf_Xtest, OHE_X_test_state, OHE_X_test_sub_cat, OHE_X_test_sub_sub_cat, OHE_X_test_grade_catagory, OHE_X_test_teacher_prefix, norm_X_test_price, norm_X_test_project_title_word, norm_X_test_project_essay_word, norm_X_test_previously_posted_projects, norm_X_test_quantity)).tocsr()   "
   ]
  },
  {
   "cell_type": "code",
   "execution_count": 130,
   "metadata": {},
   "outputs": [
    {
     "name": "stdout",
     "output_type": "stream",
     "text": [
      "(49041, 13932)\n",
      "(24155, 13932)\n",
      "(36052, 13932)\n"
     ]
    }
   ],
   "source": [
    "print(X_tr_tfidf.shape)\n",
    "print(X_cv_tfidf.shape)\n",
    "print(X_te_tfidf.shape)"
   ]
  },
  {
   "cell_type": "markdown",
   "metadata": {},
   "source": [
    "# use batch wise method for Set-2(TFIDF)"
   ]
  },
  {
   "cell_type": "code",
   "execution_count": 131,
   "metadata": {},
   "outputs": [],
   "source": [
    "def batch_predict(clf, data):\n",
    "    # roc_auc_score(y_true, y_score) the 2nd parameter should be probability estimates of the positive class\n",
    "    # not the predicted outputs\n",
    "\n",
    "    y_data_pred = []\n",
    "    tr_loop = data.shape[0] - data.shape[0]%1000\n",
    "    # consider you X_tr shape is 49041, then your cr_loop will be 49041 - 49041%1000 = 49000\n",
    "    # in this for loop we will iterate unti the last 1000 multiplier\n",
    "    for i in range(0, tr_loop, 1000):\n",
    "        y_data_pred.extend(clf.predict_proba(data[i:i+1000])[:,1])\n",
    "    # we will be predicting for the last data points\n",
    "    y_data_pred.extend(clf.predict_proba(data[tr_loop:])[:,1])\n",
    "    \n",
    "    return y_data_pred"
   ]
  },
  {
   "cell_type": "code",
   "execution_count": 132,
   "metadata": {},
   "outputs": [
    {
     "name": "stderr",
     "output_type": "stream",
     "text": [
      "100%|██████████████████████████████████████████████████████████████████████████████████| 13/13 [00:03<00:00,  3.93it/s]\n"
     ]
    }
   ],
   "source": [
    "import matplotlib.pyplot as plt\n",
    "from sklearn.naive_bayes import MultinomialNB\n",
    "from sklearn.metrics import roc_auc_score\n",
    "import math\n",
    "\n",
    "train_auc = []\n",
    "cv_auc = []\n",
    "alphas = [0.0001,0.005,0.001,0.05,0.01,0.1,0.5,1,5,10,50,100,500]\n",
    "alphas_log=[]\n",
    "\n",
    "for i in tqdm(alphas):\n",
    "    log_alpha = math.log(i)\n",
    "    alphas_log.append(log_alpha)\n",
    "    prob_NB = MultinomialNB(alpha = i,class_prior=[0.5, 0.5]) # class_prior as per instructions\n",
    "    prob_NB.fit(X_tr_tfidf, y_train)\n",
    "    \n",
    "    y_train_pred = batch_predict(prob_NB, X_tr_tfidf)    \n",
    "    y_cv_pred = batch_predict(prob_NB, X_cv_tfidf)\n",
    "    \n",
    "    # roc_auc_score(y_true, y_score) the 2nd parameter should be probability estimates of the positive class\n",
    "    # not the predicted outputs        \n",
    "    train_auc.append(roc_auc_score(y_train,y_train_pred))\n",
    "    cv_auc.append(roc_auc_score(y_cv, y_cv_pred))"
   ]
  },
  {
   "cell_type": "code",
   "execution_count": 133,
   "metadata": {},
   "outputs": [
    {
     "data": {
      "image/png": "[encoded data removed]",
      "text/plain": [
       "<Figure size 720x720 with 1 Axes>"
      ]
     },
     "metadata": {
      "needs_background": "light"
     },
     "output_type": "display_data"
    }
   ],
   "source": [
    "plt.figure(figsize=(10,10)) #https://stackoverflow.com/questions/48429156/how-to-resize-matplotlib-scatter-plot\n",
    "plt.plot(alphas_log, train_auc, label='Train AUC')\n",
    "plt.plot(alphas_log, cv_auc, label='CV AUC')\n",
    "\n",
    "plt.scatter(alphas_log, train_auc, label='Train AUC points')\n",
    "plt.scatter(alphas_log, cv_auc, label='CV AUC points')\n",
    "\n",
    "plt.legend()\n",
    "plt.xlabel(\"alphas: hyperparameter\")\n",
    "plt.ylabel(\"AUC\")\n",
    "plt.title(\"ERROR PLOTS\")\n",
    "#https://stackoverflow.com/questions/8209568/how-do-i-draw-a-grid-onto-a-plot-in-python\n",
    "plt.rc('grid', linestyle=\"-\", color='black') \n",
    "plt.grid(True)\n",
    "plt.show()"
   ]
  },
  {
   "cell_type": "code",
   "execution_count": 134,
   "metadata": {},
   "outputs": [
    {
     "name": "stdout",
     "output_type": "stream",
     "text": [
      "alpha for the set-2 using batch method: Alpha_value = '1'  According to the Graph at 0 \n"
     ]
    }
   ],
   "source": [
    "print(\"alpha for the set-2 using batch method:\",\"Alpha_value = '1' \",\"According to the Graph at 0 \")"
   ]
  },
  {
   "cell_type": "markdown",
   "metadata": {},
   "source": [
    "# use GridSearchCV method for Set-2(TFIDF)"
   ]
  },
  {
   "cell_type": "code",
   "execution_count": 135,
   "metadata": {},
   "outputs": [
    {
     "name": "stdout",
     "output_type": "stream",
     "text": [
      "Fitting 10 folds for each of 13 candidates, totalling 130 fits\n",
      "[CV] END .......................................alpha=0.0001; total time=   0.0s\n",
      "[CV] END .......................................alpha=0.0001; total time=   0.0s\n",
      "[CV] END .......................................alpha=0.0001; total time=   0.0s\n",
      "[CV] END .......................................alpha=0.0001; total time=   0.0s\n",
      "[CV] END .......................................alpha=0.0001; total time=   0.0s\n",
      "[CV] END .......................................alpha=0.0001; total time=   0.0s\n",
      "[CV] END .......................................alpha=0.0001; total time=   0.0s\n",
      "[CV] END .......................................alpha=0.0001; total time=   0.0s\n",
      "[CV] END .......................................alpha=0.0001; total time=   0.0s\n",
      "[CV] END .......................................alpha=0.0001; total time=   0.0s\n",
      "[CV] END ........................................alpha=0.005; total time=   0.0s\n",
      "[CV] END ........................................alpha=0.005; total time=   0.0s\n",
      "[CV] END ........................................alpha=0.005; total time=   0.0s\n",
      "[CV] END ........................................alpha=0.005; total time=   0.0s\n",
      "[CV] END ........................................alpha=0.005; total time=   0.0s\n",
      "[CV] END ........................................alpha=0.005; total time=   0.0s\n",
      "[CV] END ........................................alpha=0.005; total time=   0.0s\n",
      "[CV] END ........................................alpha=0.005; total time=   0.0s\n",
      "[CV] END ........................................alpha=0.005; total time=   0.0s\n",
      "[CV] END ........................................alpha=0.005; total time=   0.0s\n",
      "[CV] END ........................................alpha=0.001; total time=   0.0s\n",
      "[CV] END ........................................alpha=0.001; total time=   0.0s\n",
      "[CV] END ........................................alpha=0.001; total time=   0.0s\n",
      "[CV] END ........................................alpha=0.001; total time=   0.0s\n",
      "[CV] END ........................................alpha=0.001; total time=   0.0s\n",
      "[CV] END ........................................alpha=0.001; total time=   0.0s\n",
      "[CV] END ........................................alpha=0.001; total time=   0.0s\n",
      "[CV] END ........................................alpha=0.001; total time=   0.0s\n",
      "[CV] END ........................................alpha=0.001; total time=   0.0s\n",
      "[CV] END ........................................alpha=0.001; total time=   0.0s\n",
      "[CV] END .........................................alpha=0.05; total time=   0.0s\n",
      "[CV] END .........................................alpha=0.05; total time=   0.0s\n",
      "[CV] END .........................................alpha=0.05; total time=   0.0s\n",
      "[CV] END .........................................alpha=0.05; total time=   0.0s\n",
      "[CV] END .........................................alpha=0.05; total time=   0.0s\n",
      "[CV] END .........................................alpha=0.05; total time=   0.0s\n",
      "[CV] END .........................................alpha=0.05; total time=   0.0s\n",
      "[CV] END .........................................alpha=0.05; total time=   0.0s\n",
      "[CV] END .........................................alpha=0.05; total time=   0.0s\n",
      "[CV] END .........................................alpha=0.05; total time=   0.0s\n",
      "[CV] END .........................................alpha=0.01; total time=   0.0s\n",
      "[CV] END .........................................alpha=0.01; total time=   0.0s\n",
      "[CV] END .........................................alpha=0.01; total time=   0.0s\n",
      "[CV] END .........................................alpha=0.01; total time=   0.0s\n",
      "[CV] END .........................................alpha=0.01; total time=   0.0s\n",
      "[CV] END .........................................alpha=0.01; total time=   0.0s\n",
      "[CV] END .........................................alpha=0.01; total time=   0.0s\n",
      "[CV] END .........................................alpha=0.01; total time=   0.0s\n",
      "[CV] END .........................................alpha=0.01; total time=   0.0s\n",
      "[CV] END .........................................alpha=0.01; total time=   0.0s\n",
      "[CV] END ..........................................alpha=0.1; total time=   0.0s\n",
      "[CV] END ..........................................alpha=0.1; total time=   0.0s\n",
      "[CV] END ..........................................alpha=0.1; total time=   0.0s\n",
      "[CV] END ..........................................alpha=0.1; total time=   0.0s\n",
      "[CV] END ..........................................alpha=0.1; total time=   0.0s\n",
      "[CV] END ..........................................alpha=0.1; total time=   0.0s\n",
      "[CV] END ..........................................alpha=0.1; total time=   0.0s\n",
      "[CV] END ..........................................alpha=0.1; total time=   0.0s\n",
      "[CV] END ..........................................alpha=0.1; total time=   0.0s\n",
      "[CV] END ..........................................alpha=0.1; total time=   0.0s\n",
      "[CV] END ..........................................alpha=0.5; total time=   0.0s\n",
      "[CV] END ..........................................alpha=0.5; total time=   0.0s\n",
      "[CV] END ..........................................alpha=0.5; total time=   0.0s\n",
      "[CV] END ..........................................alpha=0.5; total time=   0.0s\n",
      "[CV] END ..........................................alpha=0.5; total time=   0.0s\n",
      "[CV] END ..........................................alpha=0.5; total time=   0.0s\n",
      "[CV] END ..........................................alpha=0.5; total time=   0.0s\n",
      "[CV] END ..........................................alpha=0.5; total time=   0.0s\n",
      "[CV] END ..........................................alpha=0.5; total time=   0.0s\n",
      "[CV] END ..........................................alpha=0.5; total time=   0.0s\n",
      "[CV] END ............................................alpha=1; total time=   0.0s\n",
      "[CV] END ............................................alpha=1; total time=   0.0s\n",
      "[CV] END ............................................alpha=1; total time=   0.0s\n",
      "[CV] END ............................................alpha=1; total time=   0.0s\n",
      "[CV] END ............................................alpha=1; total time=   0.0s\n",
      "[CV] END ............................................alpha=1; total time=   0.0s\n",
      "[CV] END ............................................alpha=1; total time=   0.0s\n",
      "[CV] END ............................................alpha=1; total time=   0.0s\n",
      "[CV] END ............................................alpha=1; total time=   0.0s\n",
      "[CV] END ............................................alpha=1; total time=   0.0s\n",
      "[CV] END ............................................alpha=5; total time=   0.0s\n",
      "[CV] END ............................................alpha=5; total time=   0.0s\n",
      "[CV] END ............................................alpha=5; total time=   0.0s\n",
      "[CV] END ............................................alpha=5; total time=   0.0s\n",
      "[CV] END ............................................alpha=5; total time=   0.0s\n",
      "[CV] END ............................................alpha=5; total time=   0.0s\n",
      "[CV] END ............................................alpha=5; total time=   0.0s\n",
      "[CV] END ............................................alpha=5; total time=   0.0s\n",
      "[CV] END ............................................alpha=5; total time=   0.0s\n",
      "[CV] END ............................................alpha=5; total time=   0.0s\n",
      "[CV] END ...........................................alpha=10; total time=   0.0s\n",
      "[CV] END ...........................................alpha=10; total time=   0.0s\n",
      "[CV] END ...........................................alpha=10; total time=   0.0s\n",
      "[CV] END ...........................................alpha=10; total time=   0.0s\n",
      "[CV] END ...........................................alpha=10; total time=   0.0s\n",
      "[CV] END ...........................................alpha=10; total time=   0.0s\n",
      "[CV] END ...........................................alpha=10; total time=   0.0s\n",
      "[CV] END ...........................................alpha=10; total time=   0.0s\n",
      "[CV] END ...........................................alpha=10; total time=   0.0s\n",
      "[CV] END ...........................................alpha=10; total time=   0.0s\n",
      "[CV] END ...........................................alpha=50; total time=   0.0s\n"
     ]
    },
    {
     "name": "stdout",
     "output_type": "stream",
     "text": [
      "[CV] END ...........................................alpha=50; total time=   0.0s\n",
      "[CV] END ...........................................alpha=50; total time=   0.0s\n",
      "[CV] END ...........................................alpha=50; total time=   0.0s\n",
      "[CV] END ...........................................alpha=50; total time=   0.0s\n",
      "[CV] END ...........................................alpha=50; total time=   0.0s\n",
      "[CV] END ...........................................alpha=50; total time=   0.0s\n",
      "[CV] END ...........................................alpha=50; total time=   0.0s\n",
      "[CV] END ...........................................alpha=50; total time=   0.0s\n",
      "[CV] END ...........................................alpha=50; total time=   0.0s\n",
      "[CV] END ..........................................alpha=100; total time=   0.0s\n",
      "[CV] END ..........................................alpha=100; total time=   0.0s\n",
      "[CV] END ..........................................alpha=100; total time=   0.0s\n",
      "[CV] END ..........................................alpha=100; total time=   0.0s\n",
      "[CV] END ..........................................alpha=100; total time=   0.0s\n",
      "[CV] END ..........................................alpha=100; total time=   0.0s\n",
      "[CV] END ..........................................alpha=100; total time=   0.0s\n",
      "[CV] END ..........................................alpha=100; total time=   0.0s\n",
      "[CV] END ..........................................alpha=100; total time=   0.0s\n",
      "[CV] END ..........................................alpha=100; total time=   0.0s\n",
      "[CV] END ..........................................alpha=500; total time=   0.0s\n",
      "[CV] END ..........................................alpha=500; total time=   0.0s\n",
      "[CV] END ..........................................alpha=500; total time=   0.0s\n",
      "[CV] END ..........................................alpha=500; total time=   0.0s\n",
      "[CV] END ..........................................alpha=500; total time=   0.0s\n",
      "[CV] END ..........................................alpha=500; total time=   0.0s\n",
      "[CV] END ..........................................alpha=500; total time=   0.0s\n",
      "[CV] END ..........................................alpha=500; total time=   0.0s\n",
      "[CV] END ..........................................alpha=500; total time=   0.0s\n",
      "[CV] END ..........................................alpha=500; total time=   0.0s\n"
     ]
    }
   ],
   "source": [
    "# https://scikit-learn.org/stable/modules/generated/sklearn.model_selection.GridSearchCV.html\n",
    "from sklearn.model_selection import GridSearchCV\n",
    "\n",
    "prob_NB = MultinomialNB(class_prior=[0.5,0.5])\n",
    "parameters = {'alpha':[0.0001,0.005,0.001,0.05,0.01,0.1,0.5,1,5,10,50,100,500]}\n",
    "Grid_search = GridSearchCV(prob_NB, parameters, cv= 10, scoring='roc_auc',return_train_score=True,verbose=2,n_jobs=1)\n",
    "Grid_search.fit(X_tr_tfidf, y_train)\n",
    "\n",
    "results = pd.DataFrame.from_dict(Grid_search.cv_results_)\n",
    "results = results.sort_values(['param_alpha'])\n",
    "\n",
    "train_auc= results['mean_train_score']\n",
    "train_auc_std= results['std_train_score']\n",
    "cv_auc = results['mean_test_score'] \n",
    "cv_auc_std= results['std_test_score']\n",
    "alpha = results['param_alpha']\n",
    "\n",
    "log_alphas = []\n",
    "for alpha in alpha:\n",
    "    log_alphas.append(math.log(alpha))"
   ]
  },
  {
   "cell_type": "code",
   "execution_count": 136,
   "metadata": {},
   "outputs": [
    {
     "data": {
      "image/png": "[encoded data removed]",
      "text/plain": [
       "<Figure size 720x720 with 1 Axes>"
      ]
     },
     "metadata": {
      "needs_background": "light"
     },
     "output_type": "display_data"
    },
    {
     "data": {
      "text/html": [
       "<div>\n",
       "<style scoped>\n",
       "    .dataframe tbody tr th:only-of-type {\n",
       "        vertical-align: middle;\n",
       "    }\n",
       "\n",
       "    .dataframe tbody tr th {\n",
       "        vertical-align: top;\n",
       "    }\n",
       "\n",
       "    .dataframe thead th {\n",
       "        text-align: right;\n",
       "    }\n",
       "</style>\n",
       "<table border=\"1\" class=\"dataframe\">\n",
       "  <thead>\n",
       "    <tr style=\"text-align: right;\">\n",
       "      <th></th>\n",
       "      <th>mean_fit_time</th>\n",
       "      <th>std_fit_time</th>\n",
       "      <th>mean_score_time</th>\n",
       "      <th>std_score_time</th>\n",
       "      <th>param_alpha</th>\n",
       "      <th>params</th>\n",
       "      <th>split0_test_score</th>\n",
       "      <th>split1_test_score</th>\n",
       "      <th>split2_test_score</th>\n",
       "      <th>split3_test_score</th>\n",
       "      <th>...</th>\n",
       "      <th>split2_train_score</th>\n",
       "      <th>split3_train_score</th>\n",
       "      <th>split4_train_score</th>\n",
       "      <th>split5_train_score</th>\n",
       "      <th>split6_train_score</th>\n",
       "      <th>split7_train_score</th>\n",
       "      <th>split8_train_score</th>\n",
       "      <th>split9_train_score</th>\n",
       "      <th>mean_train_score</th>\n",
       "      <th>std_train_score</th>\n",
       "    </tr>\n",
       "  </thead>\n",
       "  <tbody>\n",
       "    <tr>\n",
       "      <th>0</th>\n",
       "      <td>0.070915</td>\n",
       "      <td>0.002923</td>\n",
       "      <td>0.007077</td>\n",
       "      <td>0.000878</td>\n",
       "      <td>0.0001</td>\n",
       "      <td>{'alpha': 0.0001}</td>\n",
       "      <td>0.668551</td>\n",
       "      <td>0.651586</td>\n",
       "      <td>0.649952</td>\n",
       "      <td>0.649110</td>\n",
       "      <td>...</td>\n",
       "      <td>0.797715</td>\n",
       "      <td>0.797986</td>\n",
       "      <td>0.796184</td>\n",
       "      <td>0.796953</td>\n",
       "      <td>0.796413</td>\n",
       "      <td>0.796336</td>\n",
       "      <td>0.796638</td>\n",
       "      <td>0.798097</td>\n",
       "      <td>0.797216</td>\n",
       "      <td>0.000789</td>\n",
       "    </tr>\n",
       "    <tr>\n",
       "      <th>2</th>\n",
       "      <td>0.069158</td>\n",
       "      <td>0.001458</td>\n",
       "      <td>0.006872</td>\n",
       "      <td>0.000312</td>\n",
       "      <td>0.001</td>\n",
       "      <td>{'alpha': 0.001}</td>\n",
       "      <td>0.672140</td>\n",
       "      <td>0.657732</td>\n",
       "      <td>0.655830</td>\n",
       "      <td>0.653863</td>\n",
       "      <td>...</td>\n",
       "      <td>0.796959</td>\n",
       "      <td>0.797206</td>\n",
       "      <td>0.795432</td>\n",
       "      <td>0.796257</td>\n",
       "      <td>0.795708</td>\n",
       "      <td>0.795610</td>\n",
       "      <td>0.795891</td>\n",
       "      <td>0.797336</td>\n",
       "      <td>0.796475</td>\n",
       "      <td>0.000772</td>\n",
       "    </tr>\n",
       "    <tr>\n",
       "      <th>1</th>\n",
       "      <td>0.068845</td>\n",
       "      <td>0.001102</td>\n",
       "      <td>0.007122</td>\n",
       "      <td>0.000422</td>\n",
       "      <td>0.005</td>\n",
       "      <td>{'alpha': 0.005}</td>\n",
       "      <td>0.676184</td>\n",
       "      <td>0.663360</td>\n",
       "      <td>0.662605</td>\n",
       "      <td>0.659616</td>\n",
       "      <td>...</td>\n",
       "      <td>0.795715</td>\n",
       "      <td>0.795938</td>\n",
       "      <td>0.794224</td>\n",
       "      <td>0.795084</td>\n",
       "      <td>0.794546</td>\n",
       "      <td>0.794420</td>\n",
       "      <td>0.794658</td>\n",
       "      <td>0.796092</td>\n",
       "      <td>0.795258</td>\n",
       "      <td>0.000745</td>\n",
       "    </tr>\n",
       "    <tr>\n",
       "      <th>4</th>\n",
       "      <td>0.070123</td>\n",
       "      <td>0.002841</td>\n",
       "      <td>0.006978</td>\n",
       "      <td>0.000632</td>\n",
       "      <td>0.01</td>\n",
       "      <td>{'alpha': 0.01}</td>\n",
       "      <td>0.678410</td>\n",
       "      <td>0.665938</td>\n",
       "      <td>0.666156</td>\n",
       "      <td>0.662825</td>\n",
       "      <td>...</td>\n",
       "      <td>0.794810</td>\n",
       "      <td>0.795023</td>\n",
       "      <td>0.793354</td>\n",
       "      <td>0.794222</td>\n",
       "      <td>0.793699</td>\n",
       "      <td>0.793559</td>\n",
       "      <td>0.793761</td>\n",
       "      <td>0.795198</td>\n",
       "      <td>0.794378</td>\n",
       "      <td>0.000730</td>\n",
       "    </tr>\n",
       "    <tr>\n",
       "      <th>3</th>\n",
       "      <td>0.068174</td>\n",
       "      <td>0.001062</td>\n",
       "      <td>0.006822</td>\n",
       "      <td>0.000313</td>\n",
       "      <td>0.05</td>\n",
       "      <td>{'alpha': 0.05}</td>\n",
       "      <td>0.684530</td>\n",
       "      <td>0.671884</td>\n",
       "      <td>0.675780</td>\n",
       "      <td>0.671944</td>\n",
       "      <td>...</td>\n",
       "      <td>0.791101</td>\n",
       "      <td>0.791261</td>\n",
       "      <td>0.789762</td>\n",
       "      <td>0.790606</td>\n",
       "      <td>0.790188</td>\n",
       "      <td>0.789990</td>\n",
       "      <td>0.790057</td>\n",
       "      <td>0.791491</td>\n",
       "      <td>0.790732</td>\n",
       "      <td>0.000675</td>\n",
       "    </tr>\n",
       "  </tbody>\n",
       "</table>\n",
       "<p>5 rows × 31 columns</p>\n",
       "</div>"
      ],
      "text/plain": [
       "   mean_fit_time  std_fit_time  mean_score_time  std_score_time param_alpha  \\\n",
       "0       0.070915      0.002923         0.007077        0.000878      0.0001   \n",
       "2       0.069158      0.001458         0.006872        0.000312       0.001   \n",
       "1       0.068845      0.001102         0.007122        0.000422       0.005   \n",
       "4       0.070123      0.002841         0.006978        0.000632        0.01   \n",
       "3       0.068174      0.001062         0.006822        0.000313        0.05   \n",
       "\n",
       "              params  split0_test_score  split1_test_score  split2_test_score  \\\n",
       "0  {'alpha': 0.0001}           0.668551           0.651586           0.649952   \n",
       "2   {'alpha': 0.001}           0.672140           0.657732           0.655830   \n",
       "1   {'alpha': 0.005}           0.676184           0.663360           0.662605   \n",
       "4    {'alpha': 0.01}           0.678410           0.665938           0.666156   \n",
       "3    {'alpha': 0.05}           0.684530           0.671884           0.675780   \n",
       "\n",
       "   split3_test_score  ...  split2_train_score  split3_train_score  \\\n",
       "0           0.649110  ...            0.797715            0.797986   \n",
       "2           0.653863  ...            0.796959            0.797206   \n",
       "1           0.659616  ...            0.795715            0.795938   \n",
       "4           0.662825  ...            0.794810            0.795023   \n",
       "3           0.671944  ...            0.791101            0.791261   \n",
       "\n",
       "   split4_train_score  split5_train_score  split6_train_score  \\\n",
       "0            0.796184            0.796953            0.796413   \n",
       "2            0.795432            0.796257            0.795708   \n",
       "1            0.794224            0.795084            0.794546   \n",
       "4            0.793354            0.794222            0.793699   \n",
       "3            0.789762            0.790606            0.790188   \n",
       "\n",
       "   split7_train_score  split8_train_score  split9_train_score  \\\n",
       "0            0.796336            0.796638            0.798097   \n",
       "2            0.795610            0.795891            0.797336   \n",
       "1            0.794420            0.794658            0.796092   \n",
       "4            0.793559            0.793761            0.795198   \n",
       "3            0.789990            0.790057            0.791491   \n",
       "\n",
       "   mean_train_score  std_train_score  \n",
       "0          0.797216         0.000789  \n",
       "2          0.796475         0.000772  \n",
       "1          0.795258         0.000745  \n",
       "4          0.794378         0.000730  \n",
       "3          0.790732         0.000675  \n",
       "\n",
       "[5 rows x 31 columns]"
      ]
     },
     "execution_count": 136,
     "metadata": {},
     "output_type": "execute_result"
    }
   ],
   "source": [
    "# https://scikit-learn.org/stable/modules/generated/sklearn.model_selection.GridSearchCV.html\n",
    "plt.figure(figsize=(10,10))\n",
    "plt.plot(log_alphas, train_auc, label='Train AUC')\n",
    "# this code is copied from here: https://stackoverflow.com/a/48803361/4084039\n",
    "plt.plot(log_alphas, cv_auc, label='CV AUC')\n",
    "# this code is copied from here: https://stackoverflow.com/a/48803361/4084039\n",
    "plt.scatter(log_alphas, train_auc, label='Train AUC points')\n",
    "plt.scatter(log_alphas, cv_auc, label='CV AUC points')\n",
    "\n",
    "\n",
    "plt.legend()\n",
    "plt.xlabel(\"alphas: hyperparameter\")\n",
    "plt.ylabel(\"AUC\")\n",
    "plt.title(\"Hyper parameter Vs AUC plot\")\n",
    "plt.grid()\n",
    "plt.show()\n",
    "\n",
    "results.head()"
   ]
  },
  {
   "cell_type": "code",
   "execution_count": 137,
   "metadata": {},
   "outputs": [
    {
     "data": {
      "image/png": "[encoded data removed]",
      "text/plain": [
       "<Figure size 720x720 with 1 Axes>"
      ]
     },
     "metadata": {
      "needs_background": "light"
     },
     "output_type": "display_data"
    }
   ],
   "source": [
    "# https://scikit-learn.org/stable/modules/generated/sklearn.metrics.roc_curve.html#sklearn.metrics.roc_curve\n",
    "from sklearn.metrics import roc_curve, auc\n",
    "set2_tfidf = MultinomialNB(alpha=1,class_prior=[0.5,0.5])\n",
    "set2_tfidf.fit(X_tr_bow, y_train)\n",
    "\n",
    "y_train_pred = batch_predict(set2_tfidf, X_tr_tfidf)    \n",
    "y_test_pred = batch_predict(set2_tfidf, X_te_tfidf)\n",
    "\n",
    "train_fpr, train_tpr, tr_thresholds = roc_curve(y_train, y_train_pred)\n",
    "test_fpr, test_tpr, te_thresholds = roc_curve(y_test, y_test_pred)\n",
    "\n",
    "plt.figure(figsize=(10,10))\n",
    "plt.plot(train_fpr, train_tpr, label=\"Train AUC =\"+str(auc(train_fpr, train_tpr)))\n",
    "plt.plot(test_fpr, test_tpr, label=\"Test AUC =\"+str(auc(test_fpr, test_tpr)))\n",
    "plt.legend()\n",
    "plt.ylabel(\"True Positive Rate(TPR)\")\n",
    "plt.xlabel(\"False Positive Rate(FPR)\")\n",
    "plt.title(\"AUC\")\n",
    "plt.rc('grid', linestyle=\"-\", color='black') \n",
    "plt.grid(True)\n",
    "plt.show()"
   ]
  },
  {
   "cell_type": "markdown",
   "metadata": {},
   "source": [
    "# Plot confusion matrix based on the best threshold value"
   ]
  },
  {
   "cell_type": "code",
   "execution_count": 138,
   "metadata": {},
   "outputs": [],
   "source": [
    "# confusion matrix with predicted and original labels of test data points"
   ]
  },
  {
   "cell_type": "code",
   "execution_count": 139,
   "metadata": {},
   "outputs": [],
   "source": [
    "from sklearn.metrics import confusion_matrix\n",
    "\n",
    "# we are writing our own function for predict, with defined thresould\n",
    "# we will pick a threshold that will give the least fpr\n",
    "def find_best_threshold(threshould, fpr, tpr):\n",
    "    t = threshould[np.argmax(tpr*(1-fpr))]\n",
    "    # (tpr*(1-fpr)) will be maximum if your fpr is very low and tpr is very high\n",
    "    print(\"the maximum value of tpr*(1-fpr)\", max(tpr*(1-fpr)), \"for threshold\", np.round(t,3))\n",
    "    return t\n",
    "\n",
    "def predict_with_best_t(proba, threshould):\n",
    "    predictions = []\n",
    "    for i in proba:\n",
    "        if i>=threshould:\n",
    "            predictions.append(1)\n",
    "        else:\n",
    "            predictions.append(0)\n",
    "    return predictions"
   ]
  },
  {
   "cell_type": "code",
   "execution_count": 140,
   "metadata": {},
   "outputs": [
    {
     "name": "stdout",
     "output_type": "stream",
     "text": [
      "the maximum value of tpr*(1-fpr) 0.4870680376227794 for threshold 0.304\n",
      "Train confusion matrix\n",
      "[[ 5133  2293]\n",
      " [12291 29324]]\n",
      "Test confusion matrix\n",
      "[[ 3135  2324]\n",
      " [ 9648 20945]]\n"
     ]
    }
   ],
   "source": [
    "best_t = find_best_threshold(tr_thresholds, train_fpr, train_tpr)\n",
    "print(\"Train confusion matrix\")\n",
    "print(confusion_matrix(y_train, predict_with_best_t(y_train_pred, best_t)))\n",
    "print(\"Test confusion matrix\")\n",
    "print(confusion_matrix(y_test, predict_with_best_t(y_test_pred, best_t)))"
   ]
  },
  {
   "cell_type": "code",
   "execution_count": 141,
   "metadata": {},
   "outputs": [
    {
     "name": "stdout",
     "output_type": "stream",
     "text": [
      "Train confusion matrix\n"
     ]
    },
    {
     "data": {
      "text/plain": [
       "<AxesSubplot:>"
      ]
     },
     "execution_count": 141,
     "metadata": {},
     "output_type": "execute_result"
    },
    {
     "data": {
      "image/png": "[encoded data removed]",
      "text/plain": [
       "<Figure size 432x288 with 2 Axes>"
      ]
     },
     "metadata": {
      "needs_background": "light"
     },
     "output_type": "display_data"
    }
   ],
   "source": [
    "import seaborn as sns\n",
    "import matplotlib.pyplot as plt  \n",
    "print(\"Train confusion matrix\")\n",
    "sns.heatmap((confusion_matrix(y_train, predict_with_best_t(y_train_pred, best_t))), annot=True,fmt=\"d\",cmap='Blues')"
   ]
  },
  {
   "cell_type": "code",
   "execution_count": 142,
   "metadata": {},
   "outputs": [
    {
     "name": "stdout",
     "output_type": "stream",
     "text": [
      "Test confusion matrix\n"
     ]
    },
    {
     "data": {
      "text/plain": [
       "<AxesSubplot:>"
      ]
     },
     "execution_count": 142,
     "metadata": {},
     "output_type": "execute_result"
    },
    {
     "data": {
      "image/png": "[encoded data removed]",
      "text/plain": [
       "<Figure size 432x288 with 2 Axes>"
      ]
     },
     "metadata": {
      "needs_background": "light"
     },
     "output_type": "display_data"
    }
   ],
   "source": [
    "import seaborn as sns\n",
    "import matplotlib.pyplot as plt  \n",
    "print(\"Test confusion matrix\")\n",
    "sns.heatmap((confusion_matrix(y_test, predict_with_best_t(y_test_pred, best_t))), annot=True,fmt=\"d\",cmap='Blues')"
   ]
  },
  {
   "cell_type": "markdown",
   "metadata": {},
   "source": [
    "# Summary"
   ]
  },
  {
   "cell_type": "code",
   "execution_count": 143,
   "metadata": {},
   "outputs": [],
   "source": [
    "# As we see in the matrix train and test (set-2)(TFIDF)\n",
    "\n",
    "# ---> true  positive(29324, 20945) have good number with respect to the False Negative(2293 , 2324)\n",
    "#      in both train and test"
   ]
  },
  {
   "cell_type": "code",
   "execution_count": 144,
   "metadata": {},
   "outputs": [],
   "source": [
    "# As we see in the matrix train and test \n",
    "\n",
    "# ---> true  positive(28879 , 20819) have good number with respect to the False Negative(2280 , 2121)\n",
    "#      in both train and test "
   ]
  },
  {
   "cell_type": "code",
   "execution_count": 145,
   "metadata": {},
   "outputs": [],
   "source": [
    "# as we clearly see the there is the ---->\n",
    "# increase in the number of Fasle Negative in the set-2  with respect to the set-1  \n",
    "# decrease in the True positive in set -1 with respect to the set-2"
   ]
  },
  {
   "cell_type": "code",
   "execution_count": 146,
   "metadata": {},
   "outputs": [],
   "source": [
    "# here we can see both model gives almost nearly results"
   ]
  },
  {
   "cell_type": "markdown",
   "metadata": {},
   "source": [
    "# top 20 features from either from feature Set 1 or feature Set 2 using values of `feature_log_prob_ ` parameter of `MultinomialNB`"
   ]
  },
  {
   "cell_type": "code",
   "execution_count": 147,
   "metadata": {},
   "outputs": [],
   "source": [
    "set1_bow = MultinomialNB(alpha =1 , class_prior=[0.5,0.5])\n",
    "set1_bow.fit(X_tr_bow, y_train)\n",
    "\n",
    "y_train_pred = batch_predict(set1_bow, X_tr_bow)    \n",
    "y_test_pred = batch_predict(set1_bow, X_te_bow)\n",
    "\n",
    "train_fpr, train_tpr, tr_thresholds = roc_curve(y_train, y_train_pred)\n",
    "test_fpr, test_tpr, te_thresholds = roc_curve(y_test, y_test_pred)"
   ]
  },
  {
   "cell_type": "code",
   "execution_count": 148,
   "metadata": {},
   "outputs": [],
   "source": [
    "# https://stackoverflow.com/questions/14131615/possible-to-append-multiple-lists-at-once-python\n",
    "from itertools import chain\n",
    "BOW_feature = (list(chain(eassy_feature,title_feature,summary_feature,teacher_prefix_feature,project_grade_category_feature,project_subject_subcategories_feature,project_subject_categories_feature,school_state_feature)))"
   ]
  },
  {
   "cell_type": "code",
   "execution_count": 149,
   "metadata": {},
   "outputs": [
    {
     "name": "stdout",
     "output_type": "stream",
     "text": [
      "['use', 'work', 'need', 'reading', 'nannan', 'many', 'students need', 'need', 'students', 'help', 'learn', 'not', 'classroom', 'learning', 'school', 'students']\n"
     ]
    }
   ],
   "source": [
    "# https://stackoverflow.com/questions/54988116/why-am-i-getting-almost-same-top-10-features-using-multinomial-naive-bayes-class\n",
    "\n",
    "#For Positive class\n",
    "positive_feature=[]\n",
    "sorted_idx_1 = np.argsort(set1_bow.feature_log_prob_[1,:])[-20:]\n",
    "for x in range(len(sorted_idx_1)):\n",
    "    if len(BOW_feature)<=sorted_idx_1[x]:\n",
    "        pass\n",
    "    elif BOW_feature[sorted_idx_1[x]]:\n",
    "        positive_feature.append(BOW_feature[sorted_idx_1[x]])\n",
    "    else:\n",
    "        pass\n",
    "print(positive_feature)"
   ]
  },
  {
   "cell_type": "code",
   "execution_count": 152,
   "metadata": {},
   "outputs": [
    {
     "name": "stdout",
     "output_type": "stream",
     "text": [
      "['come', 'work', 'need', 'many', 'nannan', 'students need', 'need', 'students', 'help', 'learn', 'not', 'classroom', 'learning', 'school', 'students']\n"
     ]
    }
   ],
   "source": [
    "# https://stackoverflow.com/questions/54988116/why-am-i-getting-almost-same-top-10-features-using-multinomial-naive-bayes-class\n",
    "\n",
    "#For Negative class\n",
    "Negative_feature=[]\n",
    "sorted_idx_0 = np.argsort(set1_bow.feature_log_prob_[0,:])[-20:]\n",
    "for x in range(len(sorted_idx_1)):\n",
    "    if len(BOW_feature)<=sorted_idx_0[x]:\n",
    "        pass\n",
    "    elif BOW_feature[sorted_idx_0[x]]:\n",
    "        Negative_feature.append(BOW_feature[sorted_idx_0[x]])\n",
    "    else:\n",
    "        pass\n",
    "print(Negative_feature)     "
   ]
  },
  {
   "cell_type": "code",
   "execution_count": 153,
   "metadata": {},
   "outputs": [],
   "source": [
    "# summary--->  here we can see that there are some words which are common but some remain unique "
   ]
  },
  {
   "cell_type": "code",
   "execution_count": 154,
   "metadata": {},
   "outputs": [
    {
     "name": "stdout",
     "output_type": "stream",
     "text": [
      "+------------+-------------+-----------------------+------------+-----------+\n",
      "| Vectorizer |    Model    | Alpha-Hyper Parameter |  Train-AUC |  Test_AUC |\n",
      "+------------+-------------+-----------------------+------------+-----------+\n",
      "|    BOW     | Naive Bayes |           1           |    0.75    |    0.7    |\n",
      "|   TFIDF    | Naive Bayes |           1           |    0.76    |    0.68   |\n",
      "+------------+-------------+-----------------------+------------+-----------+\n"
     ]
    }
   ],
   "source": [
    "# Please compare all your models using Prettytable library\n",
    "# http://zetcode.com/python/prettytable/\n",
    "\n",
    "from prettytable import PrettyTable\n",
    "tabular_data = PrettyTable()\n",
    "tabular_data.field_names = [\"Vectorizer\", \"Model\", \"Alpha-Hyper Parameter\", \" Train-AUC\", \" Test_AUC\"]\n",
    "\n",
    "tabular_data.add_row([\"BOW\", \"Naive Bayes\", 1, 0.75, 0.70])\n",
    "tabular_data.add_row([\"TFIDF\", \"Naive Bayes\", 1, 0.76, 0.68])\n",
    "\n",
    "print(tabular_data)"
   ]
  }
 ],
 "metadata": {
  "colab": {
   "collapsed_sections": [],
   "name": "6_Assignment_NB_Instructions.ipynb",
   "provenance": []
  },
  "kernelspec": {
   "display_name": "Python 3 (ipykernel)",
   "language": "python",
   "name": "python3"
  },
  "language_info": {
   "codemirror_mode": {
    "name": "ipython",
    "version": 3
   },
   "file_extension": ".py",
   "mimetype": "text/x-python",
   "name": "python",
   "nbconvert_exporter": "python",
   "pygments_lexer": "ipython3",
   "version": "3.10.1"
  }
 },
 "nbformat": 4,
 "nbformat_minor": 1
}
